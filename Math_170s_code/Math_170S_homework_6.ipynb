{
 "cells": [
  {
   "cell_type": "code",
   "execution_count": 1,
   "id": "a54df137",
   "metadata": {},
   "outputs": [
    {
     "data": {
      "image/png": "[encoded data removed]",
      "text/plain": [
       "<Figure size 432x288 with 1 Axes>"
      ]
     },
     "metadata": {},
     "output_type": "display_data"
    }
   ],
   "source": [
    "import numpy as np\n",
    "import matplotlib.pyplot as plt\n",
    "from scipy import stats as stats\n",
    "plt.style.use('ggplot')\n",
    "fvc=np.array([3.4, 3.6, 3.8, 3.3, 3.4, 3.5, 3.7, 3.6, 3.7])\n",
    "mean=np.mean(fvc)\n",
    "std=np.std(fvc,ddof=1)\n",
    "x=np.linspace(-5, 5,1000)\n",
    "iq=stats.t(8)\n",
    "plt.plot(3.4+std/3*x,iq.pdf(x),'b',label=\"t-distribution df=8\")\n",
    "t_alpha=stats.t.ppf(0.95,df=8)\n",
    "px=np.arange(t_alpha,5,0.01)\n",
    "plt.fill_between(3.4+std/3*px,iq.pdf(px),color='r',label=\"critical region\")\n",
    "plt.legend()\n",
    "plt.title(\"pdf of $\\overline{x}$ under $H_0$\")\n",
    "plt.savefig(\"170S_hw_6_Q_1\")\n",
    "plt.show()"
   ]
  },
  {
   "cell_type": "code",
   "execution_count": 17,
   "id": "28503d63",
   "metadata": {},
   "outputs": [],
   "source": [
    "t_stat=(mean-3.4)/(std/3)"
   ]
  },
  {
   "cell_type": "code",
   "execution_count": 19,
   "id": "170da562",
   "metadata": {},
   "outputs": [],
   "source": [
    "p=1-stats.t.cdf(t_stat,df=8)"
   ]
  },
  {
   "cell_type": "code",
   "execution_count": 20,
   "id": "1a63a886",
   "metadata": {},
   "outputs": [
    {
     "data": {
      "text/plain": [
       "0.011598920654573242"
      ]
     },
     "execution_count": 20,
     "metadata": {},
     "output_type": "execute_result"
    }
   ],
   "source": [
    "p"
   ]
  },
  {
   "cell_type": "code",
   "execution_count": 27,
   "id": "3e96cb40",
   "metadata": {},
   "outputs": [
    {
     "data": {
      "text/plain": [
       "3.5555555555555554"
      ]
     },
     "execution_count": 27,
     "metadata": {},
     "output_type": "execute_result"
    }
   ],
   "source": [
    "mean"
   ]
  },
  {
   "cell_type": "code",
   "execution_count": 28,
   "id": "1943db33",
   "metadata": {},
   "outputs": [
    {
     "data": {
      "text/plain": [
       "0.1666666666666667"
      ]
     },
     "execution_count": 28,
     "metadata": {},
     "output_type": "execute_result"
    }
   ],
   "source": [
    "std"
   ]
  },
  {
   "cell_type": "code",
   "execution_count": 29,
   "id": "7485826b",
   "metadata": {},
   "outputs": [
    {
     "data": {
      "text/plain": [
       "2.799999999999997"
      ]
     },
     "execution_count": 29,
     "metadata": {},
     "output_type": "execute_result"
    }
   ],
   "source": [
    "t_stat"
   ]
  },
  {
   "cell_type": "code",
   "execution_count": 37,
   "id": "46241cc4",
   "metadata": {},
   "outputs": [],
   "source": [
    "import math"
   ]
  },
  {
   "cell_type": "code",
   "execution_count": 46,
   "id": "518a0669",
   "metadata": {},
   "outputs": [],
   "source": [
    "z_alpha=(6-8)/math.sqrt(100*0.08*(1-0.08))"
   ]
  },
  {
   "cell_type": "code",
   "execution_count": 47,
   "id": "6e0fd61f",
   "metadata": {},
   "outputs": [
    {
     "data": {
      "text/plain": [
       "0.230497393212789"
      ]
     },
     "execution_count": 47,
     "metadata": {},
     "output_type": "execute_result"
    }
   ],
   "source": [
    "stats.norm.cdf(z_alpha)"
   ]
  },
  {
   "cell_type": "code",
   "execution_count": 48,
   "id": "ed567309",
   "metadata": {},
   "outputs": [
    {
     "data": {
      "text/plain": [
       "-0.7372097807744856"
      ]
     },
     "execution_count": 48,
     "metadata": {},
     "output_type": "execute_result"
    }
   ],
   "source": [
    "z_alpha"
   ]
  },
  {
   "cell_type": "code",
   "execution_count": 54,
   "id": "088f8106",
   "metadata": {},
   "outputs": [
    {
     "data": {
      "text/plain": [
       "0.3031559914686851"
      ]
     },
     "execution_count": 54,
     "metadata": {},
     "output_type": "execute_result"
    }
   ],
   "source": [
    "np.sum(np.array([math.comb(100,k)*(0.08**k)*(0.92**(100-k)) for k in np.arange(7)]))"
   ]
  },
  {
   "cell_type": "code",
   "execution_count": 58,
   "id": "92cf4d1f",
   "metadata": {},
   "outputs": [
    {
     "data": {
      "text/plain": [
       "0.09121121972586788"
      ]
     },
     "execution_count": 58,
     "metadata": {},
     "output_type": "execute_result"
    }
   ],
   "source": [
    "stats.norm.cdf((152-0.75*192)/math.sqrt(192*0.75*0.25))"
   ]
  },
  {
   "cell_type": "code",
   "execution_count": 59,
   "id": "72851ffc",
   "metadata": {},
   "outputs": [
    {
     "data": {
      "text/plain": [
       "1.3333333333333333"
      ]
     },
     "execution_count": 59,
     "metadata": {},
     "output_type": "execute_result"
    }
   ],
   "source": [
    "(152-0.75*192)/math.sqrt(192*0.75*0.25)"
   ]
  },
  {
   "cell_type": "code",
   "execution_count": 60,
   "id": "ae82b7e1",
   "metadata": {},
   "outputs": [
    {
     "data": {
      "text/plain": [
       "36.34865386339856"
      ]
     },
     "execution_count": 60,
     "metadata": {},
     "output_type": "execute_result"
    }
   ],
   "source": [
    "(152-0.08*192)/math.sqrt(192*0.08*0.92)"
   ]
  },
  {
   "cell_type": "code",
   "execution_count": 61,
   "id": "f689956d",
   "metadata": {},
   "outputs": [
    {
     "data": {
      "text/plain": [
       "1.0"
      ]
     },
     "execution_count": 61,
     "metadata": {},
     "output_type": "execute_result"
    }
   ],
   "source": [
    "stats.norm.cdf((152-0.08*192)/math.sqrt(192*0.08*0.92))"
   ]
  },
  {
   "cell_type": "code",
   "execution_count": 75,
   "id": "0dc758f2",
   "metadata": {},
   "outputs": [],
   "source": [
    "X=np.array([2.88,3.67,2.76,2.34,2.46,3.20,3.17,2.90,3.98,4.00,3.39,2.59,2.78,2.85,3.25])\n",
    "Y=np.array([3.22,3.49,2.54,2.17,2.53,2.98,2.98,2.84,3.76,3.96,3.52,2.36,2.62,3.06,3.16])"
   ]
  },
  {
   "cell_type": "code",
   "execution_count": 76,
   "id": "3fc6b588",
   "metadata": {},
   "outputs": [],
   "source": [
    "diff=X-Y"
   ]
  },
  {
   "cell_type": "code",
   "execution_count": 88,
   "id": "a2686d07",
   "metadata": {},
   "outputs": [
    {
     "data": {
      "text/plain": [
       "array([-0.34,  0.18,  0.22,  0.17, -0.07,  0.22,  0.19,  0.06,  0.22,\n",
       "        0.04, -0.13,  0.23,  0.16, -0.21,  0.09])"
      ]
     },
     "execution_count": 88,
     "metadata": {},
     "output_type": "execute_result"
    }
   ],
   "source": [
    "diff"
   ]
  },
  {
   "cell_type": "code",
   "execution_count": 89,
   "id": "8242e2f5",
   "metadata": {},
   "outputs": [],
   "source": [
    "abs_diff=abs(diff)\n",
    "abs_diff.sort()"
   ]
  },
  {
   "cell_type": "code",
   "execution_count": 93,
   "id": "5cedf4c1",
   "metadata": {},
   "outputs": [
    {
     "data": {
      "text/plain": [
       "54"
      ]
     },
     "execution_count": 93,
     "metadata": {},
     "output_type": "execute_result"
    }
   ],
   "source": [
    "W=0\n",
    "for i,x in enumerate(abs_diff):\n",
    "    if x in diff:\n",
    "        W+=(i+1)\n",
    "    else:\n",
    "        W-=(i+1)\n",
    "W"
   ]
  },
  {
   "cell_type": "code",
   "execution_count": 91,
   "id": "a7ae4e19",
   "metadata": {},
   "outputs": [
    {
     "data": {
      "text/plain": [
       "0.1599999999999997"
      ]
     },
     "execution_count": 91,
     "metadata": {},
     "output_type": "execute_result"
    }
   ],
   "source": [
    "np.median(diff)"
   ]
  },
  {
   "cell_type": "code",
   "execution_count": 94,
   "id": "fceaa22a",
   "metadata": {},
   "outputs": [
    {
     "data": {
      "text/plain": [
       "0.06257672848144213"
      ]
     },
     "execution_count": 94,
     "metadata": {},
     "output_type": "execute_result"
    }
   ],
   "source": [
    "1-stats.norm.cdf(W/math.sqrt(15*16*31/6))"
   ]
  },
  {
   "cell_type": "code",
   "execution_count": 3,
   "id": "11364bd8",
   "metadata": {},
   "outputs": [
    {
     "data": {
      "text/plain": [
       "3.5033082243068243"
      ]
     },
     "execution_count": 3,
     "metadata": {},
     "output_type": "execute_result"
    }
   ],
   "source": [
    "3.4+std/3*stats.t.ppf(0.95,df=8)"
   ]
  },
  {
   "cell_type": "code",
   "execution_count": null,
   "id": "42f22d35",
   "metadata": {},
   "outputs": [],
   "source": []
  }
 ],
 "metadata": {
  "kernelspec": {
   "display_name": "Python 3",
   "language": "python",
   "name": "python3"
  },
  "language_info": {
   "codemirror_mode": {
    "name": "ipython",
    "version": 3
   },
   "file_extension": ".py",
   "mimetype": "text/x-python",
   "name": "python",
   "nbconvert_exporter": "python",
   "pygments_lexer": "ipython3",
   "version": "3.8.8"
  }
 },
 "nbformat": 4,
 "nbformat_minor": 5
}
