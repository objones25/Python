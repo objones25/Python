{
 "cells": [
  {
   "cell_type": "code",
   "execution_count": 1,
   "id": "7480582f",
   "metadata": {},
   "outputs": [],
   "source": [
    "import numpy as np\n",
    "import pandas as pd\n",
    "import matplotlib.pyplot as plt\n",
    "import seaborn as sns\n",
    "import scipy.stats as st\n",
    "import math"
   ]
  },
  {
   "cell_type": "code",
   "execution_count": 2,
   "id": "a5077865",
   "metadata": {},
   "outputs": [],
   "source": [
    "question_1=np.array([12.3, 14.2, 13.8, 14.5, 15.1, 12.7, 13.9, 15.2, 13.6, 14.0, 14.8, 14.4, 13.0, 14.7\n",
    "])"
   ]
  },
  {
   "cell_type": "code",
   "execution_count": 3,
   "id": "508f046d",
   "metadata": {},
   "outputs": [],
   "source": [
    "sigma_1=4"
   ]
  },
  {
   "cell_type": "code",
   "execution_count": 4,
   "id": "5c48c17c",
   "metadata": {},
   "outputs": [],
   "source": [
    "n_1=len(question_1)"
   ]
  },
  {
   "cell_type": "code",
   "execution_count": 5,
   "id": "c6e10e47",
   "metadata": {},
   "outputs": [
    {
     "data": {
      "text/plain": [
       "14.014285714285714"
      ]
     },
     "execution_count": 5,
     "metadata": {},
     "output_type": "execute_result"
    }
   ],
   "source": [
    "mean_1=np.mean(question_1)\n",
    "mean_1"
   ]
  },
  {
   "cell_type": "code",
   "execution_count": 6,
   "id": "b1729f67",
   "metadata": {},
   "outputs": [
    {
     "data": {
      "text/plain": [
       "2.5758293035489004"
      ]
     },
     "execution_count": 6,
     "metadata": {},
     "output_type": "execute_result"
    }
   ],
   "source": [
    "z_99=st.norm.ppf(0.995)\n",
    "z_99"
   ]
  },
  {
   "cell_type": "code",
   "execution_count": 7,
   "id": "84fe999c",
   "metadata": {},
   "outputs": [
    {
     "data": {
      "text/plain": [
       "16.76796306876929"
      ]
     },
     "execution_count": 7,
     "metadata": {},
     "output_type": "execute_result"
    }
   ],
   "source": [
    "b_1=mean_1+z_99*sigma_1/math.sqrt(n_1)\n",
    "b_1"
   ]
  },
  {
   "cell_type": "code",
   "execution_count": 8,
   "id": "0d872a88",
   "metadata": {},
   "outputs": [
    {
     "data": {
      "text/plain": [
       "11.260608359802138"
      ]
     },
     "execution_count": 8,
     "metadata": {},
     "output_type": "execute_result"
    }
   ],
   "source": [
    "a_1=mean_1-z_99*sigma_1/math.sqrt(n_1)\n",
    "a_1"
   ]
  },
  {
   "cell_type": "code",
   "execution_count": 9,
   "id": "cf7680b9",
   "metadata": {},
   "outputs": [],
   "source": [
    "question_2=np.array([72, 116, 79, 97, 90, 67, 115, 82, 95, 82])"
   ]
  },
  {
   "cell_type": "code",
   "execution_count": 10,
   "id": "26d651f4",
   "metadata": {},
   "outputs": [
    {
     "data": {
      "text/plain": [
       "16.58144880414388"
      ]
     },
     "execution_count": 10,
     "metadata": {},
     "output_type": "execute_result"
    }
   ],
   "source": [
    "sigma_2=np.std(question_2,ddof=1)\n",
    "sigma_2"
   ]
  },
  {
   "cell_type": "code",
   "execution_count": 11,
   "id": "c62a11e2",
   "metadata": {},
   "outputs": [],
   "source": [
    "n_2=len(question_2)"
   ]
  },
  {
   "cell_type": "code",
   "execution_count": 12,
   "id": "a9d9f6c2",
   "metadata": {},
   "outputs": [
    {
     "data": {
      "text/plain": [
       "89.5"
      ]
     },
     "execution_count": 12,
     "metadata": {},
     "output_type": "execute_result"
    }
   ],
   "source": [
    "mean_2=np.mean(question_2)\n",
    "mean_2"
   ]
  },
  {
   "cell_type": "code",
   "execution_count": 13,
   "id": "f21b5811",
   "metadata": {},
   "outputs": [
    {
     "data": {
      "text/plain": [
       "2.2621571627409915"
      ]
     },
     "execution_count": 13,
     "metadata": {},
     "output_type": "execute_result"
    }
   ],
   "source": [
    "t_95=st.t.ppf(0.975,n_2-1)\n",
    "t_95"
   ]
  },
  {
   "cell_type": "code",
   "execution_count": 14,
   "id": "aa4cfa03",
   "metadata": {},
   "outputs": [
    {
     "data": {
      "text/plain": [
       "77.63834608725665"
      ]
     },
     "execution_count": 14,
     "metadata": {},
     "output_type": "execute_result"
    }
   ],
   "source": [
    "a_2=mean_2-t_95*sigma_2/math.sqrt(n_2)\n",
    "a_2"
   ]
  },
  {
   "cell_type": "code",
   "execution_count": 15,
   "id": "bc686ac6",
   "metadata": {},
   "outputs": [
    {
     "data": {
      "text/plain": [
       "101.36165391274335"
      ]
     },
     "execution_count": 15,
     "metadata": {},
     "output_type": "execute_result"
    }
   ],
   "source": [
    "b_2=mean_2+t_95*sigma_2/math.sqrt(n_2)\n",
    "b_2"
   ]
  },
  {
   "cell_type": "code",
   "execution_count": 16,
   "id": "c46ef800",
   "metadata": {},
   "outputs": [
    {
     "data": {
      "text/plain": [
       "0.06731776017838348"
      ]
     },
     "execution_count": 16,
     "metadata": {},
     "output_type": "execute_result"
    }
   ],
   "source": [
    "st.gamma.ppf(0.1,a=15,scale=1/(153))"
   ]
  },
  {
   "cell_type": "code",
   "execution_count": 17,
   "id": "2533e51b",
   "metadata": {},
   "outputs": [
    {
     "data": {
      "text/plain": [
       "0.13155563313304508"
      ]
     },
     "execution_count": 17,
     "metadata": {},
     "output_type": "execute_result"
    }
   ],
   "source": [
    "st.gamma.ppf(0.9,a=15,scale=1/(153))"
   ]
  },
  {
   "cell_type": "code",
   "execution_count": 18,
   "id": "d1ec7efc",
   "metadata": {},
   "outputs": [
    {
     "data": {
      "text/plain": [
       "0.8413447460685429"
      ]
     },
     "execution_count": 18,
     "metadata": {},
     "output_type": "execute_result"
    }
   ],
   "source": [
    "st.norm.cdf(1)"
   ]
  },
  {
   "cell_type": "code",
   "execution_count": 19,
   "id": "25d96344",
   "metadata": {},
   "outputs": [
    {
     "data": {
      "text/plain": [
       "0.15865525393145707"
      ]
     },
     "execution_count": 19,
     "metadata": {},
     "output_type": "execute_result"
    }
   ],
   "source": [
    "1-st.norm.cdf(1)"
   ]
  },
  {
   "cell_type": "code",
   "execution_count": 20,
   "id": "09e0d487",
   "metadata": {},
   "outputs": [
    {
     "data": {
      "text/plain": [
       "5.302974375068753"
      ]
     },
     "execution_count": 20,
     "metadata": {},
     "output_type": "execute_result"
    }
   ],
   "source": [
    "st.norm.cdf(1)/(1-st.norm.cdf(1))"
   ]
  },
  {
   "cell_type": "code",
   "execution_count": 26,
   "id": "3f8c57ef",
   "metadata": {},
   "outputs": [],
   "source": [
    "mu=(175/25+176*10/9)/(1/25+10/9)"
   ]
  },
  {
   "cell_type": "code",
   "execution_count": 27,
   "id": "a28f2838",
   "metadata": {},
   "outputs": [],
   "source": [
    "s=1/(1/25+10/9)"
   ]
  },
  {
   "cell_type": "code",
   "execution_count": 28,
   "id": "d2fe281f",
   "metadata": {},
   "outputs": [
    {
     "data": {
      "text/plain": [
       "0.15019059769993914"
      ]
     },
     "execution_count": 28,
     "metadata": {},
     "output_type": "execute_result"
    }
   ],
   "source": [
    "st.norm.cdf((175-mu)/math.sqrt(s))"
   ]
  },
  {
   "cell_type": "code",
   "execution_count": 29,
   "id": "cd2448a6",
   "metadata": {},
   "outputs": [
    {
     "data": {
      "text/plain": [
       "0.17673445044669917"
      ]
     },
     "execution_count": 29,
     "metadata": {},
     "output_type": "execute_result"
    }
   ],
   "source": [
    "st.norm.cdf((175-mu)/math.sqrt(s))/(1-st.norm.cdf((175-mu)/math.sqrt(s)))"
   ]
  }
 ],
 "metadata": {
  "kernelspec": {
   "display_name": "Python 3",
   "language": "python",
   "name": "python3"
  },
  "language_info": {
   "codemirror_mode": {
    "name": "ipython",
    "version": 3
   },
   "file_extension": ".py",
   "mimetype": "text/x-python",
   "name": "python",
   "nbconvert_exporter": "python",
   "pygments_lexer": "ipython3",
   "version": "3.8.8"
  }
 },
 "nbformat": 4,
 "nbformat_minor": 5
}
