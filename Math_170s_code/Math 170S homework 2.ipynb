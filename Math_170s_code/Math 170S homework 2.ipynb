{
 "cells": [
  {
   "cell_type": "code",
   "execution_count": 1,
   "id": "8e9dc1ab",
   "metadata": {},
   "outputs": [],
   "source": [
    "import numpy as np\n",
    "import pandas as pd\n",
    "import matplotlib.pyplot as plt\n",
    "import seaborn as sns"
   ]
  },
  {
   "cell_type": "code",
   "execution_count": 2,
   "id": "e404d2e4",
   "metadata": {},
   "outputs": [],
   "source": [
    "df=pd.DataFrame({\"midterm\":[62, 74, 66, 30, 84, 45, 14, 70, 82, 42],\n",
    "                \"final\":[71, 84, 76, 36, 95, 53, 18, 80, 93, 49]})"
   ]
  },
  {
   "cell_type": "code",
   "execution_count": 3,
   "id": "7c3e6d29",
   "metadata": {},
   "outputs": [
    {
     "data": {
      "text/html": [
       "<div>\n",
       "<style scoped>\n",
       "    .dataframe tbody tr th:only-of-type {\n",
       "        vertical-align: middle;\n",
       "    }\n",
       "\n",
       "    .dataframe tbody tr th {\n",
       "        vertical-align: top;\n",
       "    }\n",
       "\n",
       "    .dataframe thead th {\n",
       "        text-align: right;\n",
       "    }\n",
       "</style>\n",
       "<table border=\"1\" class=\"dataframe\">\n",
       "  <thead>\n",
       "    <tr style=\"text-align: right;\">\n",
       "      <th></th>\n",
       "      <th>midterm</th>\n",
       "      <th>final</th>\n",
       "    </tr>\n",
       "  </thead>\n",
       "  <tbody>\n",
       "    <tr>\n",
       "      <th>0</th>\n",
       "      <td>62</td>\n",
       "      <td>71</td>\n",
       "    </tr>\n",
       "    <tr>\n",
       "      <th>1</th>\n",
       "      <td>74</td>\n",
       "      <td>84</td>\n",
       "    </tr>\n",
       "    <tr>\n",
       "      <th>2</th>\n",
       "      <td>66</td>\n",
       "      <td>76</td>\n",
       "    </tr>\n",
       "    <tr>\n",
       "      <th>3</th>\n",
       "      <td>30</td>\n",
       "      <td>36</td>\n",
       "    </tr>\n",
       "    <tr>\n",
       "      <th>4</th>\n",
       "      <td>84</td>\n",
       "      <td>95</td>\n",
       "    </tr>\n",
       "    <tr>\n",
       "      <th>5</th>\n",
       "      <td>45</td>\n",
       "      <td>53</td>\n",
       "    </tr>\n",
       "    <tr>\n",
       "      <th>6</th>\n",
       "      <td>14</td>\n",
       "      <td>18</td>\n",
       "    </tr>\n",
       "    <tr>\n",
       "      <th>7</th>\n",
       "      <td>70</td>\n",
       "      <td>80</td>\n",
       "    </tr>\n",
       "    <tr>\n",
       "      <th>8</th>\n",
       "      <td>82</td>\n",
       "      <td>93</td>\n",
       "    </tr>\n",
       "    <tr>\n",
       "      <th>9</th>\n",
       "      <td>42</td>\n",
       "      <td>49</td>\n",
       "    </tr>\n",
       "  </tbody>\n",
       "</table>\n",
       "</div>"
      ],
      "text/plain": [
       "   midterm  final\n",
       "0       62     71\n",
       "1       74     84\n",
       "2       66     76\n",
       "3       30     36\n",
       "4       84     95\n",
       "5       45     53\n",
       "6       14     18\n",
       "7       70     80\n",
       "8       82     93\n",
       "9       42     49"
      ]
     },
     "execution_count": 3,
     "metadata": {},
     "output_type": "execute_result"
    }
   ],
   "source": [
    "df"
   ]
  },
  {
   "cell_type": "code",
   "execution_count": 25,
   "id": "2f6fe7c0",
   "metadata": {},
   "outputs": [],
   "source": [
    "a=np.mean((df.midterm-np.mean(df.midterm))*(df.final-np.mean(df.final)))*10/9"
   ]
  },
  {
   "cell_type": "code",
   "execution_count": 26,
   "id": "46dcecaf",
   "metadata": {},
   "outputs": [],
   "source": [
    "b=np.mean((df.midterm-np.mean(df.midterm))**2)*10/9"
   ]
  },
  {
   "cell_type": "code",
   "execution_count": 27,
   "id": "00569b3d",
   "metadata": {},
   "outputs": [
    {
     "data": {
      "text/plain": [
       "1.0987892865218198"
      ]
     },
     "execution_count": 27,
     "metadata": {},
     "output_type": "execute_result"
    }
   ],
   "source": [
    "a/b"
   ]
  },
  {
   "cell_type": "code",
   "execution_count": 18,
   "id": "a8d8abcd",
   "metadata": {},
   "outputs": [
    {
     "data": {
      "text/plain": [
       "1.0987892865218198"
      ]
     },
     "execution_count": 18,
     "metadata": {},
     "output_type": "execute_result"
    }
   ],
   "source": [
    "np.cov(df.final,df.midterm)[0][1]/np.var(df.midterm,ddof=1)"
   ]
  },
  {
   "cell_type": "code",
   "execution_count": 12,
   "id": "e4711a16",
   "metadata": {},
   "outputs": [
    {
     "data": {
      "text/plain": [
       "array([1.09878929, 2.9788896 ])"
      ]
     },
     "execution_count": 12,
     "metadata": {},
     "output_type": "execute_result"
    }
   ],
   "source": [
    "fit=np.polyfit(y=df.final,x=df.midterm,deg=1)\n",
    "fit"
   ]
  },
  {
   "cell_type": "code",
   "execution_count": 30,
   "id": "31ccede7",
   "metadata": {},
   "outputs": [
    {
     "data": {
      "image/png": "[encoded data removed]",
      "text/plain": [
       "<Figure size 432x288 with 1 Axes>"
      ]
     },
     "metadata": {
      "needs_background": "light"
     },
     "output_type": "display_data"
    }
   ],
   "source": [
    "sns.scatterplot(data=df,x=\"midterm\",y=\"final\")\n",
    "sns.lineplot(x=np.linspace(10,90,10),y=fit[0]*np.linspace(10,90,10)+fit[1])\n",
    "plt.title(\"Exam Least Squares Regression Line and Scatter Plot\")\n",
    "plt.savefig(\"Exam Least Squares Regression Line and Scatter Plot\")"
   ]
  },
  {
   "cell_type": "code",
   "execution_count": 31,
   "id": "84b72083",
   "metadata": {},
   "outputs": [
    {
     "data": {
      "image/png": "[encoded data removed]",
      "text/plain": [
       "<Figure size 432x288 with 1 Axes>"
      ]
     },
     "metadata": {
      "needs_background": "light"
     },
     "output_type": "display_data"
    }
   ],
   "source": [
    "sns.residplot(data=df,x=\"midterm\",y=\"final\")\n",
    "plt.title(\"Exam Resdiual Plot\")\n",
    "plt.savefig(\"Exam Resdiual Plot\")"
   ]
  },
  {
   "cell_type": "code",
   "execution_count": null,
   "id": "647d773b",
   "metadata": {},
   "outputs": [],
   "source": []
  }
 ],
 "metadata": {
  "kernelspec": {
   "display_name": "Python 3",
   "language": "python",
   "name": "python3"
  },
  "language_info": {
   "codemirror_mode": {
    "name": "ipython",
    "version": 3
   },
   "file_extension": ".py",
   "mimetype": "text/x-python",
   "name": "python",
   "nbconvert_exporter": "python",
   "pygments_lexer": "ipython3",
   "version": "3.8.8"
  }
 },
 "nbformat": 4,
 "nbformat_minor": 5
}
