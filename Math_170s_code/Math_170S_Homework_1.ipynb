{
 "cells": [
  {
   "cell_type": "code",
   "execution_count": 1,
   "id": "ca2c4746",
   "metadata": {},
   "outputs": [],
   "source": [
    "import numpy as np\n",
    "import pandas as pd\n",
    "import math"
   ]
  },
  {
   "cell_type": "code",
   "execution_count": 2,
   "id": "e0192e3a",
   "metadata": {},
   "outputs": [
    {
     "data": {
      "text/plain": [
       "array([ 6.7,  5.4,  5.2,  6. ,  8.7,  6. ,  6.4,  8.3,  5.3,  5.9,  7.6,\n",
       "        5. ,  6.9,  6.8,  4.9,  6.3,  5. ,  6. ,  7.2,  8. ,  8.1,  7.2,\n",
       "       10.9,  9.2,  8.6,  6.2,  6.1, 14.1, 10.6,  8.4])"
      ]
     },
     "execution_count": 2,
     "metadata": {},
     "output_type": "execute_result"
    }
   ],
   "source": [
    "lead_concentrations = np.array([6.7, 5.4, 5.2, 6.0, 8.7,\n",
    "                       6.0, 6.4, 8.3, 5.3, 5.9,\n",
    "                       7.6, 5.0, 6.9, 6.8, 4.9,\n",
    "                       6.3, 5.0, 6.0, 7.2, 8.0, \n",
    "                       8.1, 7.2, 10.9, 9.2, 8.6,\n",
    "                       6.2, 6.1, 14.1, 10.6, 8.4])\n",
    "lead_concentrations"
   ]
  },
  {
   "cell_type": "code",
   "execution_count": 3,
   "id": "1551bb02",
   "metadata": {},
   "outputs": [
    {
     "data": {
      "text/plain": [
       "7.2333333333333325"
      ]
     },
     "execution_count": 3,
     "metadata": {},
     "output_type": "execute_result"
    }
   ],
   "source": [
    "lead_mean=np.mean(lead_concentrations)\n",
    "lead_mean"
   ]
  },
  {
   "cell_type": "code",
   "execution_count": 4,
   "id": "3a83badd",
   "metadata": {},
   "outputs": [
    {
     "data": {
      "text/plain": [
       "2.0450669550346543"
      ]
     },
     "execution_count": 4,
     "metadata": {},
     "output_type": "execute_result"
    }
   ],
   "source": [
    "lead_std=np.std(lead_concentrations,ddof=1)\n",
    "lead_std"
   ]
  },
  {
   "cell_type": "code",
   "execution_count": 5,
   "id": "ccef55db",
   "metadata": {},
   "outputs": [
    {
     "data": {
      "text/plain": [
       "4.182298850574712"
      ]
     },
     "execution_count": 5,
     "metadata": {},
     "output_type": "execute_result"
    }
   ],
   "source": [
    "lead_var=np.var(lead_concentrations,ddof=1)\n",
    "lead_var"
   ]
  },
  {
   "cell_type": "code",
   "execution_count": 6,
   "id": "3e5b7bef",
   "metadata": {},
   "outputs": [],
   "source": [
    "a=lead_mean+lead_std"
   ]
  },
  {
   "cell_type": "code",
   "execution_count": 7,
   "id": "f689b9a1",
   "metadata": {},
   "outputs": [],
   "source": [
    "b=lead_mean-lead_std"
   ]
  },
  {
   "cell_type": "code",
   "execution_count": 8,
   "id": "7a799a06",
   "metadata": {},
   "outputs": [
    {
     "data": {
      "text/plain": [
       "24"
      ]
     },
     "execution_count": 8,
     "metadata": {},
     "output_type": "execute_result"
    }
   ],
   "source": [
    "within_one_std=lead_concentrations[(lead_concentrations<=a) & (lead_concentrations>=b)]\n",
    "within_one_std.size"
   ]
  },
  {
   "cell_type": "code",
   "execution_count": 9,
   "id": "f29f9dc7",
   "metadata": {},
   "outputs": [],
   "source": [
    "a_2=lead_mean+2*lead_std\n",
    "b_2=lead_mean-2*lead_std"
   ]
  },
  {
   "cell_type": "code",
   "execution_count": 10,
   "id": "47316a69",
   "metadata": {},
   "outputs": [
    {
     "data": {
      "text/plain": [
       "29"
      ]
     },
     "execution_count": 10,
     "metadata": {},
     "output_type": "execute_result"
    }
   ],
   "source": [
    "within_two_std=lead_concentrations[(lead_concentrations<=a_2) & (lead_concentrations>=b_2)]\n",
    "within_two_std.size"
   ]
  },
  {
   "cell_type": "code",
   "execution_count": 11,
   "id": "8ee3a3e8",
   "metadata": {},
   "outputs": [
    {
     "data": {
      "text/plain": [
       "6.0"
      ]
     },
     "execution_count": 11,
     "metadata": {},
     "output_type": "execute_result"
    }
   ],
   "source": [
    "pi_25=np.percentile(lead_concentrations,25)\n",
    "pi_25"
   ]
  },
  {
   "cell_type": "code",
   "execution_count": 12,
   "id": "2abcd66d",
   "metadata": {},
   "outputs": [
    {
     "data": {
      "text/plain": [
       "8.25"
      ]
     },
     "execution_count": 12,
     "metadata": {},
     "output_type": "execute_result"
    }
   ],
   "source": [
    "pi_75=np.percentile(lead_concentrations,75)\n",
    "pi_75"
   ]
  },
  {
   "cell_type": "code",
   "execution_count": 13,
   "id": "c83118c1",
   "metadata": {},
   "outputs": [
    {
     "data": {
      "text/plain": [
       "2.25"
      ]
     },
     "execution_count": 13,
     "metadata": {},
     "output_type": "execute_result"
    }
   ],
   "source": [
    "IQR=pi_75-pi_25\n",
    "IQR"
   ]
  },
  {
   "cell_type": "code",
   "execution_count": 14,
   "id": "7492dad2",
   "metadata": {},
   "outputs": [
    {
     "data": {
      "text/plain": [
       "5.180000000000001"
      ]
     },
     "execution_count": 14,
     "metadata": {},
     "output_type": "execute_result"
    }
   ],
   "source": [
    "pi_10=np.percentile(lead_concentrations,10)\n",
    "pi_10"
   ]
  },
  {
   "cell_type": "code",
   "execution_count": 15,
   "id": "20f147c8",
   "metadata": {},
   "outputs": [
    {
     "data": {
      "text/plain": [
       "9.340000000000002"
      ]
     },
     "execution_count": 15,
     "metadata": {},
     "output_type": "execute_result"
    }
   ],
   "source": [
    "pi_90=np.percentile(lead_concentrations,90)\n",
    "pi_90"
   ]
  },
  {
   "cell_type": "code",
   "execution_count": 16,
   "id": "fe669a2d",
   "metadata": {},
   "outputs": [
    {
     "data": {
      "text/plain": [
       "array([14.1])"
      ]
     },
     "execution_count": 16,
     "metadata": {},
     "output_type": "execute_result"
    }
   ],
   "source": [
    "suspected_outliers=lead_concentrations[(lead_concentrations<=pi_25-1.5*IQR) | (lead_concentrations>=pi_75+1.5*IQR)]\n",
    "suspected_outliers"
   ]
  },
  {
   "cell_type": "code",
   "execution_count": 17,
   "id": "9155a300",
   "metadata": {},
   "outputs": [
    {
     "data": {
      "text/plain": [
       "0.2552983299999999"
      ]
     },
     "execution_count": 17,
     "metadata": {},
     "output_type": "execute_result"
    }
   ],
   "source": [
    "prob_seventh_order_stat=math.comb(8,7)*(0.7)**7*(0.3)+math.comb(8,8)*(0.7)**8\n",
    "prob_seventh_order_stat"
   ]
  },
  {
   "cell_type": "code",
   "execution_count": 18,
   "id": "38e43d41",
   "metadata": {},
   "outputs": [
    {
     "data": {
      "text/plain": [
       "0.7482476399999998"
      ]
     },
     "execution_count": 18,
     "metadata": {},
     "output_type": "execute_result"
    }
   ],
   "source": [
    "prob_seventh_order_stat_2=math.comb(8,7)*(0.7)**7*(0.3)+math.comb(8,6)*(0.7)**6*(0.3)**2+math.comb(8,5)*(0.7)**5*(0.3)**3\n",
    "prob_seventh_order_stat_2"
   ]
  },
  {
   "cell_type": "code",
   "execution_count": 20,
   "id": "73a79466",
   "metadata": {},
   "outputs": [
    {
     "data": {
      "text/plain": [
       "array([ 4.9,  5. ,  5. ,  5.2,  5.3,  5.4,  5.9,  6. ,  6. ,  6. ,  6.1,\n",
       "        6.2,  6.3,  6.4,  6.7,  6.8,  6.9,  7.2,  7.2,  7.6,  8. ,  8.1,\n",
       "        8.3,  8.4,  8.6,  8.7,  9.2, 10.6, 10.9, 14.1])"
      ]
     },
     "execution_count": 20,
     "metadata": {},
     "output_type": "execute_result"
    }
   ],
   "source": [
    "np.sort(lead_concentrations)"
   ]
  },
  {
   "cell_type": "code",
   "execution_count": null,
   "id": "b986583e",
   "metadata": {},
   "outputs": [],
   "source": []
  }
 ],
 "metadata": {
  "kernelspec": {
   "display_name": "Python 3",
   "language": "python",
   "name": "python3"
  },
  "language_info": {
   "codemirror_mode": {
    "name": "ipython",
    "version": 3
   },
   "file_extension": ".py",
   "mimetype": "text/x-python",
   "name": "python",
   "nbconvert_exporter": "python",
   "pygments_lexer": "ipython3",
   "version": "3.8.8"
  }
 },
 "nbformat": 4,
 "nbformat_minor": 5
}
