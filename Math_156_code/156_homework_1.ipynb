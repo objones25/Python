{
 "cells": [
  {
   "cell_type": "code",
   "execution_count": 1,
   "id": "6a2b88f2",
   "metadata": {},
   "outputs": [],
   "source": [
    "import pandas as pd\n",
    "import numpy as np\n",
    "from numpy import linalg\n",
    "from matplotlib import pyplot as plt"
   ]
  },
  {
   "cell_type": "code",
   "execution_count": 2,
   "id": "4a01b2ac",
   "metadata": {},
   "outputs": [],
   "source": [
    "column_names=['x_n','t_n']\n",
    "df=pd.read_csv('hw1-fitting.csv',index_col=0,names=column_names,header=None)"
   ]
  },
  {
   "cell_type": "code",
   "execution_count": 3,
   "id": "3739bb3c",
   "metadata": {},
   "outputs": [
    {
     "data": {
      "text/html": [
       "<div>\n",
       "<style scoped>\n",
       "    .dataframe tbody tr th:only-of-type {\n",
       "        vertical-align: middle;\n",
       "    }\n",
       "\n",
       "    .dataframe tbody tr th {\n",
       "        vertical-align: top;\n",
       "    }\n",
       "\n",
       "    .dataframe thead th {\n",
       "        text-align: right;\n",
       "    }\n",
       "</style>\n",
       "<table border=\"1\" class=\"dataframe\">\n",
       "  <thead>\n",
       "    <tr style=\"text-align: right;\">\n",
       "      <th></th>\n",
       "      <th>x_n</th>\n",
       "      <th>t_n</th>\n",
       "    </tr>\n",
       "  </thead>\n",
       "  <tbody>\n",
       "    <tr>\n",
       "      <th>1</th>\n",
       "      <td>0.000000</td>\n",
       "      <td>0.991459</td>\n",
       "    </tr>\n",
       "    <tr>\n",
       "      <th>2</th>\n",
       "      <td>0.105263</td>\n",
       "      <td>0.360328</td>\n",
       "    </tr>\n",
       "    <tr>\n",
       "      <th>3</th>\n",
       "      <td>0.210526</td>\n",
       "      <td>0.558448</td>\n",
       "    </tr>\n",
       "    <tr>\n",
       "      <th>4</th>\n",
       "      <td>0.315789</td>\n",
       "      <td>0.265560</td>\n",
       "    </tr>\n",
       "    <tr>\n",
       "      <th>5</th>\n",
       "      <td>0.421053</td>\n",
       "      <td>-1.364200</td>\n",
       "    </tr>\n",
       "    <tr>\n",
       "      <th>6</th>\n",
       "      <td>0.526316</td>\n",
       "      <td>-1.983883</td>\n",
       "    </tr>\n",
       "    <tr>\n",
       "      <th>7</th>\n",
       "      <td>0.631579</td>\n",
       "      <td>-1.551820</td>\n",
       "    </tr>\n",
       "    <tr>\n",
       "      <th>8</th>\n",
       "      <td>0.736842</td>\n",
       "      <td>-0.020161</td>\n",
       "    </tr>\n",
       "    <tr>\n",
       "      <th>9</th>\n",
       "      <td>0.842105</td>\n",
       "      <td>1.164831</td>\n",
       "    </tr>\n",
       "    <tr>\n",
       "      <th>10</th>\n",
       "      <td>0.947368</td>\n",
       "      <td>1.090539</td>\n",
       "    </tr>\n",
       "    <tr>\n",
       "      <th>11</th>\n",
       "      <td>1.052632</td>\n",
       "      <td>1.925967</td>\n",
       "    </tr>\n",
       "    <tr>\n",
       "      <th>12</th>\n",
       "      <td>1.157895</td>\n",
       "      <td>1.031809</td>\n",
       "    </tr>\n",
       "    <tr>\n",
       "      <th>13</th>\n",
       "      <td>1.263158</td>\n",
       "      <td>0.099923</td>\n",
       "    </tr>\n",
       "    <tr>\n",
       "      <th>14</th>\n",
       "      <td>1.368421</td>\n",
       "      <td>0.608555</td>\n",
       "    </tr>\n",
       "    <tr>\n",
       "      <th>15</th>\n",
       "      <td>1.473684</td>\n",
       "      <td>-0.701440</td>\n",
       "    </tr>\n",
       "    <tr>\n",
       "      <th>16</th>\n",
       "      <td>1.578947</td>\n",
       "      <td>0.566558</td>\n",
       "    </tr>\n",
       "    <tr>\n",
       "      <th>17</th>\n",
       "      <td>1.684211</td>\n",
       "      <td>1.998774</td>\n",
       "    </tr>\n",
       "    <tr>\n",
       "      <th>18</th>\n",
       "      <td>1.789474</td>\n",
       "      <td>1.423031</td>\n",
       "    </tr>\n",
       "    <tr>\n",
       "      <th>19</th>\n",
       "      <td>1.894737</td>\n",
       "      <td>2.386509</td>\n",
       "    </tr>\n",
       "    <tr>\n",
       "      <th>20</th>\n",
       "      <td>2.000000</td>\n",
       "      <td>3.199598</td>\n",
       "    </tr>\n",
       "  </tbody>\n",
       "</table>\n",
       "</div>"
      ],
      "text/plain": [
       "         x_n       t_n\n",
       "1   0.000000  0.991459\n",
       "2   0.105263  0.360328\n",
       "3   0.210526  0.558448\n",
       "4   0.315789  0.265560\n",
       "5   0.421053 -1.364200\n",
       "6   0.526316 -1.983883\n",
       "7   0.631579 -1.551820\n",
       "8   0.736842 -0.020161\n",
       "9   0.842105  1.164831\n",
       "10  0.947368  1.090539\n",
       "11  1.052632  1.925967\n",
       "12  1.157895  1.031809\n",
       "13  1.263158  0.099923\n",
       "14  1.368421  0.608555\n",
       "15  1.473684 -0.701440\n",
       "16  1.578947  0.566558\n",
       "17  1.684211  1.998774\n",
       "18  1.789474  1.423031\n",
       "19  1.894737  2.386509\n",
       "20  2.000000  3.199598"
      ]
     },
     "execution_count": 3,
     "metadata": {},
     "output_type": "execute_result"
    }
   ],
   "source": [
    "df"
   ]
  },
  {
   "cell_type": "code",
   "execution_count": 12,
   "id": "365ab098",
   "metadata": {},
   "outputs": [],
   "source": [
    "def polynomial_fit(M,df,plot=True):\n",
    "    x_n=np.array(df.iloc[:,0])\n",
    "    t_n=np.array(df.iloc[:,1])\n",
    "    X, Y = np.meshgrid(np.arange(M+1),np.arange(M+1))\n",
    "    Z=X+Y\n",
    "    A=np.array([[sum(x_n**el) for el in row] for row in Z])\n",
    "    T=np.array([(x_n**i).dot(t_n) for i in np.arange(M+1)])\n",
    "    w=linalg.solve(A,T)\n",
    "    y=lambda x,w:(x**np.arange(M+1)).dot(w)\n",
    "    y_out=np.array([y(x,w) for x in x_n])\n",
    "    if plot==True:\n",
    "        plt.scatter(data=df,x='x_n',y='t_n')\n",
    "        plt.plot(x_n,y_out)\n",
    "    return sum((t_n-y_out)**2),linalg.cond(A)*(linalg.norm(A.dot(w)-T))/linalg.norm(T)"
   ]
  },
  {
   "cell_type": "code",
   "execution_count": 13,
   "id": "3e35ab3d",
   "metadata": {},
   "outputs": [
    {
     "data": {
      "text/plain": [
       "array([[3.29063913e+01, 0.00000000e+00],\n",
       "       [2.31810168e+01, 0.00000000e+00],\n",
       "       [1.80789209e+01, 1.27218674e-13],\n",
       "       [1.78928603e+01, 6.54113047e-12],\n",
       "       [1.25905892e+01, 1.09983879e-09],\n",
       "       [1.24301870e+01, 2.82526058e-08],\n",
       "       [6.53579236e+00, 9.18376756e-05],\n",
       "       [6.41178331e+00, 1.65948250e-02],\n",
       "       [2.83373721e+00, 4.59882926e+00],\n",
       "       [2.41764455e+00, 2.45487588e+03],\n",
       "       [2.40936261e+00, 5.74473863e+04],\n",
       "       [2.39222170e+00, 9.96031035e+07],\n",
       "       [2.80859989e+00, 1.52624673e+10],\n",
       "       [1.47974697e+00, 5.30688853e+09],\n",
       "       [1.49640674e+00, 1.51010745e+11],\n",
       "       [1.57784583e+00, 4.26614077e+11],\n",
       "       [1.41350181e+00, 1.15542284e+12],\n",
       "       [1.39459659e+00, 2.13670827e+12],\n",
       "       [1.35016384e+00, 5.11011737e+13],\n",
       "       [1.34495099e+00, 1.57864938e+13]])"
      ]
     },
     "execution_count": 13,
     "metadata": {},
     "output_type": "execute_result"
    }
   ],
   "source": [
    "np.array([polynomial_fit(m,df,plot=False) for m in np.arange(20)])"
   ]
  },
  {
   "cell_type": "code",
   "execution_count": 17,
   "id": "d573f08c",
   "metadata": {},
   "outputs": [
    {
     "data": {
      "text/plain": [
       "(2.8337372149712285, 4.598829261330154)"
      ]
     },
     "execution_count": 17,
     "metadata": {},
     "output_type": "execute_result"
    },
    {
     "data": {
      "image/png": "[encoded data removed]",
      "text/plain": [
       "<Figure size 432x288 with 1 Axes>"
      ]
     },
     "metadata": {
      "needs_background": "light"
     },
     "output_type": "display_data"
    }
   ],
   "source": [
    "polynomial_fit(8,df)"
   ]
  },
  {
   "cell_type": "code",
   "execution_count": null,
   "id": "2c9ddabe",
   "metadata": {},
   "outputs": [],
   "source": []
  }
 ],
 "metadata": {
  "kernelspec": {
   "display_name": "Python 3",
   "language": "python",
   "name": "python3"
  },
  "language_info": {
   "codemirror_mode": {
    "name": "ipython",
    "version": 3
   },
   "file_extension": ".py",
   "mimetype": "text/x-python",
   "name": "python",
   "nbconvert_exporter": "python",
   "pygments_lexer": "ipython3",
   "version": "3.8.8"
  }
 },
 "nbformat": 4,
 "nbformat_minor": 5
}
