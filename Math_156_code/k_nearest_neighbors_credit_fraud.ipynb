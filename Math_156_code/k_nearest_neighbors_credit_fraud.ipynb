{
 "cells": [
  {
   "cell_type": "code",
   "execution_count": 102,
   "id": "9c41a0f5",
   "metadata": {},
   "outputs": [],
   "source": [
    "import pandas as pd\n",
    "import numpy as np\n",
    "from matplotlib import pyplot as plt\n",
    "from sklearn.model_selection import train_test_split,StratifiedKFold\n",
    "from sklearn.metrics import confusion_matrix\n",
    "from numba import njit,prange\n",
    "from itertools import product\n",
    "from sklearn.model_selection import StratifiedKFold,cross_val_score\n",
    "import pickle"
   ]
  },
  {
   "cell_type": "code",
   "execution_count": 2,
   "id": "c2479e7e",
   "metadata": {},
   "outputs": [],
   "source": [
    "df=pd.read_csv('creditcard.csv')"
   ]
  },
  {
   "cell_type": "code",
   "execution_count": 3,
   "id": "1442e631",
   "metadata": {},
   "outputs": [],
   "source": [
    "X=df.values[:,0:-1]\n",
    "y=df.values[:,-1]"
   ]
  },
  {
   "cell_type": "code",
   "execution_count": 105,
   "id": "ccac9233",
   "metadata": {},
   "outputs": [],
   "source": [
    "X_train,X_test,y_train,y_test=train_test_split(X,y,stratify=y,test_size=0.2,random_state=77)"
   ]
  },
  {
   "cell_type": "code",
   "execution_count": 86,
   "id": "73eff033",
   "metadata": {},
   "outputs": [],
   "source": [
    "# Define a function to compute the Euclidean distance between training and test data\n",
    "@njit(parallel=True)\n",
    "def euclidean_distance(X_train, X_test):\n",
    "    num_train, num_features = X_train.shape  # Get the number of training samples and features\n",
    "    num_test = X_test.shape[0]  # Get the number of test samples\n",
    "    distances = np.zeros((num_test, num_train))  # Initialize the distance matrix\n",
    "    \n",
    "    # Loop over each test sample\n",
    "    for i in prange(num_test):\n",
    "        # Loop over each training sample\n",
    "        for j in prange(num_train):\n",
    "            distance = 0.0  # Initialize the distance for the current test-train pair\n",
    "            # Loop over each feature\n",
    "            for k in prange(num_features):\n",
    "                distance += (X_test[i, k] - X_train[j, k]) ** 2  # Compute the squared difference\n",
    "            distances[i, j] = np.sqrt(distance)  # Compute the Euclidean distance\n",
    "    \n",
    "    return distances  # Return the distance matrix\n",
    "\n",
    "# Define a function to predict labels based on the distances\n",
    "@njit(parallel=True)\n",
    "def predict_labels(distances, y_train, k, threshold):\n",
    "    num_test = distances.shape[0]  # Get the number of test samples\n",
    "    predictions = np.zeros(num_test, dtype=np.int32)  # Initialize the predictions array\n",
    "    \n",
    "    # Loop over each test sample\n",
    "    for i in prange(num_test):\n",
    "        # Get the indices of the k nearest neighbors\n",
    "        neighbors_indices = np.argsort(distances[i])[:k]\n",
    "        # Get the labels of the k nearest neighbors\n",
    "        neighbor_labels = y_train[neighbors_indices]\n",
    "        # Predict the most common label among the neighbors\n",
    "        count_1 = 0  # Initialize the count for label 1\n",
    "        for label in neighbor_labels:\n",
    "            if label == 1:\n",
    "                count_1 += 1\n",
    "        # Assign the label based on the threshold\n",
    "        predictions[i] = 1 if count_1 > k * threshold else 0\n",
    "    \n",
    "    return predictions  # Return the predictions\n",
    "\n",
    "# Define a class for the k-Nearest Neighbors classifier\n",
    "class KNNClassifier:\n",
    "    \n",
    "    def __init__(self, k=3, threshold=0.5):\n",
    "        self.k = k  # Set the number of neighbors\n",
    "        self.threshold = threshold  # Set the threshold for prediction\n",
    "    \n",
    "    def fit(self, X_train, y_train):\n",
    "        self.X_train = X_train  # Store the training data\n",
    "        self.y_train = y_train  # Store the training labels\n",
    "    \n",
    "    def predict(self, X_test, batch_size=100):\n",
    "        num_samples = X_test.shape[0]  # Get the number of test samples\n",
    "        predictions = np.zeros(num_samples, dtype=np.int32)  # Initialize the predictions array\n",
    "        \n",
    "        # Loop over test samples in batches\n",
    "        for i in range(0, num_samples, batch_size):\n",
    "            end_index = min(i + batch_size, num_samples)  # Determine the end index for the current batch\n",
    "            batch_X_test = X_test[i:end_index]  # Get the current batch of test samples\n",
    "            distances = euclidean_distance(self.X_train, batch_X_test)  # Compute distances\n",
    "            batch_predictions = predict_labels(distances, self.y_train, self.k, self.threshold)  # Predict labels for the batch\n",
    "            predictions[i:end_index] = batch_predictions  # Store the batch predictions\n",
    "        \n",
    "        return predictions  # Return the predictions\n",
    "    \n",
    "    def evaluate(self, X_test, y_test):\n",
    "        self._predictions = self.predict(X_test)  # Get predictions for the test data\n",
    "        self._accuracy = np.sum(self._predictions == y_test) / len(y_test)  # Compute accuracy\n",
    "        \n",
    "        # Compute the number of true positives, false positives, and false negatives\n",
    "        true_positives = np.sum((self._predictions == 1) & (y_test == 1))\n",
    "        false_positives = np.sum((self._predictions == 1) & (y_test == 0))\n",
    "        false_negatives = np.sum((self._predictions == 0) & (y_test == 1))\n",
    "        \n",
    "        # Compute precision and recall\n",
    "        self._precision = true_positives / (true_positives + false_positives) if (true_positives + false_positives) > 0 else 0\n",
    "        self._recall = true_positives / (true_positives + false_negatives) if (true_positives + false_negatives) > 0 else 0\n",
    "        \n",
    "    def predictions(self):\n",
    "        return self._predictions  # Return the predictions\n",
    "    \n",
    "    def metrics(self):\n",
    "        # Return a dictionary containing accuracy, precision, and recall\n",
    "        return np.array([self._accuracy,self._precision,self._recall])"
   ]
  },
  {
   "cell_type": "code",
   "execution_count": 94,
   "id": "c7345d5c",
   "metadata": {},
   "outputs": [],
   "source": [
    "k_array=np.arange(5,20,5)"
   ]
  },
  {
   "cell_type": "code",
   "execution_count": 95,
   "id": "180667e6",
   "metadata": {},
   "outputs": [],
   "source": [
    "threshold_array=np.linspace(0.05,0.5,3)"
   ]
  },
  {
   "cell_type": "code",
   "execution_count": 96,
   "id": "058f5e9f",
   "metadata": {},
   "outputs": [],
   "source": [
    "parameter_array=product(k_array,threshold_array)"
   ]
  },
  {
   "cell_type": "code",
   "execution_count": 97,
   "id": "ba530d1a",
   "metadata": {},
   "outputs": [],
   "source": [
    "kfold=StratifiedKFold(n_splits=3,random_state=98,shuffle=True)\n",
    "hyper_parameter_search=np.array([])"
   ]
  },
  {
   "cell_type": "code",
   "execution_count": 98,
   "id": "5a05c402",
   "metadata": {},
   "outputs": [
    {
     "name": "stdout",
     "output_type": "stream",
     "text": [
      "{'k': 5, 'threshold': 0.05, 'metrics': array([0.99545306, 0.1070228 , 0.22154472])}\n",
      "{'k': 5, 'threshold': 0.275, 'metrics': array([0.99837083, 0.70147563, 0.0995935 ])}\n",
      "{'k': 5, 'threshold': 0.5, 'metrics': array([0.99836732, 0.93265993, 0.05894309])}\n",
      "{'k': 10, 'threshold': 0.05, 'metrics': array([0.99121159, 0.05306266, 0.24186992])}\n",
      "{'k': 10, 'threshold': 0.275, 'metrics': array([0.99832869, 0.64164332, 0.07520325])}\n",
      "{'k': 10, 'threshold': 0.5, 'metrics': array([0.99829007, 0.66666667, 0.0101626 ])}\n",
      "{'k': 15, 'threshold': 0.05, 'metrics': array([0.98609936, 0.03465352, 0.26219512])}\n",
      "{'k': 15, 'threshold': 0.275, 'metrics': array([0.99829358, 0.62142857, 0.02642276])}\n",
      "{'k': 15, 'threshold': 0.5, 'metrics': array([0.99827954, 0.33333333, 0.00406504])}\n"
     ]
    }
   ],
   "source": [
    "for k,t in parameter_array:\n",
    "    scores=np.array([])\n",
    "    for train_index,val_index in kfold.split(X,y):\n",
    "        X_train,X_val,y_train,y_val=X[train_index],X[val_index],y[train_index],y[val_index]\n",
    "        model=KNNClassifier(k=k,threshold=t)\n",
    "        model.fit(X_train,y_train)\n",
    "        model.evaluate(X_val,y_val)\n",
    "        scores=np.append(scores,model.metrics())\n",
    "    print({'k':k,'threshold':t,'metrics':np.mean(scores.reshape(3,3),axis=0)})\n",
    "    hyper_parameter_search=np.append(hyper_parameter_search,{'k':k,'threshold':t,'metrics':np.mean(scores.reshape(3,3),axis=0)})"
   ]
  },
  {
   "cell_type": "code",
   "execution_count": 100,
   "id": "3daeeab2",
   "metadata": {},
   "outputs": [],
   "source": [
    "model_test=KNNClassifier(k=15,threshold=0.05)\n",
    "model_test.fit(X_train,y_train)\n",
    "model_test.evaluate(X_test,y_test)"
   ]
  },
  {
   "cell_type": "code",
   "execution_count": 101,
   "id": "85d0b1b8",
   "metadata": {},
   "outputs": [
    {
     "data": {
      "text/plain": [
       "array([0.98767599, 0.04242424, 0.28571429])"
      ]
     },
     "execution_count": 101,
     "metadata": {},
     "output_type": "execute_result"
    }
   ],
   "source": [
    "model_test.metrics()"
   ]
  },
  {
   "cell_type": "code",
   "execution_count": 103,
   "id": "59845a3e",
   "metadata": {},
   "outputs": [],
   "source": [
    "with open('hyper_parameter_search.pkl','wb') as f:\n",
    "    pickle.dump(hyper_parameter_search,f)"
   ]
  },
  {
   "cell_type": "code",
   "execution_count": 104,
   "id": "21144dab",
   "metadata": {},
   "outputs": [],
   "source": [
    "with open('test_set_metrics.pkl','wb') as f:\n",
    "    pickle.dumps(model_test.metrics())"
   ]
  },
  {
   "cell_type": "code",
   "execution_count": null,
   "id": "4a1220fb",
   "metadata": {},
   "outputs": [],
   "source": []
  }
 ],
 "metadata": {
  "kernelspec": {
   "display_name": "Python 3",
   "language": "python",
   "name": "python3"
  },
  "language_info": {
   "codemirror_mode": {
    "name": "ipython",
    "version": 3
   },
   "file_extension": ".py",
   "mimetype": "text/x-python",
   "name": "python",
   "nbconvert_exporter": "python",
   "pygments_lexer": "ipython3",
   "version": "3.8.8"
  }
 },
 "nbformat": 4,
 "nbformat_minor": 5
}
