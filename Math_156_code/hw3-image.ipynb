{
 "cells": [
  {
   "cell_type": "markdown",
   "id": "022d2304",
   "metadata": {},
   "source": [
    "## Classification on MNIST Dataset "
   ]
  },
  {
   "cell_type": "markdown",
   "id": "42f0ef5e",
   "metadata": {},
   "source": [
    "In the question, you are asked to write code for classifying image data using various classifiers.\n",
    "The [MNIST dataset](https://www.openml.org/search?type=data&sort=runs&id=554&status=active) is a database of 70,000 28×28 pixel grayscale images of handwritten single digits."
   ]
  },
  {
   "cell_type": "markdown",
   "id": "565358de",
   "metadata": {},
   "source": [
    "#### A Few Task Reminders:\n",
    "* Import required libraries.\n",
    "* Load the data and split into train, validation, and test sets. You can also perform k-fold cross-validation on the train set for better performance estimates and nested cross-validation for hyperparameter tuning.\n",
    "* Perform any required data pre-processing.\n",
    "* Train K-NN, Logistic Regression, Decision Trees, and SVM on the data.\n",
    "* Make predictions, evaluate, and compare the models. Generate confusion matrices and classification reports.\n",
    "* Summarize your findings and make sure you sufficiently document your code."
   ]
  },
  {
   "cell_type": "markdown",
   "id": "6f4cba31",
   "metadata": {},
   "source": [
    "Explore the different classifiers listed above and perform hyperparameter tuning as follows:\n",
    "\n",
    "* For K-NN, explore the effect of of varying the number of nearest neighbors\n",
    "* For Logistic Regression, explore the effect of varying regularization parameter\n",
    "* For Decision Trees, explore the effect of varying the max depth of the tree\n",
    "* For SVM, explore the effect of varying the penalty parameter and kernel function"
   ]
  },
  {
   "cell_type": "markdown",
   "id": "b452ee28",
   "metadata": {},
   "source": [
    "**Note.** It is intentional that this problem assignment extends outside of what we have covered in class (i.e. text data pre-processing) and encourages more independent learning and exploration with ML hands-on experience and applications. I hope you would have fun with these type of questions and that they are not very stressful. Also, feedback is welcomed and encouraged! "
   ]
  },
  {
   "cell_type": "code",
   "execution_count": 2,
   "id": "24aa912d",
   "metadata": {},
   "outputs": [],
   "source": [
    "import numpy as np\n",
    "import matplotlib.pyplot as plt\n",
    "from sklearn.datasets import fetch_openml"
   ]
  },
  {
   "cell_type": "code",
   "execution_count": 12,
   "id": "6cf495f4",
   "metadata": {},
   "outputs": [],
   "source": [
    "# Fetch MNIST data (might take some time)\n",
    "mnist = fetch_openml('mnist_784')\n",
    "\n",
    "X = mnist.data.astype('float32')\n",
    "y = mnist.target.astype('int64')\n",
    "\n",
    "# Normalize the data\n",
    "X /= 255.0"
   ]
  },
  {
   "cell_type": "code",
   "execution_count": 144,
   "id": "7557e137",
   "metadata": {},
   "outputs": [],
   "source": [
    "from sklearn.neighbors import KNeighborsClassifier\n",
    "from sklearn.linear_model import LogisticRegression\n",
    "from sklearn.tree import DecisionTreeClassifier\n",
    "from sklearn.svm import SVC,LinearSVC\n",
    "from sklearn.model_selection import GridSearchCV, train_test_split\n",
    "from sklearn.preprocessing import StandardScaler\n",
    "from sklearn.decomposition import PCA\n",
    "from sklearn.metrics import classification_report,confusion_matrix\n",
    "import pickle"
   ]
  },
  {
   "cell_type": "code",
   "execution_count": 76,
   "id": "809551c0",
   "metadata": {},
   "outputs": [],
   "source": [
    "scaler=StandardScaler()\n",
    "X_scaled=scaler.fit_transform(X)"
   ]
  },
  {
   "cell_type": "code",
   "execution_count": 77,
   "id": "90b932e5",
   "metadata": {},
   "outputs": [],
   "source": [
    "X_train,X_test,y_train,y_test=train_test_split(X_scaled,y,test_size=0.2)"
   ]
  },
  {
   "cell_type": "code",
   "execution_count": 78,
   "id": "0d1a497d",
   "metadata": {},
   "outputs": [
    {
     "data": {
      "text/plain": [
       "PCA(n_components=0.95)"
      ]
     },
     "execution_count": 78,
     "metadata": {},
     "output_type": "execute_result"
    }
   ],
   "source": [
    "pca=PCA(0.95)\n",
    "pca.fit(X_train)"
   ]
  },
  {
   "cell_type": "code",
   "execution_count": 79,
   "id": "ddb28185",
   "metadata": {},
   "outputs": [],
   "source": [
    "X_train_pca=pca.transform(X_train)\n",
    "X_test_pca=pca.transform(X_test)"
   ]
  },
  {
   "cell_type": "code",
   "execution_count": 164,
   "id": "03afee2b",
   "metadata": {},
   "outputs": [],
   "source": [
    "search_space_k={\n",
    "    'n_neighbors' : [5,10,15,20]\n",
    "}\n",
    "search_space_l={\n",
    "    'C' : [0.001, 0.01, 0.1, 1, 10, 100, 1000]\n",
    "}\n",
    "search_space_t={\n",
    "    'max_depth': [None, 5,10,15,20],\n",
    "}\n",
    "search_space_s={\n",
    "    'kernel' : ['linear', 'poly', 'rbf', 'sigmoid']\n",
    "}\n",
    "search_space_lin_svc={\n",
    "    'C' : [0.001, 0.01, 0.1, 1]\n",
    "}"
   ]
  },
  {
   "cell_type": "code",
   "execution_count": 81,
   "id": "01d3a144",
   "metadata": {},
   "outputs": [
    {
     "data": {
      "text/plain": [
       "GridSearchCV(cv=3, estimator=KNeighborsClassifier(), n_jobs=-1,\n",
       "             param_grid={'n_neighbors': [5, 10, 15, 20]})"
      ]
     },
     "execution_count": 81,
     "metadata": {},
     "output_type": "execute_result"
    }
   ],
   "source": [
    "knn=KNeighborsClassifier()\n",
    "clf_knn=GridSearchCV(knn,search_space_k,cv=3,n_jobs=-1)\n",
    "clf_knn.fit(X_train_pca,y_train)"
   ]
  },
  {
   "cell_type": "code",
   "execution_count": 98,
   "id": "af5aeb18",
   "metadata": {},
   "outputs": [
    {
     "data": {
      "text/plain": [
       "{'n_neighbors': 5}"
      ]
     },
     "execution_count": 98,
     "metadata": {},
     "output_type": "execute_result"
    }
   ],
   "source": [
    "clf_knn.best_params_"
   ]
  },
  {
   "cell_type": "code",
   "execution_count": 84,
   "id": "e1044942",
   "metadata": {},
   "outputs": [
    {
     "data": {
      "text/plain": [
       "{'mean_fit_time': array([0.92393788, 0.92772937, 0.91927274, 1.54400261]),\n",
       " 'std_fit_time': array([0.46382901, 0.46329492, 0.45987636, 0.20259877]),\n",
       " 'mean_score_time': array([161.5054493 , 170.73705546, 161.42259161,  90.773199  ]),\n",
       " 'std_score_time': array([18.22641628,  4.96037859, 18.59974226, 53.06128924]),\n",
       " 'param_n_neighbors': masked_array(data=[5, 10, 15, 20],\n",
       "              mask=[False, False, False, False],\n",
       "        fill_value='?',\n",
       "             dtype=object),\n",
       " 'params': [{'n_neighbors': 5},\n",
       "  {'n_neighbors': 10},\n",
       "  {'n_neighbors': 15},\n",
       "  {'n_neighbors': 20}],\n",
       " 'split0_test_score': array([0.94166176, 0.93817968, 0.93437617, 0.9305191 ]),\n",
       " 'split1_test_score': array([0.94476884, 0.94048321, 0.93651899, 0.93314405]),\n",
       " 'split2_test_score': array([0.93887282, 0.93405122, 0.92997964, 0.92714026]),\n",
       " 'mean_test_score': array([0.94176781, 0.93757137, 0.93362493, 0.9302678 ]),\n",
       " 'std_test_score': array([0.00240821, 0.00266085, 0.00272201, 0.00245747]),\n",
       " 'rank_test_score': array([1, 2, 3, 4], dtype=int32)}"
      ]
     },
     "execution_count": 84,
     "metadata": {},
     "output_type": "execute_result"
    }
   ],
   "source": [
    "clf_knn.cv_results_"
   ]
  },
  {
   "cell_type": "code",
   "execution_count": 87,
   "id": "319c51e5",
   "metadata": {},
   "outputs": [],
   "source": [
    "predicted_knn=clf_knn.predict(X_test_pca)"
   ]
  },
  {
   "cell_type": "code",
   "execution_count": 121,
   "id": "b72cd3fd",
   "metadata": {},
   "outputs": [
    {
     "name": "stdout",
     "output_type": "stream",
     "text": [
      "              precision    recall  f1-score   support\n",
      "\n",
      "           0       0.97      0.98      0.98      1362\n",
      "           1       0.97      0.99      0.98      1624\n",
      "           2       0.96      0.95      0.95      1390\n",
      "           3       0.93      0.96      0.95      1415\n",
      "           4       0.96      0.95      0.95      1361\n",
      "           5       0.93      0.92      0.93      1271\n",
      "           6       0.96      0.97      0.96      1391\n",
      "           7       0.94      0.96      0.95      1413\n",
      "           8       0.97      0.91      0.94      1372\n",
      "           9       0.93      0.94      0.94      1401\n",
      "\n",
      "    accuracy                           0.95     14000\n",
      "   macro avg       0.95      0.95      0.95     14000\n",
      "weighted avg       0.95      0.95      0.95     14000\n",
      "\n"
     ]
    }
   ],
   "source": [
    "print(classification_report(y_test,predicted_knn))"
   ]
  },
  {
   "cell_type": "code",
   "execution_count": 125,
   "id": "2de30370",
   "metadata": {},
   "outputs": [
    {
     "data": {
      "text/plain": [
       "array([[1339,    0,    2,    2,    1,    3,   14,    0,    0,    1],\n",
       "       [   0, 1607,    2,    1,    0,    2,    6,    4,    1,    1],\n",
       "       [  13,    6, 1316,   18,    4,    0,    8,   17,    5,    3],\n",
       "       [   3,    4,    8, 1358,    1,   15,    1,   12,    5,    8],\n",
       "       [   0,    9,   13,    2, 1289,    3,    5,    9,    2,   29],\n",
       "       [   5,    2,    5,   39,    5, 1174,   20,    2,    9,   10],\n",
       "       [   8,    5,    6,    1,    7,   10, 1349,    0,    5,    0],\n",
       "       [   0,    8,    8,    4,   10,    0,    0, 1353,    3,   27],\n",
       "       [   8,   18,   11,   21,    5,   44,    2,    7, 1243,   13],\n",
       "       [   4,    3,    6,   13,   22,    6,    0,   33,    2, 1312]])"
      ]
     },
     "execution_count": 125,
     "metadata": {},
     "output_type": "execute_result"
    }
   ],
   "source": [
    "confusion_matrix(y_test,predicted_knn)"
   ]
  },
  {
   "cell_type": "code",
   "execution_count": 107,
   "id": "eaa4a5ee",
   "metadata": {},
   "outputs": [],
   "source": [
    "with open('model_knn.pkl','wb') as f:\n",
    "    pickle.dump(clf_knn,f)\n",
    "\n",
    "#with open('model_knn.pkl','rb') as f:\n",
    "    #clf2=pickle.load(f)"
   ]
  },
  {
   "cell_type": "code",
   "execution_count": 173,
   "id": "04b629ad",
   "metadata": {},
   "outputs": [
    {
     "data": {
      "text/plain": [
       "GridSearchCV(cv=3,\n",
       "             estimator=LogisticRegression(max_iter=1000, solver='sag',\n",
       "                                          tol=0.001),\n",
       "             n_jobs=-1, param_grid={'C': [0.001, 0.01, 0.1, 1, 10, 100, 1000]})"
      ]
     },
     "execution_count": 173,
     "metadata": {},
     "output_type": "execute_result"
    }
   ],
   "source": [
    "logr=LogisticRegression(solver='sag',max_iter=1000,tol=1e-3)\n",
    "clf_logr=GridSearchCV(logr,search_space_l,cv=3,n_jobs=-1)\n",
    "clf_logr.fit(X_train_pca,y_train)"
   ]
  },
  {
   "cell_type": "code",
   "execution_count": 174,
   "id": "88afb7d8",
   "metadata": {},
   "outputs": [
    {
     "data": {
      "text/plain": [
       "{'C': 1}"
      ]
     },
     "execution_count": 174,
     "metadata": {},
     "output_type": "execute_result"
    }
   ],
   "source": [
    "clf_logr.best_params_"
   ]
  },
  {
   "cell_type": "code",
   "execution_count": 175,
   "id": "36c1912d",
   "metadata": {},
   "outputs": [
    {
     "data": {
      "text/plain": [
       "{'mean_fit_time': array([ 25.23615702,  80.89298693, 120.65007218, 127.03134791,\n",
       "        121.07482306, 113.22952151, 106.64190173]),\n",
       " 'std_fit_time': array([0.76727742, 2.92715113, 7.1853959 , 7.42636872, 3.81966743,\n",
       "        4.16910999, 5.81419394]),\n",
       " 'mean_score_time': array([0.03298338, 0.04689233, 0.03929575, 0.03024785, 0.01672188,\n",
       "        0.01860929, 0.0159061 ]),\n",
       " 'std_score_time': array([0.01025135, 0.01655264, 0.00589005, 0.01312707, 0.00126374,\n",
       "        0.00218765, 0.00259891]),\n",
       " 'param_C': masked_array(data=[0.001, 0.01, 0.1, 1, 10, 100, 1000],\n",
       "              mask=[False, False, False, False, False, False, False],\n",
       "        fill_value='?',\n",
       "             dtype=object),\n",
       " 'params': [{'C': 0.001},\n",
       "  {'C': 0.01},\n",
       "  {'C': 0.1},\n",
       "  {'C': 1},\n",
       "  {'C': 10},\n",
       "  {'C': 100},\n",
       "  {'C': 1000}],\n",
       " 'split0_test_score': array([0.90989447, 0.91825146, 0.92098355, 0.92087641, 0.92098355,\n",
       "        0.92092998, 0.92092998]),\n",
       " 'split1_test_score': array([0.91123373, 0.91964429, 0.92039428, 0.92066213, 0.92060856,\n",
       "        0.92055499, 0.92055499]),\n",
       " 'split2_test_score': array([0.90849673, 0.91808636, 0.91942569, 0.91969356, 0.91958641,\n",
       "        0.91963999, 0.91963999]),\n",
       " 'mean_test_score': array([0.90987498, 0.9186607 , 0.92026784, 0.9204107 , 0.92039284,\n",
       "        0.92037499, 0.92037499]),\n",
       " 'std_test_score': array([0.00111746, 0.00069876, 0.00064225, 0.00051459, 0.00059042,\n",
       "        0.0005418 , 0.0005418 ]),\n",
       " 'rank_test_score': array([7, 6, 5, 1, 2, 3, 3], dtype=int32)}"
      ]
     },
     "execution_count": 175,
     "metadata": {},
     "output_type": "execute_result"
    }
   ],
   "source": [
    "clf_logr.cv_results_"
   ]
  },
  {
   "cell_type": "code",
   "execution_count": 176,
   "id": "003c3591",
   "metadata": {},
   "outputs": [],
   "source": [
    "predicted_logr=clf_logr.predict(X_test_pca)"
   ]
  },
  {
   "cell_type": "code",
   "execution_count": 177,
   "id": "043fd54c",
   "metadata": {},
   "outputs": [
    {
     "name": "stdout",
     "output_type": "stream",
     "text": [
      "              precision    recall  f1-score   support\n",
      "\n",
      "           0       0.96      0.97      0.96      1362\n",
      "           1       0.95      0.97      0.96      1624\n",
      "           2       0.93      0.90      0.91      1390\n",
      "           3       0.91      0.89      0.90      1415\n",
      "           4       0.92      0.95      0.94      1361\n",
      "           5       0.90      0.87      0.88      1271\n",
      "           6       0.94      0.95      0.94      1391\n",
      "           7       0.93      0.94      0.93      1413\n",
      "           8       0.89      0.89      0.89      1372\n",
      "           9       0.90      0.91      0.90      1401\n",
      "\n",
      "    accuracy                           0.92     14000\n",
      "   macro avg       0.92      0.92      0.92     14000\n",
      "weighted avg       0.92      0.92      0.92     14000\n",
      "\n"
     ]
    }
   ],
   "source": [
    "print(classification_report(y_test,predicted_logr))"
   ]
  },
  {
   "cell_type": "code",
   "execution_count": 178,
   "id": "0b1f8bf5",
   "metadata": {},
   "outputs": [
    {
     "data": {
      "text/plain": [
       "array([[1318,    1,    2,    4,    2,    8,   12,    6,    6,    3],\n",
       "       [   0, 1574,    6,    8,    2,    6,    3,    8,   15,    2],\n",
       "       [   9,   15, 1250,   16,   14,    8,   16,   19,   36,    7],\n",
       "       [   7,    7,   38, 1258,    3,   39,    8,   10,   28,   17],\n",
       "       [   0,    5,    6,    2, 1290,    3,   12,    3,    5,   35],\n",
       "       [  18,    6,    6,   43,   14, 1102,   30,    3,   40,    9],\n",
       "       [  15,    4,   10,    1,   14,   18, 1318,    5,    5,    1],\n",
       "       [   0,    8,   10,    4,   11,    2,    0, 1330,    3,   45],\n",
       "       [  10,   36,   10,   28,    7,   34,    6,    5, 1215,   21],\n",
       "       [   3,    7,    5,   20,   39,    7,    0,   43,    7, 1270]])"
      ]
     },
     "execution_count": 178,
     "metadata": {},
     "output_type": "execute_result"
    }
   ],
   "source": [
    "confusion_matrix(y_test,predicted_logr)"
   ]
  },
  {
   "cell_type": "code",
   "execution_count": 179,
   "id": "26435173",
   "metadata": {},
   "outputs": [],
   "source": [
    "with open('model_logr.pkl','wb') as f:\n",
    "    pickle.dump(clf_logr,f)"
   ]
  },
  {
   "cell_type": "code",
   "execution_count": 110,
   "id": "4fc4e3ca",
   "metadata": {},
   "outputs": [
    {
     "data": {
      "text/plain": [
       "GridSearchCV(estimator=DecisionTreeClassifier(), n_jobs=-1,\n",
       "             param_grid={'max_depth': [None, 5, 10, 15, 20]})"
      ]
     },
     "execution_count": 110,
     "metadata": {},
     "output_type": "execute_result"
    }
   ],
   "source": [
    "decision_tree=DecisionTreeClassifier()\n",
    "clf_dct=GridSearchCV(decision_tree,search_space_t,n_jobs=-1)\n",
    "clf_dct.fit(X_train_pca,y_train)"
   ]
  },
  {
   "cell_type": "code",
   "execution_count": 111,
   "id": "904fea19",
   "metadata": {},
   "outputs": [
    {
     "data": {
      "text/plain": [
       "{'max_depth': 15}"
      ]
     },
     "execution_count": 111,
     "metadata": {},
     "output_type": "execute_result"
    }
   ],
   "source": [
    "clf_dct.best_params_"
   ]
  },
  {
   "cell_type": "code",
   "execution_count": 112,
   "id": "72f0ca49",
   "metadata": {},
   "outputs": [
    {
     "data": {
      "text/plain": [
       "{'mean_fit_time': array([37.50029001, 10.53001604, 18.43235664, 24.73020592, 26.58777823]),\n",
       " 'std_fit_time': array([1.01606573, 0.06931991, 0.10673776, 0.07807035, 0.25008774]),\n",
       " 'mean_score_time': array([0.01499977, 0.01235256, 0.00611401, 0.00481806, 0.00567966]),\n",
       " 'std_score_time': array([0.0073633 , 0.0039344 , 0.00179303, 0.0007732 , 0.00052917]),\n",
       " 'param_max_depth': masked_array(data=[None, 5, 10, 15, 20],\n",
       "              mask=[False, False, False, False, False],\n",
       "        fill_value='?',\n",
       "             dtype=object),\n",
       " 'params': [{'max_depth': None},\n",
       "  {'max_depth': 5},\n",
       "  {'max_depth': 10},\n",
       "  {'max_depth': 15},\n",
       "  {'max_depth': 20}],\n",
       " 'split0_test_score': array([0.81169643, 0.58803571, 0.79258929, 0.820625  , 0.81482143]),\n",
       " 'split1_test_score': array([0.81214286, 0.59535714, 0.80125   , 0.82294643, 0.81410714]),\n",
       " 'split2_test_score': array([0.819375  , 0.59642857, 0.80723214, 0.82705357, 0.82133929]),\n",
       " 'split3_test_score': array([0.81803571, 0.59678571, 0.80392857, 0.82482143, 0.82276786]),\n",
       " 'split4_test_score': array([0.81410714, 0.60080357, 0.80178571, 0.82535714, 0.819375  ]),\n",
       " 'mean_test_score': array([0.81507143, 0.59548214, 0.80135714, 0.82416071, 0.81848214]),\n",
       " 'std_test_score': array([0.00310499, 0.00415638, 0.00486206, 0.00220056, 0.00346033]),\n",
       " 'rank_test_score': array([3, 5, 4, 1, 2], dtype=int32)}"
      ]
     },
     "execution_count": 112,
     "metadata": {},
     "output_type": "execute_result"
    }
   ],
   "source": [
    "clf_dct.cv_results_"
   ]
  },
  {
   "cell_type": "code",
   "execution_count": 115,
   "id": "e3cf019e",
   "metadata": {},
   "outputs": [],
   "source": [
    "predicted_dct=clf_dct.predict(X_test_pca)"
   ]
  },
  {
   "cell_type": "code",
   "execution_count": 122,
   "id": "9bfdfdaf",
   "metadata": {},
   "outputs": [
    {
     "name": "stdout",
     "output_type": "stream",
     "text": [
      "              precision    recall  f1-score   support\n",
      "\n",
      "           0       0.89      0.89      0.89      1362\n",
      "           1       0.95      0.95      0.95      1624\n",
      "           2       0.83      0.82      0.83      1390\n",
      "           3       0.80      0.77      0.78      1415\n",
      "           4       0.79      0.82      0.81      1361\n",
      "           5       0.76      0.74      0.75      1271\n",
      "           6       0.89      0.89      0.89      1391\n",
      "           7       0.83      0.86      0.84      1413\n",
      "           8       0.74      0.75      0.75      1372\n",
      "           9       0.79      0.78      0.78      1401\n",
      "\n",
      "    accuracy                           0.83     14000\n",
      "   macro avg       0.83      0.83      0.83     14000\n",
      "weighted avg       0.83      0.83      0.83     14000\n",
      "\n"
     ]
    }
   ],
   "source": [
    "print(classification_report(y_test,predicted_dct))"
   ]
  },
  {
   "cell_type": "code",
   "execution_count": 128,
   "id": "808c674b",
   "metadata": {},
   "outputs": [
    {
     "data": {
      "text/plain": [
       "array([[1208,    2,   24,   15,   10,   35,   24,   12,   23,    9],\n",
       "       [   1, 1542,   10,    8,   12,    7,    8,   13,   19,    4],\n",
       "       [  24,   14, 1140,   53,   27,   16,   35,   26,   43,   12],\n",
       "       [  23,   20,   53, 1086,   11,   81,    6,   29,   88,   18],\n",
       "       [  13,    7,   19,    4, 1115,   29,   18,   44,   27,   85],\n",
       "       [  30,   13,   15,   69,   24,  944,   40,   16,   95,   25],\n",
       "       [  23,    4,   32,    4,   29,   22, 1244,    3,   20,   10],\n",
       "       [   8,    6,   19,   17,   34,    9,    4, 1209,   19,   88],\n",
       "       [  17,   19,   40,   74,   32,   77,   21,   16, 1035,   41],\n",
       "       [  14,    4,   15,   26,  112,   21,    1,   91,   29, 1088]])"
      ]
     },
     "execution_count": 128,
     "metadata": {},
     "output_type": "execute_result"
    }
   ],
   "source": [
    "confusion_matrix(y_test,predicted_dct)"
   ]
  },
  {
   "cell_type": "code",
   "execution_count": 117,
   "id": "d2421a57",
   "metadata": {},
   "outputs": [],
   "source": [
    "with open('model_dct.pkl','wb') as f:\n",
    "    pickle.dump(clf_dct,f)"
   ]
  },
  {
   "cell_type": "code",
   "execution_count": 157,
   "id": "0bd8f903",
   "metadata": {},
   "outputs": [
    {
     "data": {
      "text/plain": [
       "GridSearchCV(cv=2, estimator=LinearSVC(dual=False), n_jobs=-1,\n",
       "             param_grid={'C': [0.001, 0.01, 0.1, 1]})"
      ]
     },
     "execution_count": 157,
     "metadata": {},
     "output_type": "execute_result"
    }
   ],
   "source": [
    "lsvc=LinearSVC(dual=False)\n",
    "clf_lsvc=GridSearchCV(lsvc,search_space_lin_svc,n_jobs=-1,cv=2)\n",
    "clf_lsvc.fit(X_train,y_train)"
   ]
  },
  {
   "cell_type": "code",
   "execution_count": 158,
   "id": "680719c9",
   "metadata": {},
   "outputs": [
    {
     "data": {
      "text/plain": [
       "{'C': 0.01}"
      ]
     },
     "execution_count": 158,
     "metadata": {},
     "output_type": "execute_result"
    }
   ],
   "source": [
    "clf_lsvc.best_params_"
   ]
  },
  {
   "cell_type": "code",
   "execution_count": 159,
   "id": "5990a616",
   "metadata": {},
   "outputs": [
    {
     "data": {
      "text/plain": [
       "{'mean_fit_time': array([ 161.88624752, 1146.01064491, 1940.61772645, 3071.01824355]),\n",
       " 'std_fit_time': array([ 5.47511542, 15.340451  , 13.37943447, 27.57126641]),\n",
       " 'mean_score_time': array([0.07130957, 0.06468999, 0.10819721, 0.10718298]),\n",
       " 'std_score_time': array([0.00231433, 0.00124609, 0.00077796, 0.00109005]),\n",
       " 'param_C': masked_array(data=[0.001, 0.01, 0.1, 1],\n",
       "              mask=[False, False, False, False],\n",
       "        fill_value='?',\n",
       "             dtype=object),\n",
       " 'params': [{'C': 0.001}, {'C': 0.01}, {'C': 0.1}, {'C': 1}],\n",
       " 'split0_test_score': array([0.89728571, 0.90539286, 0.90496429, 0.90235714]),\n",
       " 'split1_test_score': array([0.89375   , 0.90242857, 0.90132143, 0.89907143]),\n",
       " 'mean_test_score': array([0.89551786, 0.90391071, 0.90314286, 0.90071429]),\n",
       " 'std_test_score': array([0.00176786, 0.00148214, 0.00182143, 0.00164286]),\n",
       " 'rank_test_score': array([4, 1, 2, 3], dtype=int32)}"
      ]
     },
     "execution_count": 159,
     "metadata": {},
     "output_type": "execute_result"
    }
   ],
   "source": [
    "clf_lsvc.cv_results_"
   ]
  },
  {
   "cell_type": "code",
   "execution_count": 160,
   "id": "5f1d473d",
   "metadata": {},
   "outputs": [],
   "source": [
    "predicted_lsvc=clf_lsvc.predict(X_test)"
   ]
  },
  {
   "cell_type": "code",
   "execution_count": 161,
   "id": "dcd5badf",
   "metadata": {},
   "outputs": [
    {
     "name": "stdout",
     "output_type": "stream",
     "text": [
      "              precision    recall  f1-score   support\n",
      "\n",
      "           0       0.94      0.97      0.96      1362\n",
      "           1       0.94      0.97      0.95      1624\n",
      "           2       0.92      0.88      0.90      1390\n",
      "           3       0.89      0.88      0.89      1415\n",
      "           4       0.91      0.94      0.92      1361\n",
      "           5       0.90      0.85      0.87      1271\n",
      "           6       0.93      0.95      0.94      1391\n",
      "           7       0.92      0.95      0.94      1413\n",
      "           8       0.88      0.86      0.87      1372\n",
      "           9       0.90      0.88      0.89      1401\n",
      "\n",
      "    accuracy                           0.91     14000\n",
      "   macro avg       0.91      0.91      0.91     14000\n",
      "weighted avg       0.91      0.91      0.91     14000\n",
      "\n"
     ]
    }
   ],
   "source": [
    "print(classification_report(y_test,predicted_lsvc))"
   ]
  },
  {
   "cell_type": "code",
   "execution_count": 162,
   "id": "afa7cfab",
   "metadata": {},
   "outputs": [
    {
     "data": {
      "text/plain": [
       "array([[1327,    1,    3,    2,    3,    5,   11,    3,    4,    3],\n",
       "       [   1, 1577,    6,    7,    2,    5,    5,    6,   14,    1],\n",
       "       [  12,   21, 1229,   22,   15,    9,   14,   20,   41,    7],\n",
       "       [  10,   13,   40, 1245,    3,   31,    8,    9,   37,   19],\n",
       "       [   3,    5,    7,    3, 1278,    4,   13,    4,    5,   39],\n",
       "       [  18,    4,   10,   53,   21, 1075,   34,    4,   39,   13],\n",
       "       [  14,    5,   13,    0,   10,   15, 1321,    4,    8,    1],\n",
       "       [   0,    6,    9,    4,    9,    2,    4, 1339,    4,   36],\n",
       "       [  13,   42,   11,   33,   12,   43,   12,    8, 1176,   22],\n",
       "       [   7,    9,    6,   26,   51,   10,    0,   52,    9, 1231]])"
      ]
     },
     "execution_count": 162,
     "metadata": {},
     "output_type": "execute_result"
    }
   ],
   "source": [
    "confusion_matrix(y_test,predicted_lsvc)"
   ]
  },
  {
   "cell_type": "code",
   "execution_count": 163,
   "id": "228f06ae",
   "metadata": {},
   "outputs": [],
   "source": [
    "with open('model_lsvc.pkl','wb') as f:\n",
    "    pickle.dump(clf_lsvc,f)"
   ]
  },
  {
   "cell_type": "code",
   "execution_count": 166,
   "id": "faf7b4fb",
   "metadata": {},
   "outputs": [
    {
     "name": "stderr",
     "output_type": "stream",
     "text": [
      "/opt/anaconda3/lib/python3.8/site-packages/sklearn/svm/_base.py:255: ConvergenceWarning: Solver terminated early (max_iter=2000).  Consider pre-processing your data with StandardScaler or MinMaxScaler.\n",
      "  warnings.warn('Solver terminated early (max_iter=%i).'\n"
     ]
    },
    {
     "data": {
      "text/plain": [
       "GridSearchCV(cv=5, estimator=SVC(C=0.001, max_iter=2000), n_jobs=-1,\n",
       "             param_grid={'kernel': ['linear', 'poly', 'rbf', 'sigmoid']})"
      ]
     },
     "execution_count": 166,
     "metadata": {},
     "output_type": "execute_result"
    }
   ],
   "source": [
    "svc=SVC(C=0.001,max_iter=2000)\n",
    "clf_svc=GridSearchCV(svc,search_space_s,n_jobs=-1,cv=5)\n",
    "clf_svc.fit(X_train_pca,y_train)"
   ]
  },
  {
   "cell_type": "code",
   "execution_count": 167,
   "id": "1b52c3b8",
   "metadata": {},
   "outputs": [
    {
     "data": {
      "text/plain": [
       "{'kernel': 'linear'}"
      ]
     },
     "execution_count": 167,
     "metadata": {},
     "output_type": "execute_result"
    }
   ],
   "source": [
    "clf_svc.best_params_"
   ]
  },
  {
   "cell_type": "code",
   "execution_count": 168,
   "id": "896a693b",
   "metadata": {},
   "outputs": [
    {
     "data": {
      "text/plain": [
       "{'mean_fit_time': array([ 171.95512977,  984.58973093, 1038.45634322,  751.77450013]),\n",
       " 'std_fit_time': array([ 3.13967254,  6.40468162, 19.94938339,  8.52851972]),\n",
       " 'mean_score_time': array([ 27.29575744,  59.96360068, 110.68338299,  49.62296343]),\n",
       " 'std_score_time': array([0.26372807, 0.38421839, 4.67408844, 2.68643461]),\n",
       " 'param_kernel': masked_array(data=['linear', 'poly', 'rbf', 'sigmoid'],\n",
       "              mask=[False, False, False, False],\n",
       "        fill_value='?',\n",
       "             dtype=object),\n",
       " 'params': [{'kernel': 'linear'},\n",
       "  {'kernel': 'poly'},\n",
       "  {'kernel': 'rbf'},\n",
       "  {'kernel': 'sigmoid'}],\n",
       " 'split0_test_score': array([0.93633929, 0.09928571, 0.63946429, 0.59705357]),\n",
       " 'split1_test_score': array([0.93892857, 0.09991071, 0.62598214, 0.59776786]),\n",
       " 'split2_test_score': array([0.94151786, 0.09946429, 0.63098214, 0.59955357]),\n",
       " 'split3_test_score': array([0.93464286, 0.09955357, 0.639375  , 0.60741071]),\n",
       " 'split4_test_score': array([0.93857143, 0.09946429, 0.63017857, 0.61330357]),\n",
       " 'mean_test_score': array([0.938     , 0.09953571, 0.63319643, 0.60301786]),\n",
       " 'std_test_score': array([0.00234915, 0.00020671, 0.00535756, 0.00632818]),\n",
       " 'rank_test_score': array([1, 4, 2, 3], dtype=int32)}"
      ]
     },
     "execution_count": 168,
     "metadata": {},
     "output_type": "execute_result"
    }
   ],
   "source": [
    "clf_svc.cv_results_"
   ]
  },
  {
   "cell_type": "code",
   "execution_count": 169,
   "id": "9fa49e25",
   "metadata": {},
   "outputs": [],
   "source": [
    "predicted_svc=clf_svc.predict(X_test_pca)"
   ]
  },
  {
   "cell_type": "code",
   "execution_count": 170,
   "id": "3ac063ea",
   "metadata": {},
   "outputs": [
    {
     "name": "stdout",
     "output_type": "stream",
     "text": [
      "              precision    recall  f1-score   support\n",
      "\n",
      "           0       0.96      0.99      0.97      1362\n",
      "           1       0.96      0.98      0.97      1624\n",
      "           2       0.94      0.93      0.93      1390\n",
      "           3       0.93      0.91      0.92      1415\n",
      "           4       0.94      0.96      0.95      1361\n",
      "           5       0.92      0.90      0.91      1271\n",
      "           6       0.96      0.96      0.96      1391\n",
      "           7       0.95      0.95      0.95      1413\n",
      "           8       0.93      0.92      0.92      1372\n",
      "           9       0.94      0.92      0.93      1401\n",
      "\n",
      "    accuracy                           0.94     14000\n",
      "   macro avg       0.94      0.94      0.94     14000\n",
      "weighted avg       0.94      0.94      0.94     14000\n",
      "\n"
     ]
    }
   ],
   "source": [
    "print(classification_report(y_test,predicted_svc))"
   ]
  },
  {
   "cell_type": "code",
   "execution_count": 171,
   "id": "4a7aa918",
   "metadata": {},
   "outputs": [
    {
     "data": {
      "text/plain": [
       "array([[1342,    0,    2,    1,    3,    2,    7,    0,    5,    0],\n",
       "       [   1, 1586,    8,    5,    3,    1,    4,    6,    8,    2],\n",
       "       [  15,   10, 1298,   12,   12,    3,   11,   11,   16,    2],\n",
       "       [   3,    8,   31, 1285,    2,   38,    4,    9,   29,    6],\n",
       "       [   3,    3,   10,    0, 1313,    1,    5,    2,    2,   22],\n",
       "       [  11,    7,    5,   39,    7, 1149,   20,    1,   26,    6],\n",
       "       [  13,    3,    7,    1,    7,   15, 1341,    1,    3,    0],\n",
       "       [   0,    5,   10,    5,   10,    0,    0, 1346,    1,   36],\n",
       "       [   8,   25,    9,   19,    8,   29,    6,    6, 1257,    5],\n",
       "       [   3,    6,    7,   19,   35,    5,    0,   33,    8, 1285]])"
      ]
     },
     "execution_count": 171,
     "metadata": {},
     "output_type": "execute_result"
    }
   ],
   "source": [
    "confusion_matrix(y_test,predicted_svc)"
   ]
  },
  {
   "cell_type": "code",
   "execution_count": 172,
   "id": "59f07599",
   "metadata": {},
   "outputs": [],
   "source": [
    "with open('model_svc.pkl','wb') as f:\n",
    "    pickle.dump(clf_svc,f)"
   ]
  },
  {
   "cell_type": "code",
   "execution_count": null,
   "id": "bf3f2f61",
   "metadata": {},
   "outputs": [],
   "source": []
  }
 ],
 "metadata": {
  "kernelspec": {
   "display_name": "Python 3",
   "language": "python",
   "name": "python3"
  },
  "language_info": {
   "codemirror_mode": {
    "name": "ipython",
    "version": 3
   },
   "file_extension": ".py",
   "mimetype": "text/x-python",
   "name": "python",
   "nbconvert_exporter": "python",
   "pygments_lexer": "ipython3",
   "version": "3.8.8"
  }
 },
 "nbformat": 4,
 "nbformat_minor": 5
}
