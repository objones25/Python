{
 "cells": [
  {
   "cell_type": "code",
   "execution_count": 171,
   "id": "2130416f",
   "metadata": {},
   "outputs": [],
   "source": [
    "import pandas as pd\n",
    "import numpy as np\n",
    "from matplotlib import pyplot as plt\n",
    "from sklearn.model_selection import train_test_split,StratifiedKFold\n",
    "from numba import njit,prange\n",
    "from joblib import Parallel, delayed\n",
    "from itertools import product\n",
    "from sklearn.preprocessing import RobustScaler\n",
    "from sklearn.decomposition import PCA\n",
    "import pickle"
   ]
  },
  {
   "cell_type": "code",
   "execution_count": 172,
   "id": "24c72b53",
   "metadata": {},
   "outputs": [],
   "source": [
    "df=pd.read_csv('creditcard.csv')"
   ]
  },
  {
   "cell_type": "code",
   "execution_count": 173,
   "id": "ea9d5ec4",
   "metadata": {},
   "outputs": [],
   "source": [
    "target_correlations=df.corr()['Class'].sort_values(ascending=False)"
   ]
  },
  {
   "cell_type": "code",
   "execution_count": 158,
   "id": "c1e47b45",
   "metadata": {},
   "outputs": [
    {
     "data": {
      "text/plain": [
       "Class     1.000000\n",
       "V11       0.154876\n",
       "V4        0.133447\n",
       "V2        0.091289\n",
       "V21       0.040413\n",
       "V19       0.034783\n",
       "V20       0.020090\n",
       "V8        0.019875\n",
       "V27       0.017580\n",
       "V28       0.009536\n",
       "Amount    0.005632\n",
       "V26       0.004455\n",
       "V25       0.003308\n",
       "V22       0.000805\n",
       "V23      -0.002685\n",
       "V15      -0.004223\n",
       "V13      -0.004570\n",
       "V24      -0.007221\n",
       "Time     -0.012323\n",
       "V6       -0.043643\n",
       "V5       -0.094974\n",
       "V9       -0.097733\n",
       "V1       -0.101347\n",
       "V18      -0.111485\n",
       "V7       -0.187257\n",
       "V3       -0.192961\n",
       "V16      -0.196539\n",
       "V10      -0.216883\n",
       "V12      -0.260593\n",
       "V14      -0.302544\n",
       "V17      -0.326481\n",
       "Name: Class, dtype: float64"
      ]
     },
     "execution_count": 158,
     "metadata": {},
     "output_type": "execute_result"
    }
   ],
   "source": [
    "target_correlations"
   ]
  },
  {
   "cell_type": "code",
   "execution_count": 174,
   "id": "19bd87ee",
   "metadata": {},
   "outputs": [],
   "source": [
    "df_clean=df[['V11','V4','V1','V18','V7','V3','V16','V10','V12','V14','V17','Class']]"
   ]
  },
  {
   "cell_type": "code",
   "execution_count": 175,
   "id": "248b4853",
   "metadata": {},
   "outputs": [],
   "source": [
    "X=df_clean.drop('Class',axis=1).values\n",
    "y=df_clean['Class'].values"
   ]
  },
  {
   "cell_type": "code",
   "execution_count": 176,
   "id": "33a82aa3",
   "metadata": {},
   "outputs": [],
   "source": [
    "X_train,X_test,y_train,y_test=train_test_split(X,y,stratify=y,test_size=0.2,random_state=77)"
   ]
  },
  {
   "cell_type": "code",
   "execution_count": 177,
   "id": "f4aff4a3",
   "metadata": {},
   "outputs": [],
   "source": [
    "scaler=RobustScaler()\n",
    "X_train_s=scaler.fit_transform(X_train)\n",
    "X_test_s=scaler.transform(X_test)"
   ]
  },
  {
   "cell_type": "code",
   "execution_count": 179,
   "id": "736ff21c",
   "metadata": {},
   "outputs": [],
   "source": [
    "@njit(parallel=True)\n",
    "def euclidean_distance(X_train, X_test):\n",
    "    num_train, num_features = X_train.shape  # Get the number of training samples and features\n",
    "    num_test = X_test.shape[0]  # Get the number of test samples\n",
    "    distances = np.zeros((num_test, num_train))  # Initialize the distance matrix\n",
    "    \n",
    "    # Loop over each test sample\n",
    "    for i in prange(num_test):\n",
    "        distances[i] = np.sqrt(np.sum((X_train - X_test[i]) ** 2, axis=1))\n",
    "    \n",
    "    return distances  # Return the distance matrix\n",
    "\n",
    "# Define a function to predict labels based on the distances\n",
    "@njit(parallel=True)\n",
    "def predict_labels(distances, y_train, k, threshold):\n",
    "    num_test = distances.shape[0]  # Get the number of test samples\n",
    "    predictions = np.zeros(num_test, dtype=np.int32)  # Initialize the predictions array\n",
    "    \n",
    "    # Loop over each test sample\n",
    "    for i in prange(num_test):\n",
    "        neighbors_indices = np.argsort(distances[i])[:k]\n",
    "        neighbor_labels = y_train[neighbors_indices]\n",
    "        count_1 = np.sum(neighbor_labels == 1)\n",
    "        predictions[i] = 1 if count_1 > k * threshold else 0\n",
    "    \n",
    "    return predictions  # Return the predictions\n",
    "\n",
    "# Define a class for the k-Nearest Neighbors classifier\n",
    "class KNNClassifier:\n",
    "    \n",
    "    def __init__(self, k=3, threshold=0.5):\n",
    "        self.k = k  # Set the number of neighbors\n",
    "        self.threshold = threshold  # Set the threshold for prediction\n",
    "    \n",
    "    def fit(self, X_train, y_train):\n",
    "        self.X_train = X_train  # Store the training data\n",
    "        self.y_train = y_train  # Store the training labels\n",
    "    \n",
    "    def predict(self, X_test, batch_size=100):\n",
    "        num_samples = X_test.shape[0]  # Get the number of test samples\n",
    "        predictions = np.zeros(num_samples, dtype=np.int32)  # Initialize the predictions array\n",
    "        \n",
    "        # Loop over test samples in batches\n",
    "        for i in range(0, num_samples, batch_size):\n",
    "            end_index = min(i + batch_size, num_samples)  # Determine the end index for the current batch\n",
    "            batch_X_test = X_test[i:end_index]  # Get the current batch of test samples\n",
    "            distances = euclidean_distance(self.X_train, batch_X_test)  # Compute distances\n",
    "            batch_predictions = predict_labels(distances, self.y_train, self.k, self.threshold)  # Predict labels for the batch\n",
    "            predictions[i:end_index] = batch_predictions  # Store the batch predictions\n",
    "        \n",
    "        return predictions  # Return the predictions\n",
    "    \n",
    "    def evaluate(self, X_test, y_test):\n",
    "        self._predictions = self.predict(X_test)  # Get predictions for the test data\n",
    "        self._accuracy = np.sum(self._predictions == y_test) / len(y_test)  # Compute accuracy\n",
    "        \n",
    "        # Compute the number of true positives, false positives, and false negatives\n",
    "        true_positives = np.sum((self._predictions == 1) & (y_test == 1))\n",
    "        false_positives = np.sum((self._predictions == 1) & (y_test == 0))\n",
    "        false_negatives = np.sum((self._predictions == 0) & (y_test == 1))\n",
    "        \n",
    "        # Compute precision and recall\n",
    "        self._precision = true_positives / (true_positives + false_positives) if (true_positives + false_positives) > 0 else 0\n",
    "        self._recall = true_positives / (true_positives + false_negatives) if (true_positives + false_negatives) > 0 else 0\n",
    "    \n",
    "    def predictions(self):\n",
    "        return self._predictions  # Return the predictions\n",
    "    \n",
    "    def metrics(self):\n",
    "        return np.array([self._accuracy, self._precision, self._recall])  # Return accuracy, precision, and recall"
   ]
  },
  {
   "cell_type": "code",
   "execution_count": 127,
   "id": "5756206c",
   "metadata": {},
   "outputs": [],
   "source": [
    "kfold=StratifiedKFold(n_splits=3,random_state=98,shuffle=True)\n",
    "hyper_parameter_search=np.array([])\n",
    "k_array=np.arange(5,30,5)\n"
   ]
  },
  {
   "cell_type": "code",
   "execution_count": 168,
   "id": "98d8b0a5",
   "metadata": {},
   "outputs": [],
   "source": [
    "model=KNNClassifier()"
   ]
  },
  {
   "cell_type": "code",
   "execution_count": 169,
   "id": "5ee51025",
   "metadata": {},
   "outputs": [],
   "source": [
    "model.fit(X_train_s,y_train)\n",
    "model.evaluate(X_test_s,y_test)"
   ]
  },
  {
   "cell_type": "code",
   "execution_count": 170,
   "id": "198a58d7",
   "metadata": {},
   "outputs": [
    {
     "data": {
      "text/plain": [
       "array([         0, -875836469, -875836469, ..., -875836469, -875836469,\n",
       "       -875836469], dtype=int32)"
      ]
     },
     "execution_count": 170,
     "metadata": {},
     "output_type": "execute_result"
    }
   ],
   "source": [
    "model.predictions()"
   ]
  },
  {
   "cell_type": "code",
   "execution_count": null,
   "id": "6348ffbf",
   "metadata": {},
   "outputs": [],
   "source": []
  }
 ],
 "metadata": {
  "kernelspec": {
   "display_name": "Python 3",
   "language": "python",
   "name": "python3"
  },
  "language_info": {
   "codemirror_mode": {
    "name": "ipython",
    "version": 3
   },
   "file_extension": ".py",
   "mimetype": "text/x-python",
   "name": "python",
   "nbconvert_exporter": "python",
   "pygments_lexer": "ipython3",
   "version": "3.8.8"
  }
 },
 "nbformat": 4,
 "nbformat_minor": 5
}
