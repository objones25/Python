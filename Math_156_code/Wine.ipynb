{
 "cells": [
  {
   "cell_type": "code",
   "execution_count": 74,
   "id": "82b9d48e",
   "metadata": {},
   "outputs": [],
   "source": [
    "import numpy as np\n",
    "import pandas as pd\n",
    "from sklearn import datasets\n",
    "from sklearn.model_selection import cross_validate\n",
    "from sklearn.preprocessing import StandardScaler\n",
    "from scipy.stats import multivariate_normal\n",
    "from sklearn.linear_model import LogisticRegression"
   ]
  },
  {
   "cell_type": "code",
   "execution_count": 63,
   "id": "a07a872d",
   "metadata": {},
   "outputs": [],
   "source": [
    "wine=datasets.load_wine()"
   ]
  },
  {
   "cell_type": "code",
   "execution_count": 64,
   "id": "03d6ff87",
   "metadata": {},
   "outputs": [],
   "source": [
    "scaler=StandardScaler()\n",
    "wine_scaled=scaler.fit_transform(wine.data)"
   ]
  },
  {
   "cell_type": "code",
   "execution_count": 65,
   "id": "07676789",
   "metadata": {},
   "outputs": [],
   "source": [
    "cov_0=np.cov(np.transpose(wine_scaled[wine.target==0]))\n",
    "cov_1=np.cov(np.transpose(wine_scaled[wine.target==1]))\n",
    "cov_2=np.cov(np.transpose(wine_scaled[wine.target==2]))"
   ]
  },
  {
   "cell_type": "code",
   "execution_count": 66,
   "id": "c8b13a49",
   "metadata": {},
   "outputs": [],
   "source": [
    "mean_0=np.mean(wine_scaled[wine.target==0],axis=0)\n",
    "mean_1=np.mean(wine_scaled[wine.target==1],axis=0)\n",
    "mean_2=np.mean(wine_scaled[wine.target==2],axis=0)"
   ]
  },
  {
   "cell_type": "code",
   "execution_count": 71,
   "id": "816983f6",
   "metadata": {},
   "outputs": [],
   "source": [
    "basis_0=multivariate_normal(mean=mean_0,cov=cov_0)\n",
    "basis_1=multivariate_normal(mean=mean_1,cov=cov_1)\n",
    "basis_2=multivariate_normal(mean=mean_2,cov=cov_2)"
   ]
  },
  {
   "cell_type": "code",
   "execution_count": 73,
   "id": "ca358d2f",
   "metadata": {},
   "outputs": [
    {
     "data": {
      "text/plain": [
       "array([2.43528383e-17, 2.24414703e-14, 1.16366987e-13, 1.40463872e-25,\n",
       "       1.83593849e-07, 1.56934850e-20, 9.69886481e-22, 8.12343205e-18,\n",
       "       3.12890716e-15, 6.77495442e-15, 2.71038920e-20, 3.05487366e-15,\n",
       "       1.07597682e-16, 2.47666529e-24, 2.08447259e-29, 9.74660639e-18,\n",
       "       7.23563167e-15, 9.05641488e-12, 6.64752877e-29, 3.04941334e-12,\n",
       "       4.99002415e-12, 3.94484233e-10, 3.46908723e-14, 2.83471185e-10,\n",
       "       9.96718523e-10, 1.04112485e-08, 3.20866907e-15, 8.82983371e-13,\n",
       "       9.62228826e-12, 2.21561344e-13, 7.12554374e-14, 1.22930290e-18,\n",
       "       3.72460396e-10, 1.56799863e-14, 2.34358667e-10, 4.36684956e-08,\n",
       "       4.63216383e-11, 7.26298931e-10, 4.36840339e-10, 5.67409972e-17,\n",
       "       9.12954534e-11, 2.62487178e-11, 2.65845619e-16, 3.82283450e-07,\n",
       "       1.51237740e-07, 1.47719727e-14, 1.35906845e-15, 4.72778100e-11,\n",
       "       6.21969649e-12, 9.46625976e-20, 1.78546795e-16, 1.02471591e-17,\n",
       "       3.74047044e-18, 7.35233267e-18, 6.75127853e-11, 1.80940628e-11,\n",
       "       2.80807924e-13, 4.62954063e-15, 1.62648564e-15, 1.92730567e-07,\n",
       "       8.79626157e-07, 6.38031748e-08, 9.49277375e-06, 5.51171195e-06,\n",
       "       6.97604838e-06, 9.20479488e-06, 4.44906614e-07, 8.87453830e-07,\n",
       "       8.56229803e-09, 1.93809231e-08, 3.87603853e-07, 1.21817539e-08,\n",
       "       6.27727044e-06, 1.28437137e-09, 1.96538443e-07, 3.53733734e-06,\n",
       "       8.97665437e-06, 2.18411514e-05, 1.00240561e-06, 1.19580684e-05,\n",
       "       2.70181089e-05, 1.61094387e-05, 2.05995658e-05, 9.93216483e-08,\n",
       "       2.86854036e-07, 4.33229119e-05, 3.70014668e-05, 5.31894686e-06,\n",
       "       7.64854266e-05, 8.11635544e-06, 8.68125923e-05, 6.18868905e-06,\n",
       "       1.83412487e-05, 2.36557877e-05, 2.53770302e-06, 9.89349258e-09,\n",
       "       4.66620152e-09, 1.03798676e-04, 6.70626690e-07, 1.98682382e-07,\n",
       "       1.41343900e-06, 5.90992387e-05, 2.45169333e-05, 1.83778156e-05,\n",
       "       1.82301686e-05, 2.23654022e-07, 6.38155732e-05, 3.45631678e-05,\n",
       "       1.02475046e-05, 2.46443727e-06, 4.49015963e-09, 1.27178545e-05,\n",
       "       4.08849834e-07, 1.77511139e-05, 6.31259082e-05, 2.40719990e-08,\n",
       "       5.58002095e-05, 1.52845784e-05, 9.67271741e-06, 2.51021997e-05,\n",
       "       2.23928541e-05, 3.52798801e-12, 6.96205737e-06, 1.19265389e-07,\n",
       "       1.84568883e-06, 8.14511625e-05, 9.00213875e-06, 3.16026708e-06,\n",
       "       6.69303806e-06, 8.66026531e-06, 8.39343265e-10, 3.44061189e-11,\n",
       "       3.08706235e-13, 2.94496874e-13, 8.58909900e-14, 1.84667817e-16,\n",
       "       9.34625800e-11, 1.39474399e-16, 7.91209205e-14, 3.62715677e-15,\n",
       "       3.00876693e-11, 1.14595873e-12, 8.76393262e-11, 3.84054527e-12,\n",
       "       1.40978074e-23, 4.43963991e-09, 4.00528967e-14, 5.19899403e-24,\n",
       "       4.33237233e-27, 3.66117156e-26, 4.76247091e-24, 6.46131150e-38,\n",
       "       2.99255906e-23, 4.05334788e-43, 1.20426683e-20, 2.89183267e-28,\n",
       "       3.19560680e-33, 1.72505266e-26, 1.00861579e-85, 1.48103120e-66,\n",
       "       1.64059622e-24, 5.33110353e-15, 5.35146534e-14, 1.09164071e-09,\n",
       "       2.14421004e-31, 5.06548450e-19, 2.28414101e-42, 1.17307524e-37,\n",
       "       8.79180582e-28, 1.55579813e-31, 2.02700640e-11, 7.30365482e-35,\n",
       "       3.41814910e-35, 2.30971452e-26, 3.04253448e-21, 1.23223892e-37,\n",
       "       2.74010416e-30, 2.11222247e-39])"
      ]
     },
     "execution_count": 73,
     "metadata": {},
     "output_type": "execute_result"
    }
   ],
   "source": [
    "basis_1.pdf(wine_scaled)"
   ]
  },
  {
   "cell_type": "code",
   "execution_count": null,
   "id": "2cda80e9",
   "metadata": {},
   "outputs": [],
   "source": []
  }
 ],
 "metadata": {
  "kernelspec": {
   "display_name": "Python 3",
   "language": "python",
   "name": "python3"
  },
  "language_info": {
   "codemirror_mode": {
    "name": "ipython",
    "version": 3
   },
   "file_extension": ".py",
   "mimetype": "text/x-python",
   "name": "python",
   "nbconvert_exporter": "python",
   "pygments_lexer": "ipython3",
   "version": "3.8.8"
  }
 },
 "nbformat": 4,
 "nbformat_minor": 5
}
