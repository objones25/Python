{
 "cells": [
  {
   "cell_type": "code",
   "execution_count": null,
   "id": "0e45bff6",
   "metadata": {},
   "outputs": [],
   "source": [
    "import pandas as pd\n",
    "import numpy as np\n",
    "from numba import jit,njit,prange\n",
    "from sklearn.model_selection import train_test_split,StratifiedKFold\n",
    "from sklearn.preprocessing import RobustScaler"
   ]
  },
  {
   "cell_type": "code",
   "execution_count": null,
   "id": "c55f61ad",
   "metadata": {},
   "outputs": [],
   "source": [
    "df=pd.read_csv('creditcard.csv')\n",
    "df_clean=df[['V11','V4','V1','V18','V7','V3','V16','V10','V12','V14','V17','Class']]"
   ]
  },
  {
   "cell_type": "code",
   "execution_count": null,
   "id": "6221e4d9",
   "metadata": {},
   "outputs": [],
   "source": [
    "target_correlations=df.corr()['Class'].sort_values(ascending=False)\n",
    "target_correlations"
   ]
  },
  {
   "cell_type": "code",
   "execution_count": null,
   "id": "ba3977d2",
   "metadata": {},
   "outputs": [],
   "source": [
    "X=df_clean.drop('Class',axis=1).values\n",
    "y=df_clean['Class'].values"
   ]
  },
  {
   "cell_type": "code",
   "execution_count": null,
   "id": "d13ddd29",
   "metadata": {},
   "outputs": [],
   "source": [
    "X_train,X_test,y_train,y_test=train_test_split(X,y,stratify=y,test_size=0.2,random_state=77)"
   ]
  },
  {
   "cell_type": "code",
   "execution_count": null,
   "id": "20fdea4b",
   "metadata": {},
   "outputs": [],
   "source": [
    "scaler=RobustScaler()\n",
    "X_train_s=scaler.fit_transform(X_train)\n",
    "X_test_s=scaler.transform(X_test)"
   ]
  },
  {
   "cell_type": "code",
   "execution_count": null,
   "id": "4fefbdc9",
   "metadata": {},
   "outputs": [],
   "source": [
    "@njit(parallel=True, fastmath=True)\n",
    "def euclidean_distance(X_train, X_test):\n",
    "    num_train, num_features = X_train.shape\n",
    "    num_test = X_test.shape[0]\n",
    "    distances = np.empty((num_test, num_train), dtype=np.float64)\n",
    "    \n",
    "    for i in prange(num_test):\n",
    "        for j in range(num_train):\n",
    "            diff = X_train[j] - X_test[i]\n",
    "            distances[i, j] = np.sqrt(np.sum(diff ** 2))\n",
    "    \n",
    "    return distances\n",
    "\n",
    "@njit(parallel=True, fastmath=True)\n",
    "def predict_labels(distances, y_train, k):\n",
    "    num_test = distances.shape[0]\n",
    "    predictions = np.empty(num_test, dtype=np.int32)\n",
    "    \n",
    "    for i in prange(num_test):\n",
    "        neighbors_indices = np.argsort(distances[i])[:k]\n",
    "        neighbor_labels = y_train[neighbors_indices]\n",
    "        count_1 = np.sum(neighbor_labels == 1)\n",
    "        count_0 = np.sum(neighbor_labels == 0)\n",
    "        predictions[i] = 1 if count_1 > count_0 else 0\n",
    "    \n",
    "    return predictions\n",
    "\n",
    "class KNNClassifier:\n",
    "    \n",
    "    def __init__(self, k=5):\n",
    "        self.k = k\n",
    "        \n",
    "    def fit(self, X_train, y_train):\n",
    "        self.X_train = X_train\n",
    "        self.y_train = y_train\n",
    "        \n",
    "    def predict(self, X_test, batch_size=100):\n",
    "        num_samples = X_test.shape[0]\n",
    "        predictions = np.empty(num_samples, dtype=np.int32)\n",
    "        \n",
    "        for i in range(0, num_samples, batch_size):\n",
    "            end_index = min(i + batch_size, num_samples)\n",
    "            batch_X_test = X_test[i:end_index]\n",
    "            distances = euclidean_distance(self.X_train, batch_X_test)\n",
    "            batch_predictions = predict_labels(distances, self.y_train, self.k)\n",
    "            predictions[i:end_index] = batch_predictions\n",
    "        \n",
    "        return predictions\n",
    "    \n",
    "    def evaluate(self, X_test, y_test):\n",
    "        self._predictions = self.predict(X_test)\n",
    "        \n",
    "        self._accuracy = np.sum(self._predictions == y_test) / len(y_test)\n",
    "        \n",
    "        # Compute the number of true positives, false positives, and false negatives\n",
    "        true_positives = np.sum((self._predictions == 1) & (y_test == 1))\n",
    "        false_positives = np.sum((self._predictions == 1) & (y_test == 0))\n",
    "        false_negatives = np.sum((self._predictions == 0) & (y_test == 1))\n",
    "        \n",
    "        # Compute precision and recall\n",
    "        self._precision = true_positives / (true_positives + false_positives) if (true_positives + false_positives) > 0 else 0\n",
    "        self._recall = true_positives / (true_positives + false_negatives) if (true_positives + false_negatives) > 0 else 0\n",
    "        \n",
    "    def predictions(self):\n",
    "        return self._predictions  # Return the predictions\n",
    "    \n",
    "    def metrics(self):\n",
    "        return np.array([self._accuracy, self._precision, self._recall])  # Return accuracy, precision, and recall"
   ]
  },
  {
   "cell_type": "code",
   "execution_count": null,
   "id": "003889c5",
   "metadata": {},
   "outputs": [],
   "source": [
    "def cross_validate_knn(X, y, k_values, n_splits=5):\n",
    "    kf = StratifiedKFold(n_splits=n_splits, shuffle=True, random_state=42)\n",
    "    results = []\n",
    "    \n",
    "    for k in k_values:\n",
    "        knn = KNNClassifier(k=k)\n",
    "        accuracies = np.array([])\n",
    "        precisions = np.array([])\n",
    "        recalls = np.array([])\n",
    "        \n",
    "        for train_index, val_index in kf.split(X,y):\n",
    "            X_train, X_val = X[train_index], X[val_index]\n",
    "            y_train, y_val = y[train_index], y[val_index]\n",
    "            \n",
    "            knn.fit(X_train, y_train)\n",
    "            knn.evaluate(X_val, y_val)\n",
    "            accuracy, precision, recall = knn.metrics()\n",
    "            \n",
    "            accuracies=np.append(accuracies,accuracy)\n",
    "            precisions=np.append(precisions,precision)\n",
    "            recalls=np.append(recalls,recall)\n",
    "            \n",
    "        \n",
    "        results=np.append(results,{\n",
    "            'k': k,\n",
    "            'accuracy': np.mean(accuracies),\n",
    "            'precision': np.mean(precisions),\n",
    "            'recall': np.mean(recalls)\n",
    "        })\n",
    "        print({\n",
    "            'k': k,\n",
    "            'accuracy': np.mean(accuracies),\n",
    "            'precision': np.mean(precisions),\n",
    "            'recall': np.mean(recalls)\n",
    "        })\n",
    "    \n",
    "    return results"
   ]
  },
  {
   "cell_type": "code",
   "execution_count": null,
   "id": "7f87ab6c",
   "metadata": {},
   "outputs": [],
   "source": [
    "results=cross_validate_knn(X_train_s,y_train,np.arange(5,30,5))"
   ]
  },
  {
   "cell_type": "code",
   "execution_count": null,
   "id": "e430bf8e",
   "metadata": {},
   "outputs": [],
   "source": [
    "model=KNNClassifier(k=5)\n",
    "model.fit(X_train_s,y_train)\n",
    "model.evaluate(X_test_s,y_test)"
   ]
  },
  {
   "cell_type": "code",
   "execution_count": null,
   "id": "08d0783b",
   "metadata": {},
   "outputs": [],
   "source": [
    "model.metrics()"
   ]
  },
  {
   "cell_type": "code",
   "execution_count": null,
   "id": "060cbdbd",
   "metadata": {},
   "outputs": [],
   "source": []
  }
 ],
 "metadata": {
  "kernelspec": {
   "display_name": "Python 3",
   "language": "python",
   "name": "python3"
  },
  "language_info": {
   "codemirror_mode": {
    "name": "ipython",
    "version": 3
   },
   "file_extension": ".py",
   "mimetype": "text/x-python",
   "name": "python",
   "nbconvert_exporter": "python",
   "pygments_lexer": "ipython3",
   "version": "3.8.8"
  },
  "widgets": {
   "application/vnd.jupyter.widget-state+json": {
    "state": {},
    "version_major": 2,
    "version_minor": 0
   }
  }
 },
 "nbformat": 4,
 "nbformat_minor": 5
}
