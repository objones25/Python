{
 "cells": [
  {
   "cell_type": "code",
   "execution_count": 22,
   "id": "67596998",
   "metadata": {},
   "outputs": [],
   "source": [
    "from bs4 import BeautifulSoup as soup\n",
    "import numpy as np\n",
    "import random as rd"
   ]
  },
  {
   "cell_type": "code",
   "execution_count": 23,
   "id": "a80c6cbf",
   "metadata": {},
   "outputs": [],
   "source": [
    "def password_selector():\n",
    "    confirmed = False\n",
    "    while confirmed == False:\n",
    "        print('Select \"A\" for password generator or \"B\" for password validator')\n",
    "        choice = input('Your Choice: ')\n",
    "        print('Selected: ' +choice)\n",
    "        if choice == 'a' or choice == 'A':\n",
    "            password_generator()\n",
    "            break\n",
    "        if choice == 'b' or choice == 'B':\n",
    "            password_validator()\n",
    "            break\n",
    "        print('try again')\n",
    "        \n",
    "class password:\n",
    "    length: int\n",
    "    lowercase_letters: int\n",
    "    uppercase_letters: int\n",
    "    numbers: int \n",
    "    special_characters: int\n",
    "\n",
    "def password_generator():\n",
    "    print('password generator selected')\n",
    "    pass1 = password()\n",
    "    pass1.length = Int(input('min length: ')\n",
    "    pass1.uppercase_letters = input('# uppercase letters: ')\n",
    "    pass1.numbers = input('# of numbers: ')\n",
    "    pass1.special_characters = input('# of special characters: ')\n",
    "    letters_needed = pass1.length - (pass1.uppercase_letters+pass1.numbers+pass1.special_characters)\n",
    "    pass1.lowercase_letters = abs(letters_needed) + rd.randint(0,4)\n",
    "    print(pass1)\n",
    "        \n",
    "    \n",
    "    \n",
    "\n",
    "\n",
    "\n",
    "def password_validator():\n",
    "    print('password validator selected')\n"
   ]
  },
  {
   "cell_type": "code",
   "execution_count": 24,
   "id": "3766cd19",
   "metadata": {},
   "outputs": [
    {
     "name": "stdout",
     "output_type": "stream",
     "text": [
      "Select \"A\" for password generator or \"B\" for password validator\n",
      "Your Choice: A\n",
      "Selected: A\n",
      "password generator selected\n",
      "min length: 10\n",
      "# uppercase letters: 2\n",
      "# of numbers: 3\n",
      "# of special characters: 5\n"
     ]
    },
    {
     "ename": "TypeError",
     "evalue": "unsupported operand type(s) for -: 'str' and 'str'",
     "output_type": "error",
     "traceback": [
      "\u001b[0;31m---------------------------------------------------------------------------\u001b[0m",
      "\u001b[0;31mTypeError\u001b[0m                                 Traceback (most recent call last)",
      "\u001b[0;32m<ipython-input-24-f90e7ad91428>\u001b[0m in \u001b[0;36m<module>\u001b[0;34m\u001b[0m\n\u001b[0;32m----> 1\u001b[0;31m \u001b[0mpassword_selector\u001b[0m\u001b[0;34m(\u001b[0m\u001b[0;34m)\u001b[0m\u001b[0;34m\u001b[0m\u001b[0;34m\u001b[0m\u001b[0m\n\u001b[0m",
      "\u001b[0;32m<ipython-input-23-0a81170d2847>\u001b[0m in \u001b[0;36mpassword_selector\u001b[0;34m()\u001b[0m\n\u001b[1;32m      6\u001b[0m         \u001b[0mprint\u001b[0m\u001b[0;34m(\u001b[0m\u001b[0;34m'Selected: '\u001b[0m \u001b[0;34m+\u001b[0m\u001b[0mchoice\u001b[0m\u001b[0;34m)\u001b[0m\u001b[0;34m\u001b[0m\u001b[0;34m\u001b[0m\u001b[0m\n\u001b[1;32m      7\u001b[0m         \u001b[0;32mif\u001b[0m \u001b[0mchoice\u001b[0m \u001b[0;34m==\u001b[0m \u001b[0;34m'a'\u001b[0m \u001b[0;32mor\u001b[0m \u001b[0mchoice\u001b[0m \u001b[0;34m==\u001b[0m \u001b[0;34m'A'\u001b[0m\u001b[0;34m:\u001b[0m\u001b[0;34m\u001b[0m\u001b[0;34m\u001b[0m\u001b[0m\n\u001b[0;32m----> 8\u001b[0;31m             \u001b[0mpassword_generator\u001b[0m\u001b[0;34m(\u001b[0m\u001b[0;34m)\u001b[0m\u001b[0;34m\u001b[0m\u001b[0;34m\u001b[0m\u001b[0m\n\u001b[0m\u001b[1;32m      9\u001b[0m             \u001b[0;32mbreak\u001b[0m\u001b[0;34m\u001b[0m\u001b[0;34m\u001b[0m\u001b[0m\n\u001b[1;32m     10\u001b[0m         \u001b[0;32mif\u001b[0m \u001b[0mchoice\u001b[0m \u001b[0;34m==\u001b[0m \u001b[0;34m'b'\u001b[0m \u001b[0;32mor\u001b[0m \u001b[0mchoice\u001b[0m \u001b[0;34m==\u001b[0m \u001b[0;34m'B'\u001b[0m\u001b[0;34m:\u001b[0m\u001b[0;34m\u001b[0m\u001b[0;34m\u001b[0m\u001b[0m\n",
      "\u001b[0;32m<ipython-input-23-0a81170d2847>\u001b[0m in \u001b[0;36mpassword_generator\u001b[0;34m()\u001b[0m\n\u001b[1;32m     27\u001b[0m     \u001b[0mpass1\u001b[0m\u001b[0;34m.\u001b[0m\u001b[0mnumbers\u001b[0m \u001b[0;34m=\u001b[0m \u001b[0minput\u001b[0m\u001b[0;34m(\u001b[0m\u001b[0;34m'# of numbers: '\u001b[0m\u001b[0;34m)\u001b[0m\u001b[0;34m\u001b[0m\u001b[0;34m\u001b[0m\u001b[0m\n\u001b[1;32m     28\u001b[0m     \u001b[0mpass1\u001b[0m\u001b[0;34m.\u001b[0m\u001b[0mspecial_characters\u001b[0m \u001b[0;34m=\u001b[0m \u001b[0minput\u001b[0m\u001b[0;34m(\u001b[0m\u001b[0;34m'# of special characters: '\u001b[0m\u001b[0;34m)\u001b[0m\u001b[0;34m\u001b[0m\u001b[0;34m\u001b[0m\u001b[0m\n\u001b[0;32m---> 29\u001b[0;31m     \u001b[0mletters_needed\u001b[0m \u001b[0;34m=\u001b[0m \u001b[0mpass1\u001b[0m\u001b[0;34m.\u001b[0m\u001b[0mlength\u001b[0m \u001b[0;34m-\u001b[0m \u001b[0;34m(\u001b[0m\u001b[0mpass1\u001b[0m\u001b[0;34m.\u001b[0m\u001b[0muppercase_letters\u001b[0m\u001b[0;34m+\u001b[0m\u001b[0mpass1\u001b[0m\u001b[0;34m.\u001b[0m\u001b[0mnumbers\u001b[0m\u001b[0;34m+\u001b[0m\u001b[0mpass1\u001b[0m\u001b[0;34m.\u001b[0m\u001b[0mspecial_characters\u001b[0m\u001b[0;34m)\u001b[0m\u001b[0;34m\u001b[0m\u001b[0;34m\u001b[0m\u001b[0m\n\u001b[0m\u001b[1;32m     30\u001b[0m     \u001b[0mpass1\u001b[0m\u001b[0;34m.\u001b[0m\u001b[0mlowercase_letters\u001b[0m \u001b[0;34m=\u001b[0m \u001b[0mabs\u001b[0m\u001b[0;34m(\u001b[0m\u001b[0mletters_needed\u001b[0m\u001b[0;34m)\u001b[0m \u001b[0;34m+\u001b[0m \u001b[0mrd\u001b[0m\u001b[0;34m.\u001b[0m\u001b[0mrandint\u001b[0m\u001b[0;34m(\u001b[0m\u001b[0;36m0\u001b[0m\u001b[0;34m,\u001b[0m\u001b[0;36m4\u001b[0m\u001b[0;34m)\u001b[0m\u001b[0;34m\u001b[0m\u001b[0;34m\u001b[0m\u001b[0m\n\u001b[1;32m     31\u001b[0m     \u001b[0mprint\u001b[0m\u001b[0;34m(\u001b[0m\u001b[0mpass1\u001b[0m\u001b[0;34m)\u001b[0m\u001b[0;34m\u001b[0m\u001b[0;34m\u001b[0m\u001b[0m\n",
      "\u001b[0;31mTypeError\u001b[0m: unsupported operand type(s) for -: 'str' and 'str'"
     ]
    }
   ],
   "source": [
    "password_selector()"
   ]
  },
  {
   "cell_type": "code",
   "execution_count": null,
   "id": "1aae364f",
   "metadata": {},
   "outputs": [],
   "source": []
  }
 ],
 "metadata": {
  "kernelspec": {
   "display_name": "Python 3",
   "language": "python",
   "name": "python3"
  },
  "language_info": {
   "codemirror_mode": {
    "name": "ipython",
    "version": 3
   },
   "file_extension": ".py",
   "mimetype": "text/x-python",
   "name": "python",
   "nbconvert_exporter": "python",
   "pygments_lexer": "ipython3",
   "version": "3.8.8"
  }
 },
 "nbformat": 4,
 "nbformat_minor": 5
}
