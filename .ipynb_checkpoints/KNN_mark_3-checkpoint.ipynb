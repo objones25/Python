{
 "cells": [
  {
   "cell_type": "code",
   "execution_count": 19,
   "id": "0e45bff6",
   "metadata": {},
   "outputs": [],
   "source": [
    "import pandas as pd\n",
    "import numpy as np\n",
    "from numba import jit,njit,prange\n",
    "from sklearn.model_selection import train_test_split,StratifiedKFold\n",
    "from sklearn.preprocessing import RobustScaler"
   ]
  },
  {
   "cell_type": "code",
   "execution_count": 20,
   "id": "c55f61ad",
   "metadata": {},
   "outputs": [],
   "source": [
    "df=pd.read_csv('creditcard.csv')\n",
    "df_clean=df[['V11','V4','V1','V18','V7','V3','V16','V10','V12','V14','V17','Class']]"
   ]
  },
  {
   "cell_type": "code",
   "execution_count": 42,
   "id": "6221e4d9",
   "metadata": {},
   "outputs": [
    {
     "data": {
      "text/plain": [
       "Class     1.000000\n",
       "V11       0.154876\n",
       "V4        0.133447\n",
       "V2        0.091289\n",
       "V21       0.040413\n",
       "V19       0.034783\n",
       "V20       0.020090\n",
       "V8        0.019875\n",
       "V27       0.017580\n",
       "V28       0.009536\n",
       "Amount    0.005632\n",
       "V26       0.004455\n",
       "V25       0.003308\n",
       "V22       0.000805\n",
       "V23      -0.002685\n",
       "V15      -0.004223\n",
       "V13      -0.004570\n",
       "V24      -0.007221\n",
       "Time     -0.012323\n",
       "V6       -0.043643\n",
       "V5       -0.094974\n",
       "V9       -0.097733\n",
       "V1       -0.101347\n",
       "V18      -0.111485\n",
       "V7       -0.187257\n",
       "V3       -0.192961\n",
       "V16      -0.196539\n",
       "V10      -0.216883\n",
       "V12      -0.260593\n",
       "V14      -0.302544\n",
       "V17      -0.326481\n",
       "Name: Class, dtype: float64"
      ]
     },
     "execution_count": 42,
     "metadata": {},
     "output_type": "execute_result"
    }
   ],
   "source": [
    "target_correlations=df.corr()['Class'].sort_values(ascending=False)\n",
    "target_correlations"
   ]
  },
  {
   "cell_type": "code",
   "execution_count": 21,
   "id": "ba3977d2",
   "metadata": {},
   "outputs": [],
   "source": [
    "X=df_clean.drop('Class',axis=1).values\n",
    "y=df_clean['Class'].values"
   ]
  },
  {
   "cell_type": "code",
   "execution_count": 25,
   "id": "d13ddd29",
   "metadata": {},
   "outputs": [],
   "source": [
    "X_train,X_test,y_train,y_test=train_test_split(X,y,stratify=y,test_size=0.2,random_state=77)"
   ]
  },
  {
   "cell_type": "code",
   "execution_count": 26,
   "id": "20fdea4b",
   "metadata": {},
   "outputs": [],
   "source": [
    "scaler=RobustScaler()\n",
    "X_train_s=scaler.fit_transform(X_train)\n",
    "X_test_s=scaler.transform(X_test)"
   ]
  },
  {
   "cell_type": "code",
   "execution_count": 17,
   "id": "4fefbdc9",
   "metadata": {},
   "outputs": [],
   "source": [
    "@njit(parallel=True, fastmath=True)\n",
    "def euclidean_distance(X_train, X_test):\n",
    "    num_train, num_features = X_train.shape\n",
    "    num_test = X_test.shape[0]\n",
    "    distances = np.empty((num_test, num_train), dtype=np.float64)\n",
    "    \n",
    "    for i in prange(num_test):\n",
    "        for j in range(num_train):\n",
    "            diff = X_train[j] - X_test[i]\n",
    "            distances[i, j] = np.sqrt(np.sum(diff ** 2))\n",
    "    \n",
    "    return distances\n",
    "\n",
    "@njit(parallel=True, fastmath=True)\n",
    "def predict_labels(distances, y_train, k):\n",
    "    num_test = distances.shape[0]\n",
    "    predictions = np.empty(num_test, dtype=np.int32)\n",
    "    \n",
    "    for i in prange(num_test):\n",
    "        neighbors_indices = np.argsort(distances[i])[:k]\n",
    "        neighbor_labels = y_train[neighbors_indices]\n",
    "        count_1 = np.sum(neighbor_labels == 1)\n",
    "        count_0 = np.sum(neighbor_labels == 0)\n",
    "        predictions[i] = 1 if count_1 > count_0 else 0\n",
    "    \n",
    "    return predictions\n",
    "\n",
    "class KNNClassifier:\n",
    "    \n",
    "    def __init__(self, k=5):\n",
    "        self.k = k\n",
    "        \n",
    "    def fit(self, X_train, y_train):\n",
    "        self.X_train = X_train\n",
    "        self.y_train = y_train\n",
    "        \n",
    "    def predict(self, X_test, batch_size=100):\n",
    "        num_samples = X_test.shape[0]\n",
    "        predictions = np.empty(num_samples, dtype=np.int32)\n",
    "        \n",
    "        for i in range(0, num_samples, batch_size):\n",
    "            end_index = min(i + batch_size, num_samples)\n",
    "            batch_X_test = X_test[i:end_index]\n",
    "            distances = euclidean_distance(self.X_train, batch_X_test)\n",
    "            batch_predictions = predict_labels(distances, self.y_train, self.k)\n",
    "            predictions[i:end_index] = batch_predictions\n",
    "        \n",
    "        return predictions\n",
    "    \n",
    "    def evaluate(self, X_test, y_test):\n",
    "        self._predictions = self.predict(X_test)\n",
    "        \n",
    "        self._accuracy = np.sum(self._predictions == y_test) / len(y_test)\n",
    "        \n",
    "        # Compute the number of true positives, false positives, and false negatives\n",
    "        true_positives = np.sum((self._predictions == 1) & (y_test == 1))\n",
    "        false_positives = np.sum((self._predictions == 1) & (y_test == 0))\n",
    "        false_negatives = np.sum((self._predictions == 0) & (y_test == 1))\n",
    "        \n",
    "        # Compute precision and recall\n",
    "        self._precision = true_positives / (true_positives + false_positives) if (true_positives + false_positives) > 0 else 0\n",
    "        self._recall = true_positives / (true_positives + false_negatives) if (true_positives + false_negatives) > 0 else 0\n",
    "        \n",
    "    def predictions(self):\n",
    "        return self._predictions  # Return the predictions\n",
    "    \n",
    "    def metrics(self):\n",
    "        return np.array([self._accuracy, self._precision, self._recall])  # Return accuracy, precision, and recall"
   ]
  },
  {
   "cell_type": "code",
   "execution_count": 40,
   "id": "003889c5",
   "metadata": {},
   "outputs": [],
   "source": [
    "def cross_validate_knn(X, y, k_values, n_splits=5):\n",
    "    kf = StratifiedKFold(n_splits=n_splits, shuffle=True, random_state=42)\n",
    "    results = []\n",
    "    \n",
    "    for k in k_values:\n",
    "        knn = KNNClassifier(k=k)\n",
    "        accuracies = np.array([])\n",
    "        precisions = np.array([])\n",
    "        recalls = np.array([])\n",
    "        \n",
    "        for train_index, val_index in kf.split(X,y):\n",
    "            X_train, X_val = X[train_index], X[val_index]\n",
    "            y_train, y_val = y[train_index], y[val_index]\n",
    "            \n",
    "            knn.fit(X_train, y_train)\n",
    "            knn.evaluate(X_val, y_val)\n",
    "            accuracy, precision, recall = knn.metrics()\n",
    "            \n",
    "            accuracies=np.append(accuracies,accuracy)\n",
    "            precisions=np.append(precisions,precision)\n",
    "            recalls=np.append(recalls,recall)\n",
    "            \n",
    "        \n",
    "        results=np.append(results,{\n",
    "            'k': k,\n",
    "            'accuracy': np.mean(accuracies),\n",
    "            'precision': np.mean(precisions),\n",
    "            'recall': np.mean(recalls)\n",
    "        })\n",
    "        print({\n",
    "            'k': k,\n",
    "            'accuracy': np.mean(accuracies),\n",
    "            'precision': np.mean(precisions),\n",
    "            'recall': np.mean(recalls)\n",
    "        })\n",
    "    \n",
    "    return results"
   ]
  },
  {
   "cell_type": "code",
   "execution_count": 41,
   "id": "7f87ab6c",
   "metadata": {},
   "outputs": [
    {
     "name": "stdout",
     "output_type": "stream",
     "text": [
      "{'k': 5, 'accuracy': 0.9995479382913823, 'precision': 0.9296246639473441, 'recall': 0.7994157740993184}\n",
      "{'k': 10, 'accuracy': 0.9995128267023634, 'precision': 0.9363889822693068, 'recall': 0.7714703018500486}\n",
      "{'k': 15, 'accuracy': 0.9994864930105993, 'precision': 0.9012977827947101, 'recall': 0.791755923401493}\n",
      "{'k': 20, 'accuracy': 0.9994645482674626, 'precision': 0.8916900049875156, 'recall': 0.7892242778318728}\n",
      "{'k': 25, 'accuracy': 0.9994162698325617, 'precision': 0.8589745963900747, 'recall': 0.7968516715352159}\n"
     ]
    }
   ],
   "source": [
    "results=cross_validate_knn(X_train_s,y_train,np.arange(5,30,5))"
   ]
  },
  {
   "cell_type": "code",
   "execution_count": 43,
   "id": "e430bf8e",
   "metadata": {},
   "outputs": [],
   "source": [
    "model=KNNClassifier(k=5)\n",
    "model.fit(X_train_s,y_train)\n",
    "model.evaluate(X_test_s,y_test)"
   ]
  },
  {
   "cell_type": "code",
   "execution_count": 44,
   "id": "08d0783b",
   "metadata": {},
   "outputs": [
    {
     "data": {
      "text/plain": [
       "array([0.999526  , 0.91764706, 0.79591837])"
      ]
     },
     "execution_count": 44,
     "metadata": {},
     "output_type": "execute_result"
    }
   ],
   "source": [
    "model.metrics()"
   ]
  },
  {
   "cell_type": "code",
   "execution_count": null,
   "id": "060cbdbd",
   "metadata": {},
   "outputs": [],
   "source": []
  }
 ],
 "metadata": {
  "kernelspec": {
   "display_name": "Python 3",
   "language": "python",
   "name": "python3"
  },
  "language_info": {
   "codemirror_mode": {
    "name": "ipython",
    "version": 3
   },
   "file_extension": ".py",
   "mimetype": "text/x-python",
   "name": "python",
   "nbconvert_exporter": "python",
   "pygments_lexer": "ipython3",
   "version": "3.8.8"
  },
  "widgets": {
   "application/vnd.jupyter.widget-state+json": {
    "state": {},
    "version_major": 2,
    "version_minor": 0
   }
  }
 },
 "nbformat": 4,
 "nbformat_minor": 5
}
