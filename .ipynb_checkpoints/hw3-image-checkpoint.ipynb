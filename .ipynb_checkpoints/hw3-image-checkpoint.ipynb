{
 "cells": [
  {
   "cell_type": "markdown",
   "id": "022d2304",
   "metadata": {},
   "source": [
    "## Classification on MNIST Dataset "
   ]
  },
  {
   "cell_type": "markdown",
   "id": "42f0ef5e",
   "metadata": {},
   "source": [
    "In the question, you are asked to write code for classifying image data using various classifiers.\n",
    "The [MNIST dataset](https://www.openml.org/search?type=data&sort=runs&id=554&status=active) is a database of 70,000 28×28 pixel grayscale images of handwritten single digits."
   ]
  },
  {
   "cell_type": "markdown",
   "id": "565358de",
   "metadata": {},
   "source": [
    "#### A Few Task Reminders:\n",
    "* Import required libraries.\n",
    "* Load the data and split into train, validation, and test sets. You can also perform k-fold cross-validation on the train set for better performance estimates and nested cross-validation for hyperparameter tuning.\n",
    "* Perform any required data pre-processing.\n",
    "* Train K-NN, Logistic Regression, Decision Trees, and SVM on the data.\n",
    "* Make predictions, evaluate, and compare the models. Generate confusion matrices and classification reports.\n",
    "* Summarize your findings and make sure you sufficiently document your code."
   ]
  },
  {
   "cell_type": "markdown",
   "id": "6f4cba31",
   "metadata": {},
   "source": [
    "Explore the different classifiers listed above and perform hyperparameter tuning as follows:\n",
    "\n",
    "* For K-NN, explore the effect of of varying the number of nearest neighbors\n",
    "* For Logistic Regression, explore the effect of varying regularization parameter\n",
    "* For Decision Trees, explore the effect of varying the max depth of the tree\n",
    "* For SVM, explore the effect of varying the penalty parameter and kernel function"
   ]
  },
  {
   "cell_type": "markdown",
   "id": "b452ee28",
   "metadata": {},
   "source": [
    "**Note.** It is intentional that this problem assignment extends outside of what we have covered in class (i.e. text data pre-processing) and encourages more independent learning and exploration with ML hands-on experience and applications. I hope you would have fun with these type of questions and that they are not very stressful. Also, feedback is welcomed and encouraged! "
   ]
  },
  {
   "cell_type": "code",
   "execution_count": 2,
   "id": "24aa912d",
   "metadata": {},
   "outputs": [],
   "source": [
    "import numpy as np\n",
    "import matplotlib.pyplot as plt\n",
    "from sklearn.datasets import fetch_openml"
   ]
  },
  {
   "cell_type": "code",
   "execution_count": 3,
   "id": "6cf495f4",
   "metadata": {},
   "outputs": [],
   "source": [
    "# Fetch MNIST data (might take some time)\n",
    "mnist = fetch_openml('mnist_784')\n",
    "\n",
    "X = mnist.data.astype('float32')\n",
    "y = mnist.target.astype('int64')\n",
    "\n",
    "# Normalize the data\n",
    "X /= 255.0"
   ]
  },
  {
   "cell_type": "code",
   "execution_count": null,
   "id": "b245f9db",
   "metadata": {},
   "outputs": [],
   "source": []
  },
  {
   "cell_type": "code",
   "execution_count": null,
   "id": "bedc2091",
   "metadata": {},
   "outputs": [],
   "source": []
  }
 ],
 "metadata": {
  "kernelspec": {
   "display_name": "Python 3",
   "language": "python",
   "name": "python3"
  },
  "language_info": {
   "codemirror_mode": {
    "name": "ipython",
    "version": 3
   },
   "file_extension": ".py",
   "mimetype": "text/x-python",
   "name": "python",
   "nbconvert_exporter": "python",
   "pygments_lexer": "ipython3",
   "version": "3.8.8"
  }
 },
 "nbformat": 4,
 "nbformat_minor": 5
}
