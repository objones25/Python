{
 "cells": [
  {
   "cell_type": "code",
   "execution_count": 2,
   "id": "d9b5a145",
   "metadata": {},
   "outputs": [],
   "source": [
    "import numpy as np\n",
    "from numpy import linalg\n",
    "from matplotlib import pyplot as plt"
   ]
  },
  {
   "cell_type": "code",
   "execution_count": 3,
   "id": "5b0e5882",
   "metadata": {},
   "outputs": [],
   "source": [
    "xdata=np.arange(1960,2020,10)"
   ]
  },
  {
   "cell_type": "code",
   "execution_count": 4,
   "id": "1faf3dcd",
   "metadata": {},
   "outputs": [],
   "source": [
    "ydata=np.array([179323, 203302, 226542, 249633, 281422, 308746])"
   ]
  },
  {
   "cell_type": "code",
   "execution_count": 5,
   "id": "9f579b86",
   "metadata": {},
   "outputs": [],
   "source": [
    "Amat=np.array([np.ones(6),xdata]).transpose()"
   ]
  },
  {
   "cell_type": "code",
   "execution_count": 6,
   "id": "42201bde",
   "metadata": {},
   "outputs": [],
   "source": [
    "bvec=ydata"
   ]
  },
  {
   "cell_type": "code",
   "execution_count": 7,
   "id": "65b4c692",
   "metadata": {},
   "outputs": [],
   "source": [
    "Anormal=np.matmul(Amat.transpose(),Amat)"
   ]
  },
  {
   "cell_type": "code",
   "execution_count": 8,
   "id": "0dd42e45",
   "metadata": {},
   "outputs": [],
   "source": [
    "bnormal=Amat.transpose().dot(bvec)"
   ]
  },
  {
   "cell_type": "code",
   "execution_count": 9,
   "id": "b4ccd016",
   "metadata": {},
   "outputs": [],
   "source": [
    "xvec=linalg.solve(Anormal,bnormal)"
   ]
  },
  {
   "cell_type": "code",
   "execution_count": 10,
   "id": "8f17f2a6",
   "metadata": {},
   "outputs": [
    {
     "data": {
      "text/plain": [
       "array([-4.88868679e+06,  2.58447429e+03])"
      ]
     },
     "execution_count": 10,
     "metadata": {},
     "output_type": "execute_result"
    }
   ],
   "source": [
    "xvec"
   ]
  },
  {
   "cell_type": "code",
   "execution_count": 29,
   "id": "55a21ac9",
   "metadata": {},
   "outputs": [
    {
     "data": {
      "text/plain": [
       "[<matplotlib.lines.Line2D at 0x7feee2a72ca0>]"
      ]
     },
     "execution_count": 29,
     "metadata": {},
     "output_type": "execute_result"
    },
    {
     "data": {
      "image/png": "[encoded data removed]",
      "text/plain": [
       "<Figure size 432x288 with 1 Axes>"
      ]
     },
     "metadata": {
      "needs_background": "light"
     },
     "output_type": "display_data"
    }
   ],
   "source": [
    "c_0_A,c_1_A=xvec\n",
    "plt.scatter(xdata,ydata)\n",
    "plt.plot(xdata,xdata*c_1_A+c_0_A)            "
   ]
  },
  {
   "cell_type": "code",
   "execution_count": 11,
   "id": "1b2e2344",
   "metadata": {},
   "outputs": [],
   "source": [
    "Q,R=linalg.qr(Amat)"
   ]
  },
  {
   "cell_type": "code",
   "execution_count": 13,
   "id": "63993637",
   "metadata": {},
   "outputs": [],
   "source": [
    "bqr=Q.transpose().dot(bvec)"
   ]
  },
  {
   "cell_type": "code",
   "execution_count": 14,
   "id": "bc5af1fd",
   "metadata": {},
   "outputs": [],
   "source": [
    "xqr=linalg.solve(R,bqr)"
   ]
  },
  {
   "cell_type": "code",
   "execution_count": 15,
   "id": "64e2065e",
   "metadata": {},
   "outputs": [
    {
     "data": {
      "text/plain": [
       "array([-4.88868679e+06,  2.58447429e+03])"
      ]
     },
     "execution_count": 15,
     "metadata": {},
     "output_type": "execute_result"
    }
   ],
   "source": [
    "xqr"
   ]
  },
  {
   "cell_type": "code",
   "execution_count": 30,
   "id": "79eff648",
   "metadata": {},
   "outputs": [
    {
     "data": {
      "text/plain": [
       "[<matplotlib.lines.Line2D at 0x7feee23ebdf0>]"
      ]
     },
     "execution_count": 30,
     "metadata": {},
     "output_type": "execute_result"
    },
    {
     "data": {
      "image/png": "[encoded data removed]",
      "text/plain": [
       "<Figure size 432x288 with 1 Axes>"
      ]
     },
     "metadata": {
      "needs_background": "light"
     },
     "output_type": "display_data"
    }
   ],
   "source": [
    "c_0_R,c_1_R=xqr\n",
    "plt.scatter(xdata,ydata)\n",
    "plt.plot(xdata,xdata*c_1_R+c_0_R)"
   ]
  },
  {
   "cell_type": "code",
   "execution_count": 21,
   "id": "a764e477",
   "metadata": {},
   "outputs": [
    {
     "data": {
      "text/plain": [
       "230733.08869696865"
      ]
     },
     "execution_count": 21,
     "metadata": {},
     "output_type": "execute_result"
    }
   ],
   "source": [
    "linalg.cond(Amat)"
   ]
  },
  {
   "cell_type": "code",
   "execution_count": 22,
   "id": "339451b9",
   "metadata": {},
   "outputs": [
    {
     "data": {
      "text/plain": [
       "53237758117.525375"
      ]
     },
     "execution_count": 22,
     "metadata": {},
     "output_type": "execute_result"
    }
   ],
   "source": [
    "linalg.cond(Anormal)"
   ]
  },
  {
   "cell_type": "code",
   "execution_count": 19,
   "id": "6eb94ca5",
   "metadata": {},
   "outputs": [
    {
     "data": {
      "text/plain": [
       "230733.08869696865"
      ]
     },
     "execution_count": 19,
     "metadata": {},
     "output_type": "execute_result"
    }
   ],
   "source": [
    "linalg.cond(R)"
   ]
  },
  {
   "cell_type": "code",
   "execution_count": 24,
   "id": "79bbbce3",
   "metadata": {},
   "outputs": [],
   "source": [
    "Amat_c=np.array([np.ones(6),np.arange(0,60,10)]).transpose()"
   ]
  },
  {
   "cell_type": "code",
   "execution_count": 27,
   "id": "808815f8",
   "metadata": {},
   "outputs": [],
   "source": [
    "Q_c,R_c=linalg.qr(Amat_c)"
   ]
  },
  {
   "cell_type": "code",
   "execution_count": 28,
   "id": "fd3919a7",
   "metadata": {},
   "outputs": [
    {
     "data": {
      "text/plain": [
       "53.714441049107535"
      ]
     },
     "execution_count": 28,
     "metadata": {},
     "output_type": "execute_result"
    }
   ],
   "source": [
    "linalg.cond(R_c)"
   ]
  },
  {
   "cell_type": "code",
   "execution_count": 31,
   "id": "9059f188",
   "metadata": {},
   "outputs": [],
   "source": [
    "xqr_c=np.matmul(linalg.inv(R_c),Q_c.transpose().dot(bvec))"
   ]
  },
  {
   "cell_type": "code",
   "execution_count": 33,
   "id": "948fc598",
   "metadata": {},
   "outputs": [
    {
     "data": {
      "text/plain": [
       "[<matplotlib.lines.Line2D at 0x7feee23ce2e0>]"
      ]
     },
     "execution_count": 33,
     "metadata": {},
     "output_type": "execute_result"
    },
    {
     "data": {
      "image/png": "[encoded data removed]",
      "text/plain": [
       "<Figure size 432x288 with 1 Axes>"
      ]
     },
     "metadata": {
      "needs_background": "light"
     },
     "output_type": "display_data"
    }
   ],
   "source": [
    "c_0_R_c,c_1_R_c=xqr_c\n",
    "plt.scatter(np.arange(0,60,10),ydata)\n",
    "plt.plot(np.arange(0,60,10),np.arange(0,60,10)*c_1_R_c+c_0_R_c)  "
   ]
  }
 ],
 "metadata": {
  "kernelspec": {
   "display_name": "Python 3",
   "language": "python",
   "name": "python3"
  },
  "language_info": {
   "codemirror_mode": {
    "name": "ipython",
    "version": 3
   },
   "file_extension": ".py",
   "mimetype": "text/x-python",
   "name": "python",
   "nbconvert_exporter": "python",
   "pygments_lexer": "ipython3",
   "version": "3.8.8"
  }
 },
 "nbformat": 4,
 "nbformat_minor": 5
}
