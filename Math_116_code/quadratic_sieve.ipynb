{
 "cells": [
  {
   "cell_type": "code",
   "execution_count": 26,
   "id": "3635092f",
   "metadata": {},
   "outputs": [],
   "source": [
    "import numpy as np\n",
    "import math116\n",
    "import sympy"
   ]
  },
  {
   "cell_type": "code",
   "execution_count": 2,
   "id": "48ce3b40",
   "metadata": {},
   "outputs": [],
   "source": [
    "a_1=124402475107436956653214995731541180380280997149369997221299\n",
    "a_2=199847229374817823695604940715369430085494552242478434608955\n",
    "a_3=220858176749437491899576629985186381333365508025928999995553\n",
    "a_4=227878773345183169438253920129201946121066699139046176529585\n",
    "a_5=267490954776053814955799615403242750359670807241877604975611\n",
    "a_6=324559476413609681306894328864179166726048737902962384692208\n",
    "a_7=354138716512743098120402603091175713331952656954461941040433\n",
    "a_8=364993010783551085705959529753890281863717553767874470391160\n",
    "n=1045592161748229528611072437202613436041386826857744222177653"
   ]
  },
  {
   "cell_type": "code",
   "execution_count": 3,
   "id": "a62ad828",
   "metadata": {},
   "outputs": [],
   "source": [
    "a_1_2=pow(a_1,2,n)\n",
    "a_2_2=pow(a_2,2,n)\n",
    "a_3_2=pow(a_3,2,n)\n",
    "a_4_2=pow(a_4,2,n)\n",
    "a_5_2=pow(a_5,2,n)\n",
    "a_6_2=pow(a_6,2,n)\n",
    "a_7_2=pow(a_7,2,n)\n",
    "a_8_2=pow(a_8,2,n)"
   ]
  },
  {
   "cell_type": "code",
   "execution_count": 20,
   "id": "154ee711",
   "metadata": {},
   "outputs": [
    {
     "data": {
      "text/plain": [
       "298995840"
      ]
     },
     "execution_count": 20,
     "metadata": {},
     "output_type": "execute_result"
    }
   ],
   "source": [
    "a_8_2"
   ]
  },
  {
   "cell_type": "code",
   "execution_count": 21,
   "id": "074d75d7",
   "metadata": {},
   "outputs": [],
   "source": [
    "a_1_2_a=np.array([6,3,0,2,0,0])\n",
    "a_2_2_a=np.array([6,1,2,1,2,2])\n",
    "a_3_2_a=np.array([5,0,1,2,0,0])\n",
    "a_4_2_a=np.array([0,0,2,1,0,0])\n",
    "a_5_2_a=np.array([3,3,3,2,0,2])\n",
    "a_6_2_a=np.array([7,1,3,3,1,1])\n",
    "a_7_2_a=np.array([2,1,2,1,1,1])\n",
    "a_8_2_a=np.array([7,3,1,0,3,1])"
   ]
  },
  {
   "cell_type": "code",
   "execution_count": 22,
   "id": "7ddf57f0",
   "metadata": {},
   "outputs": [],
   "source": [
    "a_1_mod=a_1_2_a%2\n",
    "a_2_mod=a_2_2_a%2\n",
    "a_3_mod=a_3_2_a%2\n",
    "a_4_mod=a_4_2_a%2\n",
    "a_5_mod=a_5_2_a%2\n",
    "a_6_mod=a_6_2_a%2\n",
    "a_7_mod=a_7_2_a%2\n",
    "a_8_mod=a_8_2_a%2"
   ]
  },
  {
   "cell_type": "code",
   "execution_count": 24,
   "id": "6a9cd09f",
   "metadata": {},
   "outputs": [],
   "source": [
    "mod_2_matrix=np.array([a_1_mod,a_2_mod,a_3_mod,a_4_mod,a_5_mod,a_6_mod,a_7_mod,a_8_mod])"
   ]
  },
  {
   "cell_type": "code",
   "execution_count": 25,
   "id": "cbfffba6",
   "metadata": {},
   "outputs": [
    {
     "data": {
      "text/plain": [
       "array([[0, 1, 0, 0, 0, 0],\n",
       "       [0, 1, 0, 1, 0, 0],\n",
       "       [1, 0, 1, 0, 0, 0],\n",
       "       [0, 0, 0, 1, 0, 0],\n",
       "       [1, 1, 1, 0, 0, 0],\n",
       "       [1, 1, 1, 1, 1, 1],\n",
       "       [0, 1, 0, 1, 1, 1],\n",
       "       [1, 1, 1, 0, 1, 1]])"
      ]
     },
     "execution_count": 25,
     "metadata": {},
     "output_type": "execute_result"
    }
   ],
   "source": [
    "mod_2_matrix"
   ]
  },
  {
   "cell_type": "code",
   "execution_count": 27,
   "id": "ddf60b63",
   "metadata": {},
   "outputs": [],
   "source": [
    "M=sympy.Matrix(mod_2_matrix)"
   ]
  },
  {
   "cell_type": "code",
   "execution_count": 28,
   "id": "bf7058fa",
   "metadata": {},
   "outputs": [],
   "source": [
    "M_rref=M.rref()"
   ]
  },
  {
   "cell_type": "code",
   "execution_count": 29,
   "id": "5420c92a",
   "metadata": {},
   "outputs": [
    {
     "data": {
      "text/plain": [
       "(Matrix([\n",
       " [1, 0, 1, 0, 0, 0],\n",
       " [0, 1, 0, 0, 0, 0],\n",
       " [0, 0, 0, 1, 0, 0],\n",
       " [0, 0, 0, 0, 1, 1],\n",
       " [0, 0, 0, 0, 0, 0],\n",
       " [0, 0, 0, 0, 0, 0],\n",
       " [0, 0, 0, 0, 0, 0],\n",
       " [0, 0, 0, 0, 0, 0]]),\n",
       " (0, 1, 3, 4))"
      ]
     },
     "execution_count": 29,
     "metadata": {},
     "output_type": "execute_result"
    }
   ],
   "source": [
    "M_rref"
   ]
  },
  {
   "cell_type": "code",
   "execution_count": 30,
   "id": "01f9b9cb",
   "metadata": {},
   "outputs": [
    {
     "data": {
      "text/plain": [
       "array([0, 0, 0, 0, 0, 0])"
      ]
     },
     "execution_count": 30,
     "metadata": {},
     "output_type": "execute_result"
    }
   ],
   "source": [
    "a_1_mod*a_2_mod*a_4_mod"
   ]
  },
  {
   "cell_type": "code",
   "execution_count": 32,
   "id": "932dcf84",
   "metadata": {},
   "outputs": [],
   "source": [
    "prod_2=pow(a_1*a_2*a_4,2,n)"
   ]
  },
  {
   "cell_type": "code",
   "execution_count": 34,
   "id": "c74ee912",
   "metadata": {},
   "outputs": [],
   "source": [
    "prod_1=pow(a_1*a_2*a_4,1,n)"
   ]
  },
  {
   "cell_type": "code",
   "execution_count": 35,
   "id": "68300a88",
   "metadata": {},
   "outputs": [
    {
     "data": {
      "text/plain": [
       "1045592161748229528611072437202613436041386826857744222177653"
      ]
     },
     "execution_count": 35,
     "metadata": {},
     "output_type": "execute_result"
    }
   ],
   "source": [
    "math116.gcd(a_1*a_2*a_4-prod_1,n)"
   ]
  },
  {
   "cell_type": "code",
   "execution_count": null,
   "id": "f65e9f0e",
   "metadata": {},
   "outputs": [],
   "source": []
  }
 ],
 "metadata": {
  "kernelspec": {
   "display_name": "Python 3",
   "language": "python",
   "name": "python3"
  },
  "language_info": {
   "codemirror_mode": {
    "name": "ipython",
    "version": 3
   },
   "file_extension": ".py",
   "mimetype": "text/x-python",
   "name": "python",
   "nbconvert_exporter": "python",
   "pygments_lexer": "ipython3",
   "version": "3.8.8"
  }
 },
 "nbformat": 4,
 "nbformat_minor": 5
}
