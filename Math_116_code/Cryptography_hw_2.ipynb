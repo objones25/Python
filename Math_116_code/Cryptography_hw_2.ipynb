{
 "cells": [
  {
   "cell_type": "code",
   "execution_count": 1,
   "id": "f2e46eab",
   "metadata": {},
   "outputs": [],
   "source": [
    "import math\n",
    "import numpy as np\n",
    "import pandas as pd"
   ]
  },
  {
   "cell_type": "code",
   "execution_count": 2,
   "id": "daed6fd8",
   "metadata": {},
   "outputs": [],
   "source": [
    "letter_frequencies = {\n",
    "    \"A\": 0.082, \"B\": 0.015, \"C\": 0.028, \"D\": 0.043, \"E\": 0.127, \"F\": 0.022,\n",
    "    \"G\": 0.020, \"H\": 0.061, \"I\": 0.070, \"J\": 0.002, \"K\": 0.008, \"L\": 0.040,\n",
    "    \"M\": 0.024, \"N\": 0.067, \"O\": 0.075, \"P\": 0.019, \"Q\": 0.001, \"R\": 0.060,\n",
    "    \"S\": 0.063, \"T\": 0.091, \"U\": 0.028, \"V\": 0.010, \"W\": 0.023, \"X\": 0.001,\n",
    "    \"Y\": 0.020, \"Z\": 0.001,\n",
    "}"
   ]
  },
  {
   "cell_type": "code",
   "execution_count": 3,
   "id": "c915a178",
   "metadata": {},
   "outputs": [],
   "source": [
    "ciphertext_1='ZDVOGZIMKGYZFVDDVXUBPA'"
   ]
  },
  {
   "cell_type": "code",
   "execution_count": 118,
   "id": "7c775b88",
   "metadata": {},
   "outputs": [],
   "source": [
    "ciphertext_2='''FEWCNWQBMSNSTEJYWOTMXDGVXYCVCYYODSGDQEUOFOTNBAUDQEDKLKDYWEQPJLKPNSROWTFOOEPNRNICXMGDQIPQHOWEBEVRNMCCJPWXLHNSWEKRJVGXNIVRNRVRNTKWNNQBCHGSWCNSWAVSXNVYNXRVJIPWHSGVOTQKVAPGQOTSBEUKWDUVNERCDNFOATJOKLCXTEVYOTJOEETIORGOMOODQAVSYRQFRDGKWDVRNNSENSVSXNUDQEOKWNGBRNYRRCJSYRQFRDGSC'''"
   ]
  },
  {
   "cell_type": "code",
   "execution_count": 157,
   "id": "6356affe",
   "metadata": {},
   "outputs": [],
   "source": [
    "ciphertext_3='DOEESFDAWTSRJSXSHRZFHJGBIEAGIEOIGKWYANVWKVPHAAGYKNZLVVJBTUYPQROWRBREKSQUAMBUOYRELKSYENPZWPDHXOOFXRXOWACAISFGECNDOEHYFSZBZOKGIFLRHVIPPHBKVRWDPSGFQNDMDBJHBKPEAALLOAZHXDCBGEWXFBIMRHCVJTHXJVAWEAYRWSMJOACEESBXXIKVKVPHWMZYCRXQDYQMTYSNJDTTZNYKMGDXJOMKCJWTLGBFWIWZSFQDWWBYUYHMRBJOMHFBLOLWHBENOWGGENLGIGDAYJWPWNLWQHNIMASF'"
   ]
  },
  {
   "cell_type": "code",
   "execution_count": 75,
   "id": "f527da60",
   "metadata": {},
   "outputs": [],
   "source": [
    "def frequency_calculator(text):\n",
    "    frequencies=dict()\n",
    "    for letter in text:\n",
    "        if letter not in frequencies.keys():\n",
    "            frequencies[letter]=1\n",
    "        else:\n",
    "            frequencies[letter]+=1\n",
    "    for letter in frequencies.keys():\n",
    "        frequencies[letter]=frequencies[letter]/len(text)\n",
    "    return dict(sorted(frequencies.items()))"
   ]
  },
  {
   "cell_type": "code",
   "execution_count": 32,
   "id": "4bddc8f2",
   "metadata": {},
   "outputs": [],
   "source": [
    "def tonum(char):\n",
    "    \"Converts a letter of the alphabet into a number in the range 0..25\" \n",
    "    return ord(char) - 65 # 65 is the ASCII code for the letter A\n",
    "def tochar(num):\n",
    "    \"Converts a number in the range 0..25 into a letter of the alphabet\" \n",
    "    return chr(num + 65) # 65 is the ASCII code for the letter A"
   ]
  },
  {
   "cell_type": "code",
   "execution_count": 121,
   "id": "71a8d661",
   "metadata": {},
   "outputs": [],
   "source": [
    "def vigenere_decrypt(text,key):\n",
    "    key=key.upper()\n",
    "    length=len(key)\n",
    "    decrypted=[]\n",
    "    for index,letter in enumerate(text):\n",
    "        decrypted.append(tochar((tonum(letter)-tonum(key[index%length]))%26))\n",
    "    return ''.join(decrypted)"
   ]
  },
  {
   "cell_type": "code",
   "execution_count": 134,
   "id": "7497e65b",
   "metadata": {},
   "outputs": [
    {
     "data": {
      "text/plain": [
       "'EVEISEAVESDROPPINGONUS'"
      ]
     },
     "execution_count": 134,
     "metadata": {},
     "output_type": "execute_result"
    }
   ],
   "source": [
    "vigenere_decrypt(ciphertext_1,'VIRGO')"
   ]
  },
  {
   "cell_type": "code",
   "execution_count": 138,
   "id": "a0040e3f",
   "metadata": {},
   "outputs": [],
   "source": [
    "def vigenere_key(text,length):\n",
    "    key_array=[]\n",
    "    for i in range(length):\n",
    "        dot_product=[]\n",
    "        frequencies=frequency_calculator(text[i::length])\n",
    "        for j in range(26):\n",
    "            shifted=dict()\n",
    "            for key in letter_frequencies.keys():\n",
    "                shifted[tochar((tonum(key)+j)%26)]=letter_frequencies[key]\n",
    "            dot_product.append(sum(shifted[key]*frequencies.get(key,0) for key in shifted.keys()))\n",
    "        key_array.append(tochar(dot_product.index(max(dot_product))))\n",
    "    return ''.join(key_array)"
   ]
  },
  {
   "cell_type": "code",
   "execution_count": 139,
   "id": "68cc3afc",
   "metadata": {},
   "outputs": [
    {
     "data": {
      "text/plain": [
       "'JACK'"
      ]
     },
     "execution_count": 139,
     "metadata": {},
     "output_type": "execute_result"
    }
   ],
   "source": [
    "vigenere_key(ciphertext_2,4)"
   ]
  },
  {
   "cell_type": "code",
   "execution_count": 140,
   "id": "9257047c",
   "metadata": {},
   "outputs": [
    {
     "data": {
      "text/plain": [
       "'WEUSEWORDSLIKEHONORCODELOYALTYWEUSETHESEWORDSASTHEBACKBONEOFALIFESPENTDEFENDINGSOMETHINGYOUUSETHEMASAPUNCHLINEIHAVENEITHERTHETIMENORTHEINCLINATIONTOEXPLAINMYSELFTOAMANWHORISESANDSLEEPSUNDERTHEBLANKETOFTHEVERYFREEDOMTHATIPROVIDEANDTHENQUESTIONSTHEMANNERINWHICHIPROVIDEIT'"
      ]
     },
     "execution_count": 140,
     "metadata": {},
     "output_type": "execute_result"
    }
   ],
   "source": [
    "vigenere_decrypt(ciphertext_2,'JACK')"
   ]
  },
  {
   "cell_type": "code",
   "execution_count": 154,
   "id": "746f6332",
   "metadata": {},
   "outputs": [],
   "source": [
    "def vigenere_length(text,length=20):\n",
    "    length_array=[]\n",
    "    for i in range(1,length):\n",
    "        shifted=''.join([' ']*i+list(text))\n",
    "        length_array.append(sum(x==y for x,y in zip(text,shifted)))\n",
    "    return length_array.index(max(length_array))+1"
   ]
  },
  {
   "cell_type": "code",
   "execution_count": 158,
   "id": "51f0b182",
   "metadata": {},
   "outputs": [
    {
     "data": {
      "text/plain": [
       "6"
      ]
     },
     "execution_count": 158,
     "metadata": {},
     "output_type": "execute_result"
    }
   ],
   "source": [
    "vigenere_length(ciphertext_3,length=20)"
   ]
  },
  {
   "cell_type": "code",
   "execution_count": 159,
   "id": "bd1558db",
   "metadata": {},
   "outputs": [
    {
     "data": {
      "text/plain": [
       "'WATSON'"
      ]
     },
     "execution_count": 159,
     "metadata": {},
     "output_type": "execute_result"
    }
   ],
   "source": [
    "vigenere_key(ciphertext_3,6)"
   ]
  },
  {
   "cell_type": "code",
   "execution_count": 160,
   "id": "11ef6280",
   "metadata": {},
   "outputs": [
    {
     "data": {
      "text/plain": [
       "'HOLMESHADBEENSEATEDFORSOMEHOURSINSILENCEWITHHISLONGTHINBACKCURVEDOVERACHEMICALVESSELINWHICHHEWASBREWINGAPARTICULARLYMALODOROUSPRODUCTHISHEADWASSUNKUPONHISBREASTANDHELOOKEDFROMMYPOINTOFVIEWLIKEASTRANGELANKBIRDWITHDULLGREYPLUMAGEANDABLACKTOPKNOTSOWATSONSAIDHESUDDENLYYOUDONOTPROPOSETOINVESTINSOUTHAFRICANSECURITIES'"
      ]
     },
     "execution_count": 160,
     "metadata": {},
     "output_type": "execute_result"
    }
   ],
   "source": [
    "vigenere_decrypt(ciphertext_3,\"WATSON\")"
   ]
  }
 ],
 "metadata": {
  "kernelspec": {
   "display_name": "Python 3",
   "language": "python",
   "name": "python3"
  },
  "language_info": {
   "codemirror_mode": {
    "name": "ipython",
    "version": 3
   },
   "file_extension": ".py",
   "mimetype": "text/x-python",
   "name": "python",
   "nbconvert_exporter": "python",
   "pygments_lexer": "ipython3",
   "version": "3.8.8"
  }
 },
 "nbformat": 4,
 "nbformat_minor": 5
}
