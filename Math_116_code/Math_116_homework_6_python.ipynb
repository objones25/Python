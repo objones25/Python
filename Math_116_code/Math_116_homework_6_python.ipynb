{
 "cells": [
  {
   "cell_type": "code",
   "execution_count": 93,
   "id": "b3917d3e",
   "metadata": {},
   "outputs": [],
   "source": [
    "import numpy as np\n",
    "import math116\n",
    "import scipy\n",
    "from scipy import optimize\n",
    "import math"
   ]
  },
  {
   "cell_type": "code",
   "execution_count": 94,
   "id": "f98db40d",
   "metadata": {},
   "outputs": [],
   "source": [
    "n_1=1067630413187841523694537298073305552274776079802902672351039\n",
    "n_2=741591202370072789953706745485666075004784174022368180242037\n",
    "n_3=667336142291948937637980407048251181747364391891428340555141\n",
    "N=n_1*n_2*n_3"
   ]
  },
  {
   "cell_type": "code",
   "execution_count": 95,
   "id": "3242ed20",
   "metadata": {},
   "outputs": [],
   "source": [
    "c_1=529845560668797629400939585461719431833561498816920423702247\n",
    "c_2=169291735293877329351269953081439652585988812455417922505176\n",
    "c_3=642418962414073836488116737694096521023718712673159264182195"
   ]
  },
  {
   "cell_type": "code",
   "execution_count": 96,
   "id": "bb3fc3b2",
   "metadata": {},
   "outputs": [],
   "source": [
    "y_1=N//n_1\n",
    "y_2=N//n_2\n",
    "y_3=N//n_3"
   ]
  },
  {
   "cell_type": "code",
   "execution_count": 97,
   "id": "98f41f98",
   "metadata": {},
   "outputs": [],
   "source": [
    "z_1=math116.inverse(y_1,n_1)\n",
    "z_2=math116.inverse(y_2,n_2)\n",
    "z_3=math116.inverse(y_3,n_3)"
   ]
  },
  {
   "cell_type": "code",
   "execution_count": 98,
   "id": "a95f20bf",
   "metadata": {},
   "outputs": [],
   "source": [
    "m_3=(c_1*y_1*z_1+c_2*y_2*z_2+c_3*y_3*z_3)%N"
   ]
  },
  {
   "cell_type": "code",
   "execution_count": 84,
   "id": "47e62b2f",
   "metadata": {},
   "outputs": [],
   "source": [
    "f = lambda x: x**3-m_3"
   ]
  },
  {
   "cell_type": "code",
   "execution_count": 99,
   "id": "e9c69a3f",
   "metadata": {},
   "outputs": [
    {
     "data": {
      "text/plain": [
       "12249739749784771985364504924805398662123078918189011371891240923288000"
      ]
     },
     "execution_count": 99,
     "metadata": {},
     "output_type": "execute_result"
    }
   ],
   "source": [
    "m_3"
   ]
  },
  {
   "cell_type": "code",
   "execution_count": 110,
   "id": "d7f0025d",
   "metadata": {},
   "outputs": [],
   "source": [
    "def bisection(f,a,b,tol=1):\n",
    "    if np.sign(f(a))==np.sign(f(b)):\n",
    "        print('a and b do not bound a root')\n",
    "    m=(a+b)//2\n",
    "    if abs(f(m))<tol:\n",
    "        return m\n",
    "    elif np.sign(f(a))==np.sign(f(m)):\n",
    "        return bisection(f,m,b,tol=1)\n",
    "    elif np.sign(f(b))==np.sign(f(m)):\n",
    "        return bisection(f,a,m,tol=1)"
   ]
  },
  {
   "cell_type": "code",
   "execution_count": 111,
   "id": "94ff6c39",
   "metadata": {},
   "outputs": [
    {
     "data": {
      "text/plain": [
       "230520182119202018051420"
      ]
     },
     "execution_count": 111,
     "metadata": {},
     "output_type": "execute_result"
    }
   ],
   "source": [
    "bisection(f,m_0,m_3)"
   ]
  },
  {
   "cell_type": "code",
   "execution_count": 112,
   "id": "0642319e",
   "metadata": {},
   "outputs": [
    {
     "data": {
      "text/plain": [
       "'WETRUSTTRENT'"
      ]
     },
     "execution_count": 112,
     "metadata": {},
     "output_type": "execute_result"
    }
   ],
   "source": [
    "math116.num_to_text(230520182119202018051420)"
   ]
  },
  {
   "cell_type": "code",
   "execution_count": 102,
   "id": "43501f01",
   "metadata": {},
   "outputs": [
    {
     "data": {
      "text/plain": [
       "2.305201821192013e+23"
      ]
     },
     "execution_count": 102,
     "metadata": {},
     "output_type": "execute_result"
    }
   ],
   "source": [
    "m=int(pow(m_3,1/3))"
   ]
  },
  {
   "cell_type": "code",
   "execution_count": 33,
   "id": "3eccb6a6",
   "metadata": {},
   "outputs": [
    {
     "name": "stdout",
     "output_type": "stream",
     "text": [
      "3994211774931437561721507289\n"
     ]
    }
   ],
   "source": [
    "a=2\n",
    "i=2\n",
    "n=3082787780076703322597022112433309015881410588015304163\n",
    "while True:\n",
    "    a=pow(a,i,n)\n",
    "    p=math116.gcd(a-1,n)\n",
    "    if p>1:\n",
    "        print(p)\n",
    "        break\n",
    "    i+=1"
   ]
  },
  {
   "cell_type": "code",
   "execution_count": 34,
   "id": "529be521",
   "metadata": {},
   "outputs": [],
   "source": [
    "q=n//p"
   ]
  },
  {
   "cell_type": "code",
   "execution_count": 35,
   "id": "6e488f7f",
   "metadata": {},
   "outputs": [],
   "source": [
    "phi_n=(p-1)*(q-1)"
   ]
  },
  {
   "cell_type": "code",
   "execution_count": 36,
   "id": "8dd00dd5",
   "metadata": {},
   "outputs": [],
   "source": [
    "d=math116.inverse(65537,phi_n)"
   ]
  },
  {
   "cell_type": "code",
   "execution_count": 39,
   "id": "4703c929",
   "metadata": {},
   "outputs": [
    {
     "data": {
      "text/plain": [
       "805250221040425"
      ]
     },
     "execution_count": 39,
     "metadata": {},
     "output_type": "execute_result"
    }
   ],
   "source": [
    "c=1409434396818034663404225667133198898377678131865927114\n",
    "pow(c,d,n)"
   ]
  },
  {
   "cell_type": "code",
   "execution_count": 46,
   "id": "a97f6fad",
   "metadata": {},
   "outputs": [
    {
     "data": {
      "text/plain": [
       "8576"
      ]
     },
     "execution_count": 46,
     "metadata": {},
     "output_type": "execute_result"
    }
   ],
   "source": [
    "pow(3,1234,53047)"
   ]
  },
  {
   "cell_type": "code",
   "execution_count": 48,
   "id": "0b75043f",
   "metadata": {},
   "outputs": [
    {
     "data": {
      "text/plain": [
       "3925"
      ]
     },
     "execution_count": 48,
     "metadata": {},
     "output_type": "execute_result"
    }
   ],
   "source": [
    "pow(2,2000,3989)"
   ]
  },
  {
   "cell_type": "code",
   "execution_count": 50,
   "id": "99ef9abc",
   "metadata": {},
   "outputs": [
    {
     "data": {
      "text/plain": [
       "1046"
      ]
     },
     "execution_count": 50,
     "metadata": {},
     "output_type": "execute_result"
    }
   ],
   "source": [
    "pow(2,3000,3989)"
   ]
  },
  {
   "cell_type": "code",
   "execution_count": 51,
   "id": "4234ae90",
   "metadata": {},
   "outputs": [
    {
     "data": {
      "text/plain": [
       "869"
      ]
     },
     "execution_count": 51,
     "metadata": {},
     "output_type": "execute_result"
    }
   ],
   "source": [
    "pow(2,1012,3989)"
   ]
  },
  {
   "cell_type": "code",
   "execution_count": 52,
   "id": "cbeb69a3",
   "metadata": {},
   "outputs": [
    {
     "data": {
      "text/plain": [
       "869"
      ]
     },
     "execution_count": 52,
     "metadata": {},
     "output_type": "execute_result"
    }
   ],
   "source": [
    "(3925*1046)%3989"
   ]
  },
  {
   "cell_type": "code",
   "execution_count": 17,
   "id": "ebdfe479",
   "metadata": {},
   "outputs": [
    {
     "data": {
      "text/plain": [
       "'HEYBUDDY'"
      ]
     },
     "execution_count": 17,
     "metadata": {},
     "output_type": "execute_result"
    }
   ],
   "source": [
    "math116.num_to_text(805250221040425)"
   ]
  },
  {
   "cell_type": "code",
   "execution_count": null,
   "id": "9d3ff0ec",
   "metadata": {},
   "outputs": [],
   "source": []
  }
 ],
 "metadata": {
  "kernelspec": {
   "display_name": "Python 3",
   "language": "python",
   "name": "python3"
  },
  "language_info": {
   "codemirror_mode": {
    "name": "ipython",
    "version": 3
   },
   "file_extension": ".py",
   "mimetype": "text/x-python",
   "name": "python",
   "nbconvert_exporter": "python",
   "pygments_lexer": "ipython3",
   "version": "3.8.8"
  }
 },
 "nbformat": 4,
 "nbformat_minor": 5
}
