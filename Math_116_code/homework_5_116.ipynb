{
 "cells": [
  {
   "cell_type": "code",
   "execution_count": 39,
   "id": "fc4ed9ee",
   "metadata": {},
   "outputs": [],
   "source": [
    "import math116\n",
    "import numpy as np"
   ]
  },
  {
   "cell_type": "code",
   "execution_count": 2,
   "id": "567ad24e",
   "metadata": {},
   "outputs": [],
   "source": [
    "c_13=519510187890701360643892801009368951"
   ]
  },
  {
   "cell_type": "code",
   "execution_count": 3,
   "id": "7ea132d7",
   "metadata": {},
   "outputs": [],
   "source": [
    "n_13=679787784628977803719246221827067797"
   ]
  },
  {
   "cell_type": "code",
   "execution_count": 4,
   "id": "0a323845",
   "metadata": {},
   "outputs": [],
   "source": [
    "p_13=321923906457251617"
   ]
  },
  {
   "cell_type": "code",
   "execution_count": 5,
   "id": "0bbea2b7",
   "metadata": {},
   "outputs": [],
   "source": [
    "q_13=2111641201518679541"
   ]
  },
  {
   "cell_type": "code",
   "execution_count": 6,
   "id": "59bbc150",
   "metadata": {},
   "outputs": [],
   "source": [
    "phi_n_13=(p_13-1)*(q_13-1)"
   ]
  },
  {
   "cell_type": "code",
   "execution_count": 7,
   "id": "353af4cc",
   "metadata": {},
   "outputs": [],
   "source": [
    "e_13=65537"
   ]
  },
  {
   "cell_type": "code",
   "execution_count": 8,
   "id": "fb2495f3",
   "metadata": {},
   "outputs": [],
   "source": [
    "d_13=math116.inverse(e_13,phi_n_13)"
   ]
  },
  {
   "cell_type": "code",
   "execution_count": 9,
   "id": "4dbe38a4",
   "metadata": {},
   "outputs": [],
   "source": [
    "bin_13=bin(d_13).lstrip('0b')"
   ]
  },
  {
   "cell_type": "code",
   "execution_count": 10,
   "id": "59facba9",
   "metadata": {},
   "outputs": [
    {
     "data": {
      "text/plain": [
       "60103201518091407091908011804"
      ]
     },
     "execution_count": 10,
     "metadata": {},
     "output_type": "execute_result"
    }
   ],
   "source": [
    "m_13=1\n",
    "c_13_bin=c_13\n",
    "for i in reversed(bin_13):\n",
    "    if i=='1':\n",
    "        m_13=(m_13*c_13_bin)%n_13\n",
    "    c_13_bin=(c_13_bin**2)%n_13    \n",
    "m_13"
   ]
  },
  {
   "cell_type": "code",
   "execution_count": 11,
   "id": "11073413",
   "metadata": {},
   "outputs": [],
   "source": [
    "e_14=65537\n",
    "d_14=564402113503610411653645537572273583522627068729392076767393\n",
    "n_14=750075461586691721388347479335676851282431232292366191320759"
   ]
  },
  {
   "cell_type": "code",
   "execution_count": 12,
   "id": "5d81d759",
   "metadata": {},
   "outputs": [],
   "source": [
    "E_14=e_14*d_14-1"
   ]
  },
  {
   "cell_type": "code",
   "execution_count": 13,
   "id": "fe84f90b",
   "metadata": {},
   "outputs": [
    {
     "data": {
      "text/plain": [
       "36989221312686115548544967595874093843322410203318168535104635040"
      ]
     },
     "execution_count": 13,
     "metadata": {},
     "output_type": "execute_result"
    }
   ],
   "source": [
    "E_14"
   ]
  },
  {
   "cell_type": "code",
   "execution_count": 14,
   "id": "60f216f1",
   "metadata": {},
   "outputs": [],
   "source": [
    "k_14=0\n",
    "q_14=E_14\n",
    "while q_14%2==0:\n",
    "    q_14//=2\n",
    "    k_14+=1"
   ]
  },
  {
   "cell_type": "code",
   "execution_count": 15,
   "id": "5ef9b132",
   "metadata": {},
   "outputs": [],
   "source": [
    "bin_14=bin(q_14).lstrip('0b')"
   ]
  },
  {
   "cell_type": "code",
   "execution_count": 16,
   "id": "5d20416f",
   "metadata": {},
   "outputs": [
    {
     "data": {
      "text/plain": [
       "654442236906027193774453861418586471096588078465038388910006"
      ]
     },
     "execution_count": 16,
     "metadata": {},
     "output_type": "execute_result"
    }
   ],
   "source": [
    "a_0_14=1\n",
    "b_14=3\n",
    "for i in reversed(bin_14):\n",
    "    if i == '1':\n",
    "        a_0_14=(a_0_14*b_14)%n_14\n",
    "    b_14=(b_14**2)%n_14\n",
    "a_0_14"
   ]
  },
  {
   "cell_type": "code",
   "execution_count": 17,
   "id": "1174a8e9",
   "metadata": {},
   "outputs": [
    {
     "name": "stdout",
     "output_type": "stream",
     "text": [
      "835338435834994481423891073871\n"
     ]
    }
   ],
   "source": [
    "for i in range(k_14):\n",
    "    if (a_0_14**2)%n_14==1:\n",
    "        print(math116.gcd(a_0_14-1,n_14))\n",
    "        break\n",
    "    a_0_14=a_0_14**2%n_14"
   ]
  },
  {
   "cell_type": "code",
   "execution_count": 18,
   "id": "856f8d95",
   "metadata": {},
   "outputs": [
    {
     "data": {
      "text/plain": [
       "897930023819537415148640533529"
      ]
     },
     "execution_count": 18,
     "metadata": {},
     "output_type": "execute_result"
    }
   ],
   "source": [
    "n_14//835338435834994481423891073871"
   ]
  },
  {
   "cell_type": "code",
   "execution_count": 19,
   "id": "6b1754e1",
   "metadata": {},
   "outputs": [
    {
     "data": {
      "text/plain": [
       "897930023819537415148640533529"
      ]
     },
     "execution_count": 19,
     "metadata": {},
     "output_type": "execute_result"
    }
   ],
   "source": [
    "math116.gcd(n_14,897930023819537415148640533529)"
   ]
  },
  {
   "cell_type": "code",
   "execution_count": 20,
   "id": "4a2fd301",
   "metadata": {},
   "outputs": [],
   "source": [
    "n_15=21397381\n",
    "fermat_n_15_bin=bin(21397380).lstrip('0b')"
   ]
  },
  {
   "cell_type": "code",
   "execution_count": 26,
   "id": "963de111",
   "metadata": {},
   "outputs": [
    {
     "data": {
      "text/plain": [
       "10334100"
      ]
     },
     "execution_count": 26,
     "metadata": {},
     "output_type": "execute_result"
    }
   ],
   "source": [
    "a_15=1\n",
    "b_15=7\n",
    "for i in reversed(fermat_n_15_bin):\n",
    "    if i=='1':\n",
    "        a_15=(a_15*b_15)%n_15\n",
    "    b_15=b_15**2%n_15\n",
    "a_15"
   ]
  },
  {
   "cell_type": "code",
   "execution_count": 67,
   "id": "7e247cf7",
   "metadata": {},
   "outputs": [],
   "source": [
    "n_16= 1750412161\n",
    "fermat_n_16_bin=bin(1750412160).lstrip('0b')"
   ]
  },
  {
   "cell_type": "code",
   "execution_count": 68,
   "id": "6bf0ce81",
   "metadata": {},
   "outputs": [
    {
     "data": {
      "text/plain": [
       "array([1, 1])"
      ]
     },
     "execution_count": 68,
     "metadata": {},
     "output_type": "execute_result"
    }
   ],
   "source": [
    "a_16=np.array([1,1])\n",
    "b_16=np.array([2,3])\n",
    "for i in reversed(fermat_n_16_bin):\n",
    "    if i=='1':\n",
    "        a_16=(a_16*b_16)%n_16\n",
    "    b_16=b_16**2%n_16 \n",
    "a_16"
   ]
  },
  {
   "cell_type": "code",
   "execution_count": 65,
   "id": "30c8725a",
   "metadata": {},
   "outputs": [],
   "source": [
    "q_16=n_16-1\n",
    "k_16=0\n",
    "while q_16%2==0:\n",
    "    q_16//=2\n",
    "    k_16+=1\n",
    "bin_q_16=bin(q_16).lstrip('0b')"
   ]
  },
  {
   "cell_type": "code",
   "execution_count": 66,
   "id": "80835e3b",
   "metadata": {},
   "outputs": [
    {
     "data": {
      "text/plain": [
       "array([123425973, 388880259])"
      ]
     },
     "execution_count": 66,
     "metadata": {},
     "output_type": "execute_result"
    }
   ],
   "source": [
    "a_0_16=np.array([1,1])\n",
    "b_0_16=np.array([2,3])\n",
    "for i in reversed(bin_q_16):\n",
    "    if i=='1':\n",
    "        a_0_16=(a_0_16*b_0_16)%n_16\n",
    "    b_0_16=b_0_16**2%n_16 \n",
    "a_0_16"
   ]
  },
  {
   "cell_type": "code",
   "execution_count": 70,
   "id": "59d837b2",
   "metadata": {},
   "outputs": [
    {
     "name": "stdout",
     "output_type": "stream",
     "text": [
      "1 2\n",
      "1750412161 2\n",
      "520801 3\n",
      "1750412161 2\n",
      "1750412161 3\n",
      "1750412161 2\n",
      "1750412161 3\n",
      "1750412161 2\n",
      "1750412161 3\n"
     ]
    }
   ],
   "source": [
    "for i in range(k_16):\n",
    "    if (a_0_16[0]**2)%n_16==1:\n",
    "        print(math116.gcd(a_0_16[0]-1,n_16),2)\n",
    "    if (a_0_16[1]**2)%n_16==1:\n",
    "        print(math116.gcd(a_0_16[1]-1,n_16),3)\n",
    "    a_0_16=a_0_16**2%n_16"
   ]
  },
  {
   "cell_type": "code",
   "execution_count": 71,
   "id": "8a082ec5",
   "metadata": {},
   "outputs": [
    {
     "data": {
      "text/plain": [
       "520801"
      ]
     },
     "execution_count": 71,
     "metadata": {},
     "output_type": "execute_result"
    }
   ],
   "source": [
    "math116.gcd(520801,n_16)"
   ]
  },
  {
   "cell_type": "code",
   "execution_count": 72,
   "id": "fac7bce2",
   "metadata": {},
   "outputs": [
    {
     "data": {
      "text/plain": [
       "3361"
      ]
     },
     "execution_count": 72,
     "metadata": {},
     "output_type": "execute_result"
    }
   ],
   "source": [
    "n_16//520801"
   ]
  },
  {
   "cell_type": "code",
   "execution_count": 64,
   "id": "e12e97d2",
   "metadata": {},
   "outputs": [
    {
     "data": {
      "text/plain": [
       "7"
      ]
     },
     "execution_count": 64,
     "metadata": {},
     "output_type": "execute_result"
    }
   ],
   "source": [
    "k_16"
   ]
  },
  {
   "cell_type": "code",
   "execution_count": null,
   "id": "e01e097b",
   "metadata": {},
   "outputs": [],
   "source": []
  }
 ],
 "metadata": {
  "kernelspec": {
   "display_name": "Python 3",
   "language": "python",
   "name": "python3"
  },
  "language_info": {
   "codemirror_mode": {
    "name": "ipython",
    "version": 3
   },
   "file_extension": ".py",
   "mimetype": "text/x-python",
   "name": "python",
   "nbconvert_exporter": "python",
   "pygments_lexer": "ipython3",
   "version": "3.8.8"
  }
 },
 "nbformat": 4,
 "nbformat_minor": 5
}
