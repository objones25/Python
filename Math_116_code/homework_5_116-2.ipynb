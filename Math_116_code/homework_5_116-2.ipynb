{
 "cells": [
  {
   "cell_type": "code",
   "execution_count": 1,
   "id": "7d9981b5",
   "metadata": {},
   "outputs": [],
   "source": [
    "import numpy as np\n",
    "import math116"
   ]
  },
  {
   "cell_type": "code",
   "execution_count": 2,
   "id": "875a45fa",
   "metadata": {},
   "outputs": [],
   "source": [
    "n_13=679787784628977803719246221827067797\n",
    "e_13=65537\n",
    "c_13=519510187890701360643892801009368951\n",
    "p_13=321923906457251617\n",
    "q_13=2111641201518679541\n",
    "phi_n_13=(p_13-1)*(q_13-1)"
   ]
  },
  {
   "cell_type": "code",
   "execution_count": 5,
   "id": "423c682f",
   "metadata": {},
   "outputs": [],
   "source": [
    "d_13=math116.inverse(e_13,phi_n_13)"
   ]
  },
  {
   "cell_type": "code",
   "execution_count": 6,
   "id": "5c6b9f45",
   "metadata": {},
   "outputs": [
    {
     "data": {
      "text/plain": [
       "60103201518091407091908011804"
      ]
     },
     "execution_count": 6,
     "metadata": {},
     "output_type": "execute_result"
    }
   ],
   "source": [
    "m_13=pow(c_13,d_13,n_13)\n",
    "m_13"
   ]
  },
  {
   "cell_type": "code",
   "execution_count": 7,
   "id": "ec565b33",
   "metadata": {},
   "outputs": [],
   "source": [
    "n_14=750075461586691721388347479335676851282431232292366191320759\n",
    "e_14=65537\n",
    "d_14=564402113503610411653645537572273583522627068729392076767393"
   ]
  },
  {
   "cell_type": "code",
   "execution_count": 8,
   "id": "4dee84af",
   "metadata": {},
   "outputs": [],
   "source": [
    "E_14=e_14*d_14-1"
   ]
  },
  {
   "cell_type": "code",
   "execution_count": 9,
   "id": "639fd67d",
   "metadata": {},
   "outputs": [],
   "source": [
    "k_14=0\n",
    "q_14=E_14\n",
    "while q_14%2==0:\n",
    "    q_14//=2\n",
    "    k_14+=1"
   ]
  },
  {
   "cell_type": "code",
   "execution_count": 17,
   "id": "57b8127c",
   "metadata": {},
   "outputs": [
    {
     "name": "stdout",
     "output_type": "stream",
     "text": [
      "835338435834994481423891073871\n"
     ]
    }
   ],
   "source": [
    "a_0=pow(7,q_14,n_14)\n",
    "for i in range(k_14):\n",
    "    if pow(a_0,2,n_14)==1:\n",
    "        print(math116.gcd(a_0-1,n_14))\n",
    "        break\n",
    "    a_0=pow(a_0,2,n_14)"
   ]
  },
  {
   "cell_type": "code",
   "execution_count": 18,
   "id": "9ce7ca13",
   "metadata": {},
   "outputs": [
    {
     "data": {
      "text/plain": [
       "897930023819537415148640533529"
      ]
     },
     "execution_count": 18,
     "metadata": {},
     "output_type": "execute_result"
    }
   ],
   "source": [
    "n_14//835338435834994481423891073871"
   ]
  },
  {
   "cell_type": "code",
   "execution_count": 19,
   "id": "40d53b0d",
   "metadata": {},
   "outputs": [],
   "source": [
    "n_15=21397381"
   ]
  },
  {
   "cell_type": "code",
   "execution_count": 23,
   "id": "6a1390a3",
   "metadata": {},
   "outputs": [
    {
     "data": {
      "text/plain": [
       "10334100"
      ]
     },
     "execution_count": 23,
     "metadata": {},
     "output_type": "execute_result"
    }
   ],
   "source": [
    "pow(7,n_15-1,n_15)"
   ]
  },
  {
   "cell_type": "code",
   "execution_count": 24,
   "id": "ff9b1aff",
   "metadata": {},
   "outputs": [],
   "source": [
    "n_16=1750412161"
   ]
  },
  {
   "cell_type": "code",
   "execution_count": 25,
   "id": "b464cbfa",
   "metadata": {},
   "outputs": [
    {
     "data": {
      "text/plain": [
       "1"
      ]
     },
     "execution_count": 25,
     "metadata": {},
     "output_type": "execute_result"
    }
   ],
   "source": [
    "pow(2,n_16-1,n_16)"
   ]
  },
  {
   "cell_type": "code",
   "execution_count": 26,
   "id": "3193a839",
   "metadata": {},
   "outputs": [
    {
     "data": {
      "text/plain": [
       "1"
      ]
     },
     "execution_count": 26,
     "metadata": {},
     "output_type": "execute_result"
    }
   ],
   "source": [
    "pow(3,n_16-1,n_16)"
   ]
  },
  {
   "cell_type": "code",
   "execution_count": 27,
   "id": "8ed365d5",
   "metadata": {},
   "outputs": [],
   "source": [
    "k_16=0\n",
    "q_16=n_16-1\n",
    "while q_16%2==0:\n",
    "    q_16//=2\n",
    "    k_16+=1"
   ]
  },
  {
   "cell_type": "code",
   "execution_count": 29,
   "id": "bf7d9c1c",
   "metadata": {},
   "outputs": [],
   "source": [
    "a_0_3=pow(3,q_16,n_16)"
   ]
  },
  {
   "cell_type": "code",
   "execution_count": 32,
   "id": "e630a8d7",
   "metadata": {},
   "outputs": [],
   "source": [
    "a_0_2=pow(2,q_16,n_16)\n",
    "for i in range(k_16):\n",
    "    if pow(a_0_2,2,n_16)==n_16-1:\n",
    "        break\n",
    "    elif pow(a_0_2,2,n_16)==1:\n",
    "        print(math116.gcd(a_0_2-1,n_16))\n",
    "        break\n",
    "    a_0_2=pow(a_0_2,2,n_16)"
   ]
  },
  {
   "cell_type": "code",
   "execution_count": 33,
   "id": "271a5af3",
   "metadata": {},
   "outputs": [
    {
     "name": "stdout",
     "output_type": "stream",
     "text": [
      "520801\n"
     ]
    }
   ],
   "source": [
    "a_0_3=pow(3,q_16,n_16)\n",
    "for i in range(k_16):\n",
    "    if pow(a_0_3,2,n_16)==n_16-1:\n",
    "        break\n",
    "    elif pow(a_0_3,2,n_16)==1:\n",
    "        print(math116.gcd(a_0_3-1,n_16))\n",
    "        break\n",
    "    a_0_3=pow(a_0_3,2,n_16)"
   ]
  },
  {
   "cell_type": "code",
   "execution_count": 34,
   "id": "1444898f",
   "metadata": {},
   "outputs": [
    {
     "data": {
      "text/plain": [
       "3361"
      ]
     },
     "execution_count": 34,
     "metadata": {},
     "output_type": "execute_result"
    }
   ],
   "source": [
    "n_16//520801"
   ]
  },
  {
   "cell_type": "code",
   "execution_count": null,
   "id": "f577ff57",
   "metadata": {},
   "outputs": [],
   "source": []
  }
 ],
 "metadata": {
  "kernelspec": {
   "display_name": "Python 3",
   "language": "python",
   "name": "python3"
  },
  "language_info": {
   "codemirror_mode": {
    "name": "ipython",
    "version": 3
   },
   "file_extension": ".py",
   "mimetype": "text/x-python",
   "name": "python",
   "nbconvert_exporter": "python",
   "pygments_lexer": "ipython3",
   "version": "3.8.8"
  }
 },
 "nbformat": 4,
 "nbformat_minor": 5
}
