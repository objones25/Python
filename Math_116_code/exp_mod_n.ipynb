{
 "cells": [
  {
   "cell_type": "code",
   "execution_count": 30,
   "id": "9fb31705",
   "metadata": {},
   "outputs": [],
   "source": [
    "import numpy as np\n",
    "import math116"
   ]
  },
  {
   "cell_type": "code",
   "execution_count": 51,
   "id": "8e8c8d7b",
   "metadata": {},
   "outputs": [],
   "source": [
    "def exp_mod_n(a,k,n):\n",
    "    bin_k=bin(k).lstrip('0b')\n",
    "    a_0=1\n",
    "    for i in reversed(bin_k):\n",
    "        if i=='1':\n",
    "            a_0=(a_0*a)%n\n",
    "        a=(a**2)%n\n",
    "    return a_0"
   ]
  },
  {
   "cell_type": "code",
   "execution_count": 45,
   "id": "5a9df08c",
   "metadata": {},
   "outputs": [],
   "source": [
    "c=519510187890701360643892801009368951"
   ]
  },
  {
   "cell_type": "code",
   "execution_count": 49,
   "id": "29c62365",
   "metadata": {},
   "outputs": [],
   "source": [
    "n=679787784628977803719246221827067797"
   ]
  },
  {
   "cell_type": "code",
   "execution_count": 54,
   "id": "0df0b9c2",
   "metadata": {},
   "outputs": [],
   "source": [
    "phi_n=321923906457251616*2111641201518679540"
   ]
  },
  {
   "cell_type": "code",
   "execution_count": 55,
   "id": "05ccdb9c",
   "metadata": {},
   "outputs": [],
   "source": [
    "e=65537"
   ]
  },
  {
   "cell_type": "code",
   "execution_count": 56,
   "id": "33cd2414",
   "metadata": {},
   "outputs": [],
   "source": [
    "d=math116.inverse(e,phi_n)"
   ]
  },
  {
   "cell_type": "code",
   "execution_count": 57,
   "id": "718c83a1",
   "metadata": {},
   "outputs": [],
   "source": [
    "m=exp_mod_n(c,d,n)"
   ]
  },
  {
   "cell_type": "code",
   "execution_count": 58,
   "id": "a4ff143b",
   "metadata": {},
   "outputs": [
    {
     "data": {
      "text/plain": [
       "519510187890701360643892801009368951"
      ]
     },
     "execution_count": 58,
     "metadata": {},
     "output_type": "execute_result"
    }
   ],
   "source": [
    "exp_mod_n(m,e,n)"
   ]
  },
  {
   "cell_type": "code",
   "execution_count": 59,
   "id": "c0eec767",
   "metadata": {},
   "outputs": [
    {
     "data": {
      "text/plain": [
       "60103201518091407091908011804"
      ]
     },
     "execution_count": 59,
     "metadata": {},
     "output_type": "execute_result"
    }
   ],
   "source": [
    "m"
   ]
  },
  {
   "cell_type": "code",
   "execution_count": null,
   "id": "1c261e21",
   "metadata": {},
   "outputs": [],
   "source": []
  }
 ],
 "metadata": {
  "kernelspec": {
   "display_name": "Python 3",
   "language": "python",
   "name": "python3"
  },
  "language_info": {
   "codemirror_mode": {
    "name": "ipython",
    "version": 3
   },
   "file_extension": ".py",
   "mimetype": "text/x-python",
   "name": "python",
   "nbconvert_exporter": "python",
   "pygments_lexer": "ipython3",
   "version": "3.8.8"
  }
 },
 "nbformat": 4,
 "nbformat_minor": 5
}
