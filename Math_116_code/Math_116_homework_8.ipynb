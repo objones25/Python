{
 "cells": [
  {
   "cell_type": "code",
   "execution_count": 1,
   "id": "db9a5620",
   "metadata": {},
   "outputs": [],
   "source": [
    "import math116\n",
    "import numpy as np"
   ]
  },
  {
   "cell_type": "code",
   "execution_count": 2,
   "id": "2f01e3d7",
   "metadata": {},
   "outputs": [],
   "source": [
    "p=937"
   ]
  },
  {
   "cell_type": "code",
   "execution_count": 3,
   "id": "760e6892",
   "metadata": {},
   "outputs": [],
   "source": [
    "n=p-1"
   ]
  },
  {
   "cell_type": "code",
   "execution_count": 4,
   "id": "a30b8e15",
   "metadata": {},
   "outputs": [
    {
     "data": {
      "text/plain": [
       "Counter({2: 3, 3: 2, 13: 1})"
      ]
     },
     "execution_count": 4,
     "metadata": {},
     "output_type": "execute_result"
    }
   ],
   "source": [
    "math116.factor(n)"
   ]
  },
  {
   "cell_type": "code",
   "execution_count": 5,
   "id": "8502d1fe",
   "metadata": {},
   "outputs": [],
   "source": [
    "y=46"
   ]
  },
  {
   "cell_type": "code",
   "execution_count": 8,
   "id": "c7ef4fb9",
   "metadata": {},
   "outputs": [
    {
     "data": {
      "text/plain": [
       "936"
      ]
     },
     "execution_count": 8,
     "metadata": {},
     "output_type": "execute_result"
    }
   ],
   "source": [
    "pow(y,n//2,p)"
   ]
  },
  {
   "cell_type": "code",
   "execution_count": 39,
   "id": "01e30f1f",
   "metadata": {},
   "outputs": [],
   "source": [
    "y_1=(y*pow(5,-1,p))%p"
   ]
  },
  {
   "cell_type": "code",
   "execution_count": 12,
   "id": "ec03160c",
   "metadata": {},
   "outputs": [
    {
     "data": {
      "text/plain": [
       "384"
      ]
     },
     "execution_count": 12,
     "metadata": {},
     "output_type": "execute_result"
    }
   ],
   "source": [
    "y_1"
   ]
  },
  {
   "cell_type": "code",
   "execution_count": 14,
   "id": "0df278e7",
   "metadata": {},
   "outputs": [
    {
     "data": {
      "text/plain": [
       "936"
      ]
     },
     "execution_count": 14,
     "metadata": {},
     "output_type": "execute_result"
    }
   ],
   "source": [
    "pow(y_1,n//8,p)"
   ]
  },
  {
   "cell_type": "code",
   "execution_count": 45,
   "id": "dd1ed688",
   "metadata": {},
   "outputs": [
    {
     "data": {
      "text/plain": [
       "911"
      ]
     },
     "execution_count": 45,
     "metadata": {},
     "output_type": "execute_result"
    }
   ],
   "source": [
    "h=pow(5,n//13,p)\n",
    "h"
   ]
  },
  {
   "cell_type": "code",
   "execution_count": 46,
   "id": "62563376",
   "metadata": {},
   "outputs": [
    {
     "data": {
      "text/plain": [
       "[1, 911, 676, 227, 657, 721, 931, 156, 629, 512, 743, 359, 36]"
      ]
     },
     "execution_count": 46,
     "metadata": {},
     "output_type": "execute_result"
    }
   ],
   "source": [
    "[pow(h,i,p) for i in range(13)]"
   ]
  },
  {
   "cell_type": "code",
   "execution_count": 40,
   "id": "c25ff56c",
   "metadata": {},
   "outputs": [
    {
     "data": {
      "text/plain": [
       "322"
      ]
     },
     "execution_count": 40,
     "metadata": {},
     "output_type": "execute_result"
    }
   ],
   "source": [
    "pow(y_1,n//9,p)"
   ]
  },
  {
   "cell_type": "code",
   "execution_count": 47,
   "id": "16bf54cb",
   "metadata": {},
   "outputs": [
    {
     "data": {
      "text/plain": [
       "156"
      ]
     },
     "execution_count": 47,
     "metadata": {},
     "output_type": "execute_result"
    }
   ],
   "source": [
    "pow(y,n//13,p)"
   ]
  },
  {
   "cell_type": "code",
   "execution_count": 49,
   "id": "793273e9",
   "metadata": {},
   "outputs": [
    {
     "data": {
      "text/plain": [
       "(709, 936)"
      ]
     },
     "execution_count": 49,
     "metadata": {},
     "output_type": "execute_result"
    }
   ],
   "source": [
    "math116.crt_general([5,7,7],[8,9,13])"
   ]
  },
  {
   "cell_type": "code",
   "execution_count": 50,
   "id": "6683b6e9",
   "metadata": {},
   "outputs": [
    {
     "data": {
      "text/plain": [
       "46"
      ]
     },
     "execution_count": 50,
     "metadata": {},
     "output_type": "execute_result"
    }
   ],
   "source": [
    "pow(5,709,p)"
   ]
  },
  {
   "cell_type": "code",
   "execution_count": 99,
   "id": "63d4b855",
   "metadata": {},
   "outputs": [],
   "source": [
    "y=14652320651439828423046368044446485954319801736"
   ]
  },
  {
   "cell_type": "code",
   "execution_count": 91,
   "id": "57b93e5a",
   "metadata": {},
   "outputs": [],
   "source": [
    "p=1047073721667575963973626541914699579101292247109"
   ]
  },
  {
   "cell_type": "code",
   "execution_count": 54,
   "id": "944c0450",
   "metadata": {},
   "outputs": [],
   "source": [
    "n=p-1"
   ]
  },
  {
   "cell_type": "code",
   "execution_count": 92,
   "id": "37431bca",
   "metadata": {},
   "outputs": [
    {
     "data": {
      "text/plain": [
       "1039811625092996309995927348674998798108568888626"
      ]
     },
     "execution_count": 92,
     "metadata": {},
     "output_type": "execute_result"
    }
   ],
   "source": [
    "h=pow(13,n//3,p)\n",
    "h"
   ]
  },
  {
   "cell_type": "code",
   "execution_count": 93,
   "id": "6ae57c03",
   "metadata": {},
   "outputs": [
    {
     "data": {
      "text/plain": [
       "[1,\n",
       " 1039811625092996309995927348674998798108568888626,\n",
       " 7262096574579653977699193239700780992723358482]"
      ]
     },
     "execution_count": 93,
     "metadata": {},
     "output_type": "execute_result"
    }
   ],
   "source": [
    "[pow(h,i,p) for i in range(3)]"
   ]
  },
  {
   "cell_type": "code",
   "execution_count": 89,
   "id": "eb60b6db",
   "metadata": {},
   "outputs": [
    {
     "data": {
      "text/plain": [
       "7262096574579653977699193239700780992723358482"
      ]
     },
     "execution_count": 89,
     "metadata": {},
     "output_type": "execute_result"
    }
   ],
   "source": [
    "pow(y,n//3,p)"
   ]
  },
  {
   "cell_type": "code",
   "execution_count": 94,
   "id": "ec778e6f",
   "metadata": {},
   "outputs": [
    {
     "data": {
      "text/plain": [
       "365633147331588294099804806751548648833908653143"
      ]
     },
     "execution_count": 94,
     "metadata": {},
     "output_type": "execute_result"
    }
   ],
   "source": [
    "y_1=(y*pow(13,-2,p))%p\n",
    "y_1"
   ]
  },
  {
   "cell_type": "code",
   "execution_count": 95,
   "id": "c5819664",
   "metadata": {},
   "outputs": [
    {
     "data": {
      "text/plain": [
       "1039811625092996309995927348674998798108568888626"
      ]
     },
     "execution_count": 95,
     "metadata": {},
     "output_type": "execute_result"
    }
   ],
   "source": [
    "pow(y_1,n//9,p)"
   ]
  },
  {
   "cell_type": "code",
   "execution_count": 96,
   "id": "8a55ebe8",
   "metadata": {},
   "outputs": [],
   "source": [
    "y_2=(y*pow(13,-5,p))%p"
   ]
  },
  {
   "cell_type": "code",
   "execution_count": 97,
   "id": "95610514",
   "metadata": {},
   "outputs": [
    {
     "data": {
      "text/plain": [
       "1039811625092996309995927348674998798108568888626"
      ]
     },
     "execution_count": 97,
     "metadata": {},
     "output_type": "execute_result"
    }
   ],
   "source": [
    "pow(y_2,n//27,p)"
   ]
  },
  {
   "cell_type": "code",
   "execution_count": 87,
   "id": "bcba3f9d",
   "metadata": {},
   "outputs": [
    {
     "data": {
      "text/plain": [
       "(986, 1188)"
      ]
     },
     "execution_count": 87,
     "metadata": {},
     "output_type": "execute_result"
    }
   ],
   "source": [
    "math116.crt_general([2,14,7],[4,27,11])"
   ]
  },
  {
   "cell_type": "code",
   "execution_count": 98,
   "id": "58dd565d",
   "metadata": {},
   "outputs": [],
   "source": [
    "q=881375186588868656543456685113383484091996841"
   ]
  },
  {
   "cell_type": "code",
   "execution_count": 101,
   "id": "dcdee11f",
   "metadata": {},
   "outputs": [
    {
     "data": {
      "text/plain": [
       "1"
      ]
     },
     "execution_count": 101,
     "metadata": {},
     "output_type": "execute_result"
    }
   ],
   "source": [
    " pow(y,n//2,p)"
   ]
  },
  {
   "cell_type": "code",
   "execution_count": 102,
   "id": "2bf36429",
   "metadata": {},
   "outputs": [
    {
     "data": {
      "text/plain": [
       "1047073721667575963973626541914699579101292247108"
      ]
     },
     "execution_count": 102,
     "metadata": {},
     "output_type": "execute_result"
    }
   ],
   "source": [
    "pow(13,n//2,p)"
   ]
  },
  {
   "cell_type": "code",
   "execution_count": null,
   "id": "c72edf23",
   "metadata": {},
   "outputs": [],
   "source": []
  }
 ],
 "metadata": {
  "kernelspec": {
   "display_name": "Python 3",
   "language": "python",
   "name": "python3"
  },
  "language_info": {
   "codemirror_mode": {
    "name": "ipython",
    "version": 3
   },
   "file_extension": ".py",
   "mimetype": "text/x-python",
   "name": "python",
   "nbconvert_exporter": "python",
   "pygments_lexer": "ipython3",
   "version": "3.8.8"
  }
 },
 "nbformat": 4,
 "nbformat_minor": 5
}
