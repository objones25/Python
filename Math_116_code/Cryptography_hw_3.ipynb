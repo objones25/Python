{
 "cells": [
  {
   "cell_type": "code",
   "execution_count": 2,
   "id": "bb406ace",
   "metadata": {},
   "outputs": [],
   "source": [
    "import math as m\n",
    "import numpy as np"
   ]
  },
  {
   "cell_type": "code",
   "execution_count": 25,
   "id": "921c0f6d",
   "metadata": {},
   "outputs": [],
   "source": [
    "def extended(a, b):\n",
    "    x_0,y_0, x_1,y_1 = 0,1, 1,0\n",
    "    while a != 0:\n",
    "        q, r = b//a, b%a\n",
    "        m, n = x_0-x_1*q, y_0-y_1*q\n",
    "        b,a, x_0,y_0, x_1,y_1 = a,r, x_1,y_1, m,n\n",
    "    gcd = b\n",
    "    return gcd, x_0, y_0\n",
    "#used article from brilliant to help write the function"
   ]
  },
  {
   "cell_type": "code",
   "execution_count": 26,
   "id": "8139b705",
   "metadata": {},
   "outputs": [
    {
     "data": {
      "text/plain": [
       "(1, -466560018663026, 142032116757)"
      ]
     },
     "execution_count": 26,
     "metadata": {},
     "output_type": "execute_result"
    }
   ],
   "source": [
    "extended(313608160045,1030168614988703)"
   ]
  },
  {
   "cell_type": "code",
   "execution_count": 13,
   "id": "c5969e1b",
   "metadata": {},
   "outputs": [
    {
     "data": {
      "text/plain": [
       "1"
      ]
     },
     "execution_count": 13,
     "metadata": {},
     "output_type": "execute_result"
    }
   ],
   "source": [
    "313608160045*(-466560018663026)+1030168614988703*142032116757"
   ]
  },
  {
   "cell_type": "code",
   "execution_count": 14,
   "id": "b98ce765",
   "metadata": {},
   "outputs": [],
   "source": [
    "x=1030168614988703-466560018663026"
   ]
  },
  {
   "cell_type": "code",
   "execution_count": 15,
   "id": "d2d1ed98",
   "metadata": {},
   "outputs": [
    {
     "data": {
      "text/plain": [
       "563608596325677"
      ]
     },
     "execution_count": 15,
     "metadata": {},
     "output_type": "execute_result"
    }
   ],
   "source": [
    "x"
   ]
  },
  {
   "cell_type": "code",
   "execution_count": 16,
   "id": "3f4e5b1f",
   "metadata": {},
   "outputs": [
    {
     "data": {
      "text/plain": [
       "1"
      ]
     },
     "execution_count": 16,
     "metadata": {},
     "output_type": "execute_result"
    }
   ],
   "source": [
    "(313608160045*563608596325677)%1030168614988703"
   ]
  },
  {
   "cell_type": "code",
   "execution_count": 17,
   "id": "eafda6fb",
   "metadata": {},
   "outputs": [
    {
     "data": {
      "text/plain": [
       "-7392452526292"
      ]
     },
     "execution_count": 17,
     "metadata": {},
     "output_type": "execute_result"
    }
   ],
   "source": [
    "2228097317981-9620549844273"
   ]
  },
  {
   "cell_type": "code",
   "execution_count": 18,
   "id": "5cd3e5cf",
   "metadata": {},
   "outputs": [
    {
     "data": {
      "text/plain": [
       "(1, -466560018663026, 142032116757)"
      ]
     },
     "execution_count": 18,
     "metadata": {},
     "output_type": "execute_result"
    }
   ],
   "source": [
    "egcd(313608160045,1030168614988703)"
   ]
  },
  {
   "cell_type": "code",
   "execution_count": 19,
   "id": "113da9a4",
   "metadata": {},
   "outputs": [
    {
     "data": {
      "text/plain": [
       "563608596325677"
      ]
     },
     "execution_count": 19,
     "metadata": {},
     "output_type": "execute_result"
    }
   ],
   "source": [
    "-466560018663026+1030168614988703"
   ]
  },
  {
   "cell_type": "code",
   "execution_count": 20,
   "id": "555761aa",
   "metadata": {},
   "outputs": [
    {
     "data": {
      "text/plain": [
       "-171576043288"
      ]
     },
     "execution_count": 20,
     "metadata": {},
     "output_type": "execute_result"
    }
   ],
   "source": [
    "142032116757-313608160045"
   ]
  },
  {
   "cell_type": "code",
   "execution_count": 21,
   "id": "adfb12d8",
   "metadata": {},
   "outputs": [
    {
     "data": {
      "text/plain": [
       "1"
      ]
     },
     "execution_count": 21,
     "metadata": {},
     "output_type": "execute_result"
    }
   ],
   "source": [
    "313608160045*563608596325677-171576043288*1030168614988703"
   ]
  },
  {
   "cell_type": "code",
   "execution_count": 22,
   "id": "88bf79b0",
   "metadata": {},
   "outputs": [
    {
     "data": {
      "text/plain": [
       "343390387426778"
      ]
     },
     "execution_count": 22,
     "metadata": {},
     "output_type": "execute_result"
    }
   ],
   "source": [
    "563608596325677*(-7392452526292)%1030168614988703"
   ]
  },
  {
   "cell_type": "code",
   "execution_count": 23,
   "id": "520e5228",
   "metadata": {},
   "outputs": [
    {
     "data": {
      "text/plain": [
       "2228097317981"
      ]
     },
     "execution_count": 23,
     "metadata": {},
     "output_type": "execute_result"
    }
   ],
   "source": [
    "(343390387426778*313608160045+9620549844273)%1030168614988703"
   ]
  },
  {
   "cell_type": "code",
   "execution_count": null,
   "id": "652a277b",
   "metadata": {},
   "outputs": [],
   "source": []
  }
 ],
 "metadata": {
  "kernelspec": {
   "display_name": "Python 3",
   "language": "python",
   "name": "python3"
  },
  "language_info": {
   "codemirror_mode": {
    "name": "ipython",
    "version": 3
   },
   "file_extension": ".py",
   "mimetype": "text/x-python",
   "name": "python",
   "nbconvert_exporter": "python",
   "pygments_lexer": "ipython3",
   "version": "3.8.8"
  }
 },
 "nbformat": 4,
 "nbformat_minor": 5
}
