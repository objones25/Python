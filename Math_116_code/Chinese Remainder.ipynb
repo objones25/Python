{
 "cells": [
  {
   "cell_type": "code",
   "execution_count": 1,
   "id": "497e10b5",
   "metadata": {},
   "outputs": [],
   "source": [
    "import numpy as np\n",
    "import math as m"
   ]
  },
  {
   "cell_type": "code",
   "execution_count": 2,
   "id": "4640d1d5",
   "metadata": {},
   "outputs": [],
   "source": [
    "def Chinese_Remainder(a_1,a_2,n_1,n_2):\n",
    "    y_1,y_2 = extended(n_1,n_2)[1:]\n",
    "    return (a_1*y_2*n_2+a_2*y_1*n_1)%(n_1*n_2)"
   ]
  },
  {
   "cell_type": "code",
   "execution_count": 3,
   "id": "29da089c",
   "metadata": {},
   "outputs": [],
   "source": [
    "def extended(a, b):\n",
    "    x_0,y_0, x_1,y_1 = 0,1, 1,0\n",
    "    while a != 0:\n",
    "        q, r = b//a, b%a\n",
    "        m, n = x_0-x_1*q, y_0-y_1*q\n",
    "        b,a, x_0,y_0, x_1,y_1 = a,r, x_1,y_1, m,n\n",
    "    gcd = b\n",
    "    return gcd, x_0, y_0"
   ]
  },
  {
   "cell_type": "code",
   "execution_count": 4,
   "id": "36c544bf",
   "metadata": {},
   "outputs": [
    {
     "data": {
      "text/plain": [
       "1"
      ]
     },
     "execution_count": 4,
     "metadata": {},
     "output_type": "execute_result"
    }
   ],
   "source": [
    "m.gcd(5123389,8168835)"
   ]
  },
  {
   "cell_type": "code",
   "execution_count": 5,
   "id": "274f89e5",
   "metadata": {},
   "outputs": [
    {
     "data": {
      "text/plain": [
       "26663845164692"
      ]
     },
     "execution_count": 5,
     "metadata": {},
     "output_type": "execute_result"
    }
   ],
   "source": [
    "Chinese_Remainder(2226599,8023037,5123389,8168835)"
   ]
  },
  {
   "cell_type": "code",
   "execution_count": 8,
   "id": "c1eaccf4",
   "metadata": {},
   "outputs": [
    {
     "data": {
      "text/plain": [
       "41852119381815"
      ]
     },
     "execution_count": 8,
     "metadata": {},
     "output_type": "execute_result"
    }
   ],
   "source": [
    "5123389*8168835"
   ]
  },
  {
   "cell_type": "code",
   "execution_count": 9,
   "id": "11c92519",
   "metadata": {},
   "outputs": [
    {
     "data": {
      "text/plain": [
       "213722"
      ]
     },
     "execution_count": 9,
     "metadata": {},
     "output_type": "execute_result"
    }
   ],
   "source": [
    "Chinese_Remainder(155,2479,277,3463)"
   ]
  },
  {
   "cell_type": "code",
   "execution_count": 10,
   "id": "4747b22d",
   "metadata": {},
   "outputs": [
    {
     "data": {
      "text/plain": [
       "1222299496"
      ]
     },
     "execution_count": 10,
     "metadata": {},
     "output_type": "execute_result"
    }
   ],
   "source": [
    "Chinese_Remainder(213722,3419,277*3463,4051)"
   ]
  },
  {
   "cell_type": "code",
   "execution_count": 11,
   "id": "913755ce",
   "metadata": {},
   "outputs": [
    {
     "data": {
      "text/plain": [
       "7543804279237"
      ]
     },
     "execution_count": 11,
     "metadata": {},
     "output_type": "execute_result"
    }
   ],
   "source": [
    "Chinese_Remainder(1222299496,5758,277*3463*4051,6317)"
   ]
  },
  {
   "cell_type": "code",
   "execution_count": 12,
   "id": "370ec015",
   "metadata": {},
   "outputs": [
    {
     "data": {
      "text/plain": [
       "24547393284917"
      ]
     },
     "execution_count": 12,
     "metadata": {},
     "output_type": "execute_result"
    }
   ],
   "source": [
    "277*3463*4051*6317"
   ]
  },
  {
   "cell_type": "code",
   "execution_count": null,
   "id": "e2aa46cd",
   "metadata": {},
   "outputs": [],
   "source": []
  }
 ],
 "metadata": {
  "kernelspec": {
   "display_name": "Python 3",
   "language": "python",
   "name": "python3"
  },
  "language_info": {
   "codemirror_mode": {
    "name": "ipython",
    "version": 3
   },
   "file_extension": ".py",
   "mimetype": "text/x-python",
   "name": "python",
   "nbconvert_exporter": "python",
   "pygments_lexer": "ipython3",
   "version": "3.8.8"
  }
 },
 "nbformat": 4,
 "nbformat_minor": 5
}
