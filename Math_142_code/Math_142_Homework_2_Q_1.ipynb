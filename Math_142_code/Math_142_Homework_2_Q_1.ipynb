{
 "cells": [
  {
   "cell_type": "code",
   "execution_count": 1,
   "id": "10fa8aef",
   "metadata": {},
   "outputs": [],
   "source": [
    "import pandas as pd\n",
    "import numpy as np\n",
    "import matplotlib.pyplot as plt\n",
    "import seaborn as sns"
   ]
  },
  {
   "cell_type": "code",
   "execution_count": 2,
   "id": "1c59e549",
   "metadata": {},
   "outputs": [],
   "source": [
    "N_t=130\n",
    "I_t=0"
   ]
  },
  {
   "cell_type": "code",
   "execution_count": 3,
   "id": "9cd58e21",
   "metadata": {},
   "outputs": [],
   "source": [
    "def red_wolf_population_df(N_0,I_0,time):\n",
    "    df=pd.DataFrame({\n",
    "        \"Time (Years)\":[0],\n",
    "        \"N_t\":[N_0],\n",
    "        \"I_t\":[I_0]})\n",
    "    for i in np.arange(1,time+1):\n",
    "        N_0=1.06*N_0+0.28*I_0\n",
    "        I_0=10+0.57*I_0\n",
    "        x={\"Time (Years)\":i,\"N_t\":N_0,\"I_t\":I_0}\n",
    "        df=df.append(x,ignore_index=True)\n",
    "    return df"
   ]
  },
  {
   "cell_type": "code",
   "execution_count": 4,
   "id": "be4c2158",
   "metadata": {},
   "outputs": [],
   "source": [
    "df=red_wolf_population_df(130,0,5)"
   ]
  },
  {
   "cell_type": "code",
   "execution_count": 5,
   "id": "9b6b7d9a",
   "metadata": {},
   "outputs": [
    {
     "data": {
      "text/html": [
       "<div>\n",
       "<style scoped>\n",
       "    .dataframe tbody tr th:only-of-type {\n",
       "        vertical-align: middle;\n",
       "    }\n",
       "\n",
       "    .dataframe tbody tr th {\n",
       "        vertical-align: top;\n",
       "    }\n",
       "\n",
       "    .dataframe thead th {\n",
       "        text-align: right;\n",
       "    }\n",
       "</style>\n",
       "<table border=\"1\" class=\"dataframe\">\n",
       "  <thead>\n",
       "    <tr style=\"text-align: right;\">\n",
       "      <th></th>\n",
       "      <th>Time (Years)</th>\n",
       "      <th>N_t</th>\n",
       "      <th>I_t</th>\n",
       "    </tr>\n",
       "  </thead>\n",
       "  <tbody>\n",
       "    <tr>\n",
       "      <th>0</th>\n",
       "      <td>0.0</td>\n",
       "      <td>130.000000</td>\n",
       "      <td>0.00000</td>\n",
       "    </tr>\n",
       "    <tr>\n",
       "      <th>1</th>\n",
       "      <td>1.0</td>\n",
       "      <td>137.800000</td>\n",
       "      <td>10.00000</td>\n",
       "    </tr>\n",
       "    <tr>\n",
       "      <th>2</th>\n",
       "      <td>2.0</td>\n",
       "      <td>148.868000</td>\n",
       "      <td>15.70000</td>\n",
       "    </tr>\n",
       "    <tr>\n",
       "      <th>3</th>\n",
       "      <td>3.0</td>\n",
       "      <td>162.196080</td>\n",
       "      <td>18.94900</td>\n",
       "    </tr>\n",
       "    <tr>\n",
       "      <th>4</th>\n",
       "      <td>4.0</td>\n",
       "      <td>177.233565</td>\n",
       "      <td>20.80093</td>\n",
       "    </tr>\n",
       "    <tr>\n",
       "      <th>5</th>\n",
       "      <td>5.0</td>\n",
       "      <td>193.691839</td>\n",
       "      <td>21.85653</td>\n",
       "    </tr>\n",
       "  </tbody>\n",
       "</table>\n",
       "</div>"
      ],
      "text/plain": [
       "   Time (Years)         N_t       I_t\n",
       "0           0.0  130.000000   0.00000\n",
       "1           1.0  137.800000  10.00000\n",
       "2           2.0  148.868000  15.70000\n",
       "3           3.0  162.196080  18.94900\n",
       "4           4.0  177.233565  20.80093\n",
       "5           5.0  193.691839  21.85653"
      ]
     },
     "execution_count": 5,
     "metadata": {},
     "output_type": "execute_result"
    }
   ],
   "source": [
    "df"
   ]
  },
  {
   "cell_type": "code",
   "execution_count": 6,
   "id": "94fc4bf2",
   "metadata": {},
   "outputs": [],
   "source": [
    "def red_wolf_population_goal(N_0,I_0,goal_pop):\n",
    "    t=0\n",
    "    while N_0<goal_pop:\n",
    "        N_0=1.06*N_0+0.28*I_0\n",
    "        I_0=10+0.57*I_0\n",
    "        t+=1\n",
    "    return N_0,t"
   ]
  },
  {
   "cell_type": "code",
   "execution_count": 7,
   "id": "23c22487",
   "metadata": {},
   "outputs": [
    {
     "data": {
      "text/plain": [
       "(230.40747073691688, 7)"
      ]
     },
     "execution_count": 7,
     "metadata": {},
     "output_type": "execute_result"
    }
   ],
   "source": [
    "red_wolf_population_goal(N_t,I_t,220)"
   ]
  },
  {
   "cell_type": "code",
   "execution_count": 8,
   "id": "d948d36e",
   "metadata": {},
   "outputs": [],
   "source": [
    "df_graph=red_wolf_population_df(130,0,200)"
   ]
  },
  {
   "cell_type": "code",
   "execution_count": 9,
   "id": "9b57bbb7",
   "metadata": {},
   "outputs": [],
   "source": [
    "N_t_exp=np.exp(np.polyfit(x=df_graph[\"Time (Years)\"][df_graph[\"I_t\"]>22.255],y=np.log(df_graph[\"N_t\"][df_graph[\"I_t\"]>22.255]),deg=1))"
   ]
  },
  {
   "cell_type": "code",
   "execution_count": 10,
   "id": "f05a5eff",
   "metadata": {},
   "outputs": [
    {
     "data": {
      "image/png": "[encoded data removed]",
      "text/plain": [
       "<Figure size 432x288 with 1 Axes>"
      ]
     },
     "metadata": {
      "needs_background": "light"
     },
     "output_type": "display_data"
    }
   ],
   "source": [
    "sns.lineplot(data=df_graph,x=\"Time (Years)\",y=N_t_exp[1]*np.power(N_t_exp[0],df_graph[\"Time (Years)\"]),label=\"Regression Line N_t\")\n",
    "sns.scatterplot(data=df_graph,x=\"Time (Years)\",y=\"N_t\",label=\"N_t vs. Time\")\n",
    "sns.scatterplot(data=df_graph,x=\"Time (Years)\",y=\"I_t\", label=\"I_t vs. Time\")\n",
    "plt.ylabel(\"Population Count\")\n",
    "plt.savefig(\"Math_142_Homework_2_Q_1_a\")"
   ]
  },
  {
   "cell_type": "code",
   "execution_count": 11,
   "id": "c04c0c9d",
   "metadata": {},
   "outputs": [
    {
     "data": {
      "text/plain": [
       "array([[1.       , 0.9996912],\n",
       "       [0.9996912, 1.       ]])"
      ]
     },
     "execution_count": 11,
     "metadata": {},
     "output_type": "execute_result"
    }
   ],
   "source": [
    "np.corrcoef(x=df_graph[\"Time (Years)\"],y=np.log(df_graph[\"N_t\"]))"
   ]
  },
  {
   "cell_type": "code",
   "execution_count": 12,
   "id": "e383615f",
   "metadata": {},
   "outputs": [],
   "source": [
    "L_c=np.array([[1,3/2],[2,1/2]])"
   ]
  },
  {
   "cell_type": "code",
   "execution_count": 13,
   "id": "d071ae59",
   "metadata": {},
   "outputs": [],
   "source": [
    "N_c=np.array([[100],[200]])"
   ]
  },
  {
   "cell_type": "code",
   "execution_count": 14,
   "id": "aeb00168",
   "metadata": {},
   "outputs": [
    {
     "data": {
      "text/plain": [
       "array([[400.],\n",
       "       [300.]])"
      ]
     },
     "execution_count": 14,
     "metadata": {},
     "output_type": "execute_result"
    }
   ],
   "source": [
    "np.matmul(L_c,N_c)"
   ]
  },
  {
   "cell_type": "code",
   "execution_count": 15,
   "id": "77b882d4",
   "metadata": {},
   "outputs": [],
   "source": [
    "def leslie_calc(L,N_0,time):\n",
    "    df_L=pd.DataFrame({\n",
    "    \"time\":[0],\n",
    "    \"N_0\":[N_0[0][0]],\n",
    "    \"N_1\":[N_0[1]][0]})\n",
    "    for i in np.arange(1,time+1):\n",
    "        N_0=np.matmul(L,N_0)\n",
    "        x={\"time\":i,\"N_0\":N_0[0][0],\"N_1\":N_0[1][0]}\n",
    "        df_L=df_L.append(x,ignore_index=True)\n",
    "    return df_L"
   ]
  },
  {
   "cell_type": "code",
   "execution_count": 16,
   "id": "0b7664ca",
   "metadata": {},
   "outputs": [
    {
     "data": {
      "text/html": [
       "<div>\n",
       "<style scoped>\n",
       "    .dataframe tbody tr th:only-of-type {\n",
       "        vertical-align: middle;\n",
       "    }\n",
       "\n",
       "    .dataframe tbody tr th {\n",
       "        vertical-align: top;\n",
       "    }\n",
       "\n",
       "    .dataframe thead th {\n",
       "        text-align: right;\n",
       "    }\n",
       "</style>\n",
       "<table border=\"1\" class=\"dataframe\">\n",
       "  <thead>\n",
       "    <tr style=\"text-align: right;\">\n",
       "      <th></th>\n",
       "      <th>time</th>\n",
       "      <th>N_0</th>\n",
       "      <th>N_1</th>\n",
       "    </tr>\n",
       "  </thead>\n",
       "  <tbody>\n",
       "    <tr>\n",
       "      <th>0</th>\n",
       "      <td>0.0</td>\n",
       "      <td>100.0</td>\n",
       "      <td>200.0</td>\n",
       "    </tr>\n",
       "    <tr>\n",
       "      <th>1</th>\n",
       "      <td>1.0</td>\n",
       "      <td>400.0</td>\n",
       "      <td>300.0</td>\n",
       "    </tr>\n",
       "    <tr>\n",
       "      <th>2</th>\n",
       "      <td>2.0</td>\n",
       "      <td>850.0</td>\n",
       "      <td>950.0</td>\n",
       "    </tr>\n",
       "    <tr>\n",
       "      <th>3</th>\n",
       "      <td>3.0</td>\n",
       "      <td>2275.0</td>\n",
       "      <td>2175.0</td>\n",
       "    </tr>\n",
       "  </tbody>\n",
       "</table>\n",
       "</div>"
      ],
      "text/plain": [
       "   time     N_0     N_1\n",
       "0   0.0   100.0   200.0\n",
       "1   1.0   400.0   300.0\n",
       "2   2.0   850.0   950.0\n",
       "3   3.0  2275.0  2175.0"
      ]
     },
     "execution_count": 16,
     "metadata": {},
     "output_type": "execute_result"
    }
   ],
   "source": [
    "df_L_c=leslie_calc(L_c,N_c,3)\n",
    "df_L_c"
   ]
  },
  {
   "cell_type": "code",
   "execution_count": 17,
   "id": "91c3a485",
   "metadata": {},
   "outputs": [
    {
     "data": {
      "text/html": [
       "<div>\n",
       "<style scoped>\n",
       "    .dataframe tbody tr th:only-of-type {\n",
       "        vertical-align: middle;\n",
       "    }\n",
       "\n",
       "    .dataframe tbody tr th {\n",
       "        vertical-align: top;\n",
       "    }\n",
       "\n",
       "    .dataframe thead th {\n",
       "        text-align: right;\n",
       "    }\n",
       "</style>\n",
       "<table border=\"1\" class=\"dataframe\">\n",
       "  <thead>\n",
       "    <tr style=\"text-align: right;\">\n",
       "      <th></th>\n",
       "      <th>time</th>\n",
       "      <th>N_0</th>\n",
       "      <th>N_1</th>\n",
       "    </tr>\n",
       "  </thead>\n",
       "  <tbody>\n",
       "    <tr>\n",
       "      <th>0</th>\n",
       "      <td>0.0</td>\n",
       "      <td>1.000000</td>\n",
       "      <td>1.000000</td>\n",
       "    </tr>\n",
       "    <tr>\n",
       "      <th>1</th>\n",
       "      <td>1.0</td>\n",
       "      <td>2.500000</td>\n",
       "      <td>2.500000</td>\n",
       "    </tr>\n",
       "    <tr>\n",
       "      <th>2</th>\n",
       "      <td>2.0</td>\n",
       "      <td>6.250000</td>\n",
       "      <td>6.250000</td>\n",
       "    </tr>\n",
       "    <tr>\n",
       "      <th>3</th>\n",
       "      <td>3.0</td>\n",
       "      <td>15.625000</td>\n",
       "      <td>15.625000</td>\n",
       "    </tr>\n",
       "    <tr>\n",
       "      <th>4</th>\n",
       "      <td>4.0</td>\n",
       "      <td>39.062500</td>\n",
       "      <td>39.062500</td>\n",
       "    </tr>\n",
       "    <tr>\n",
       "      <th>5</th>\n",
       "      <td>5.0</td>\n",
       "      <td>97.656250</td>\n",
       "      <td>97.656250</td>\n",
       "    </tr>\n",
       "    <tr>\n",
       "      <th>6</th>\n",
       "      <td>6.0</td>\n",
       "      <td>244.140625</td>\n",
       "      <td>244.140625</td>\n",
       "    </tr>\n",
       "  </tbody>\n",
       "</table>\n",
       "</div>"
      ],
      "text/plain": [
       "   time         N_0         N_1\n",
       "0   0.0    1.000000    1.000000\n",
       "1   1.0    2.500000    2.500000\n",
       "2   2.0    6.250000    6.250000\n",
       "3   3.0   15.625000   15.625000\n",
       "4   4.0   39.062500   39.062500\n",
       "5   5.0   97.656250   97.656250\n",
       "6   6.0  244.140625  244.140625"
      ]
     },
     "execution_count": 17,
     "metadata": {},
     "output_type": "execute_result"
    }
   ],
   "source": [
    "N_c_1=np.array([[1],[1]])\n",
    "df_L_c_1=leslie_calc(L_c,N_c_1,6)\n",
    "df_L_c_1"
   ]
  },
  {
   "cell_type": "code",
   "execution_count": 18,
   "id": "c9adf371",
   "metadata": {},
   "outputs": [
    {
     "data": {
      "text/plain": [
       "array([[1.],\n",
       "       [1.]])"
      ]
     },
     "execution_count": 18,
     "metadata": {},
     "output_type": "execute_result"
    }
   ],
   "source": [
    "np.matmul(L_c,N_c_1)/2.5"
   ]
  },
  {
   "cell_type": "code",
   "execution_count": null,
   "id": "6e8bcfde",
   "metadata": {},
   "outputs": [],
   "source": []
  }
 ],
 "metadata": {
  "kernelspec": {
   "display_name": "Python 3",
   "language": "python",
   "name": "python3"
  },
  "language_info": {
   "codemirror_mode": {
    "name": "ipython",
    "version": 3
   },
   "file_extension": ".py",
   "mimetype": "text/x-python",
   "name": "python",
   "nbconvert_exporter": "python",
   "pygments_lexer": "ipython3",
   "version": "3.8.8"
  }
 },
 "nbformat": 4,
 "nbformat_minor": 5
}
