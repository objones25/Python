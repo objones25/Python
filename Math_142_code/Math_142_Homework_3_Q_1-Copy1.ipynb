{
 "cells": [
  {
   "cell_type": "code",
   "execution_count": 2,
   "id": "caeccc00",
   "metadata": {},
   "outputs": [],
   "source": [
    "import numpy as np\n",
    "import pandas as pd\n",
    "import seaborn as sns\n",
    "import matplotlib.pyplot as plt\n",
    "\n",
    "from numpy.linalg import eig"
   ]
  },
  {
   "cell_type": "code",
   "execution_count": 3,
   "id": "4ea4bca5",
   "metadata": {},
   "outputs": [],
   "source": [
    "L=np.array([[0,3,1.5],\n",
    "            [1,0,0],\n",
    "            [0,1,0.5]])\n"
   ]
  },
  {
   "cell_type": "code",
   "execution_count": 98,
   "id": "8d70a118",
   "metadata": {},
   "outputs": [],
   "source": [
    "e_val,e_vec=eig(L)"
   ]
  },
  {
   "cell_type": "code",
   "execution_count": 100,
   "id": "c1d5c35a",
   "metadata": {},
   "outputs": [
    {
     "data": {
      "text/plain": [
       "array([[-0.86,  0.8 , -0.  ],\n",
       "       [-0.43, -0.53, -0.45],\n",
       "       [-0.29,  0.27,  0.89]])"
      ]
     },
     "execution_count": 100,
     "metadata": {},
     "output_type": "execute_result"
    }
   ],
   "source": [
    "np.round(e_vec,2)"
   ]
  },
  {
   "cell_type": "code",
   "execution_count": 102,
   "id": "eb207d99",
   "metadata": {},
   "outputs": [
    {
     "data": {
      "text/plain": [
       "array([[-0., -1., -1.],\n",
       "       [ 1., -1., -1.],\n",
       "       [-0.,  0.,  1.]])"
      ]
     },
     "execution_count": 102,
     "metadata": {},
     "output_type": "execute_result"
    }
   ],
   "source": [
    "np.round(np.linalg.inv(e_vec))"
   ]
  },
  {
   "cell_type": "code",
   "execution_count": 101,
   "id": "5dda33ff",
   "metadata": {},
   "outputs": [
    {
     "data": {
      "text/plain": [
       "array([[ 2. ,  0. ,  0. ],\n",
       "       [ 0. , -1.5,  0. ],\n",
       "       [ 0. ,  0. ,  0. ]])"
      ]
     },
     "execution_count": 101,
     "metadata": {},
     "output_type": "execute_result"
    }
   ],
   "source": [
    "lambda_1=np.identity(3)\n",
    "for i in np.arange(3):\n",
    "    lambda_1[i][i]=e_val[i]\n",
    "np.round(lambda_1,2)"
   ]
  },
  {
   "cell_type": "code",
   "execution_count": 81,
   "id": "c6774714",
   "metadata": {},
   "outputs": [],
   "source": [
    "N_0=np.array([[30,10,10]]).transpose()"
   ]
  },
  {
   "cell_type": "code",
   "execution_count": 96,
   "id": "a0496186",
   "metadata": {},
   "outputs": [],
   "source": [
    "def N_k(N_0,L,k):\n",
    "    e_val,e_vec=eig(L)\n",
    "    e_vec_i=np.linalg.inv(e_vec)\n",
    "    lambda_1=np.identity(3)\n",
    "    for i in np.arange(3):\n",
    "        lambda_1[i][i]=e_val[i]**k\n",
    "    N_0=np.matmul(e_vec_i,N_0)\n",
    "    N_0=np.matmul(lambda_1,N_0)\n",
    "    \n",
    "    return np.matmul(e_vec,N_0)"
   ]
  },
  {
   "cell_type": "code",
   "execution_count": 97,
   "id": "1ed82349",
   "metadata": {},
   "outputs": [
    {
     "data": {
      "text/plain": [
       "array([[45.],\n",
       "       [30.],\n",
       "       [15.]])"
      ]
     },
     "execution_count": 97,
     "metadata": {},
     "output_type": "execute_result"
    }
   ],
   "source": [
    "N_k(N_0,L,1)"
   ]
  },
  {
   "cell_type": "code",
   "execution_count": 87,
   "id": "4c1a675b",
   "metadata": {},
   "outputs": [
    {
     "data": {
      "text/plain": [
       "0.5454545454545454"
      ]
     },
     "execution_count": 87,
     "metadata": {},
     "output_type": "execute_result"
    }
   ],
   "source": [
    "e_vec.transpose()[0][0]/np.sum(e_vec.transpose()[0])"
   ]
  }
 ],
 "metadata": {
  "kernelspec": {
   "display_name": "Python 3",
   "language": "python",
   "name": "python3"
  },
  "language_info": {
   "codemirror_mode": {
    "name": "ipython",
    "version": 3
   },
   "file_extension": ".py",
   "mimetype": "text/x-python",
   "name": "python",
   "nbconvert_exporter": "python",
   "pygments_lexer": "ipython3",
   "version": "3.8.8"
  }
 },
 "nbformat": 4,
 "nbformat_minor": 5
}
