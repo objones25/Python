{
 "cells": [
  {
   "cell_type": "code",
   "execution_count": 1,
   "id": "cf528ca0",
   "metadata": {},
   "outputs": [],
   "source": [
    "import numpy as np\n",
    "import pandas as pd\n",
    "import seaborn as sns\n",
    "import matplotlib.pyplot as plt\n",
    "\n",
    "from numpy.linalg import eig"
   ]
  },
  {
   "cell_type": "code",
   "execution_count": 78,
   "id": "cedb8456",
   "metadata": {},
   "outputs": [],
   "source": [
    "b=np.array([0.000,0.045,0.391,0.472,0.484,0.546,0.543,0.502,0.468,0.459,0.433,0.421])\n",
    "S=np.array([0.845,0.975,0.965,0.950,0.926,0.895,0.850,0.786,0.691,0.561,0.370])\n",
    "L=np.zeros((12,12))\n",
    "L[0]=b\n",
    "for i in np.arange(1,12):\n",
    "    L[i][i-1]=S[i-1]"
   ]
  },
  {
   "cell_type": "code",
   "execution_count": 80,
   "id": "fbf37ad3",
   "metadata": {},
   "outputs": [
    {
     "data": {
      "text/plain": [
       "array([[0.   , 0.045, 0.391, 0.472, 0.484, 0.546, 0.543, 0.502, 0.468,\n",
       "        0.459, 0.433, 0.421],\n",
       "       [0.845, 0.   , 0.   , 0.   , 0.   , 0.   , 0.   , 0.   , 0.   ,\n",
       "        0.   , 0.   , 0.   ],\n",
       "       [0.   , 0.975, 0.   , 0.   , 0.   , 0.   , 0.   , 0.   , 0.   ,\n",
       "        0.   , 0.   , 0.   ],\n",
       "       [0.   , 0.   , 0.965, 0.   , 0.   , 0.   , 0.   , 0.   , 0.   ,\n",
       "        0.   , 0.   , 0.   ],\n",
       "       [0.   , 0.   , 0.   , 0.95 , 0.   , 0.   , 0.   , 0.   , 0.   ,\n",
       "        0.   , 0.   , 0.   ],\n",
       "       [0.   , 0.   , 0.   , 0.   , 0.926, 0.   , 0.   , 0.   , 0.   ,\n",
       "        0.   , 0.   , 0.   ],\n",
       "       [0.   , 0.   , 0.   , 0.   , 0.   , 0.895, 0.   , 0.   , 0.   ,\n",
       "        0.   , 0.   , 0.   ],\n",
       "       [0.   , 0.   , 0.   , 0.   , 0.   , 0.   , 0.85 , 0.   , 0.   ,\n",
       "        0.   , 0.   , 0.   ],\n",
       "       [0.   , 0.   , 0.   , 0.   , 0.   , 0.   , 0.   , 0.786, 0.   ,\n",
       "        0.   , 0.   , 0.   ],\n",
       "       [0.   , 0.   , 0.   , 0.   , 0.   , 0.   , 0.   , 0.   , 0.691,\n",
       "        0.   , 0.   , 0.   ],\n",
       "       [0.   , 0.   , 0.   , 0.   , 0.   , 0.   , 0.   , 0.   , 0.   ,\n",
       "        0.561, 0.   , 0.   ],\n",
       "       [0.   , 0.   , 0.   , 0.   , 0.   , 0.   , 0.   , 0.   , 0.   ,\n",
       "        0.   , 0.37 , 0.   ]])"
      ]
     },
     "execution_count": 80,
     "metadata": {},
     "output_type": "execute_result"
    }
   ],
   "source": [
    "L"
   ]
  },
  {
   "cell_type": "code",
   "execution_count": 65,
   "id": "e51cd1cc",
   "metadata": {},
   "outputs": [],
   "source": [
    "e_value,e_vector=eig(L)"
   ]
  },
  {
   "cell_type": "code",
   "execution_count": 73,
   "id": "4db843aa",
   "metadata": {},
   "outputs": [
    {
     "data": {
      "text/plain": [
       "array([ 1.17557142+0.j        ,  0.56162493+0.54934695j,\n",
       "        0.56162493-0.54934695j,  0.23526738+0.6945441j ,\n",
       "        0.23526738-0.6945441j , -0.1301436 +0.71474201j,\n",
       "       -0.1301436 -0.71474201j, -0.35689924+0.56111754j,\n",
       "       -0.35689924-0.56111754j, -0.6585493 +0.j        ,\n",
       "       -0.56836052+0.31311574j, -0.56836052-0.31311574j])"
      ]
     },
     "execution_count": 73,
     "metadata": {},
     "output_type": "execute_result"
    }
   ],
   "source": [
    "e_value"
   ]
  },
  {
   "cell_type": "code",
   "execution_count": 66,
   "id": "c54b17f7",
   "metadata": {},
   "outputs": [
    {
     "data": {
      "text/plain": [
       "(1.1755714232604326+0j)"
      ]
     },
     "execution_count": 66,
     "metadata": {},
     "output_type": "execute_result"
    }
   ],
   "source": [
    "e_value[0]"
   ]
  },
  {
   "cell_type": "code",
   "execution_count": 70,
   "id": "f3a62bb2",
   "metadata": {},
   "outputs": [],
   "source": [
    "N_0=np.array([np.zeros(12)]).transpose()\n",
    "N_0[4][0]=1000\n",
    "N_0\n",
    "def N_k(N_0,L,k):\n",
    "    e_val,e_vec=eig(L)\n",
    "    e_vec_i=np.linalg.inv(e_vec)\n",
    "    lambda_1=np.identity(12)\n",
    "    for i in np.arange(12):\n",
    "        lambda_1[i][i]=e_val[i]**k\n",
    "    N_0=np.matmul(e_vec_i,N_0)\n",
    "    N_0=np.matmul(lambda_1,N_0)\n",
    "    \n",
    "    return np.matmul(e_vec,N_0)"
   ]
  },
  {
   "cell_type": "code",
   "execution_count": 71,
   "id": "9e7f5338",
   "metadata": {},
   "outputs": [
    {
     "name": "stderr",
     "output_type": "stream",
     "text": [
      "<ipython-input-70-0d3dc43db484>:9: ComplexWarning: Casting complex values to real discards the imaginary part\n",
      "  lambda_1[i][i]=e_val[i]**k\n"
     ]
    },
    {
     "data": {
      "text/plain": [
       "array([[2.90878198e+09-1.41456535e-06j],\n",
       "       [2.09083066e+09-1.01678868e-06j],\n",
       "       [1.73410126e+09-8.43308154e-07j],\n",
       "       [1.42348452e+09-6.92252595e-07j],\n",
       "       [1.15034294e+09-5.59421531e-07j],\n",
       "       [9.06127474e+08-4.40657477e-07j],\n",
       "       [6.89863732e+08-3.35486585e-07j],\n",
       "       [4.98807780e+08-2.42574455e-07j],\n",
       "       [3.33508375e+08-1.62187952e-07j],\n",
       "       [1.96035973e+08-9.53339565e-08j],\n",
       "       [9.35512538e+07-4.54947683e-08j],\n",
       "       [2.94443734e+07-1.43190486e-08j]])"
      ]
     },
     "execution_count": 71,
     "metadata": {},
     "output_type": "execute_result"
    }
   ],
   "source": [
    "N_k(N_0,L,100)"
   ]
  },
  {
   "cell_type": "code",
   "execution_count": 62,
   "id": "c0685a16",
   "metadata": {},
   "outputs": [
    {
     "data": {
      "text/plain": [
       "array([0.63635094+0.j, 0.45740866+0.j, 0.37936737+0.j, 0.3114141 +0.j,\n",
       "       0.25165922+0.j, 0.19823248+0.j, 0.15092071+0.j, 0.10912361+0.j,\n",
       "       0.07296125+0.j, 0.04288657+0.j, 0.0204661 +0.j, 0.00644151+0.j])"
      ]
     },
     "execution_count": 62,
     "metadata": {},
     "output_type": "execute_result"
    }
   ],
   "source": [
    "e_vector.transpose()[0]"
   ]
  },
  {
   "cell_type": "code",
   "execution_count": 74,
   "id": "24a08e8c",
   "metadata": {},
   "outputs": [
    {
     "data": {
      "text/plain": [
       "array([0.24129497+0.j, 0.17344267+0.j, 0.14385056+0.j, 0.11808367+0.j,\n",
       "       0.0954255 +0.j, 0.07516686+0.j, 0.05722693+0.j, 0.04137808+0.j,\n",
       "       0.02766584+0.j, 0.01626196+0.j, 0.00776045+0.j, 0.00244253+0.j])"
      ]
     },
     "execution_count": 74,
     "metadata": {},
     "output_type": "execute_result"
    }
   ],
   "source": [
    "pop_prop=e_vector.transpose()[0]/sum(e_vector.transpose()[0])\n",
    "pop_prop"
   ]
  }
 ],
 "metadata": {
  "kernelspec": {
   "display_name": "Python 3",
   "language": "python",
   "name": "python3"
  },
  "language_info": {
   "codemirror_mode": {
    "name": "ipython",
    "version": 3
   },
   "file_extension": ".py",
   "mimetype": "text/x-python",
   "name": "python",
   "nbconvert_exporter": "python",
   "pygments_lexer": "ipython3",
   "version": "3.8.8"
  }
 },
 "nbformat": 4,
 "nbformat_minor": 5
}
