{
 "cells": [
  {
   "cell_type": "code",
   "execution_count": 1,
   "id": "3bbf9017",
   "metadata": {},
   "outputs": [],
   "source": [
    "import numpy as np\n",
    "import pandas as pd\n",
    "import seaborn as sns\n",
    "import math\n",
    "import random\n",
    "import matplotlib.pyplot as plt"
   ]
  },
  {
   "cell_type": "code",
   "execution_count": 2,
   "id": "112ecf20",
   "metadata": {},
   "outputs": [],
   "source": [
    "def polymers(simulations,N):\n",
    "    max_radii = np.zeros(simulations)\n",
    "    for i in np.arange(simulations):\n",
    "        x_0=0\n",
    "        r=0\n",
    "        for j in np.arange(N):\n",
    "            v=random.uniform(0,1)\n",
    "            if v<1/2:\n",
    "                x_0+=1\n",
    "            else:\n",
    "                x_0-=1\n",
    "            r=max([r,abs(x_0)])\n",
    "        max_radii[i]=r\n",
    "    sns.histplot(data=max_radii,discrete=True)\n",
    "    plt.savefig(\"100 polymers\")"
   ]
  },
  {
   "cell_type": "code",
   "execution_count": 3,
   "id": "008b9ecf",
   "metadata": {},
   "outputs": [
    {
     "data": {
      "image/png": "[encoded data removed]",
      "text/plain": [
       "<Figure size 432x288 with 1 Axes>"
      ]
     },
     "metadata": {
      "needs_background": "light"
     },
     "output_type": "display_data"
    }
   ],
   "source": [
    "polymers(200,100)"
   ]
  },
  {
   "cell_type": "code",
   "execution_count": 4,
   "id": "d357c8de",
   "metadata": {},
   "outputs": [],
   "source": [
    "def polymers_2(simulations,N_1,N_2,N_3,N_4):\n",
    "    max_radii = pd.DataFrame({str(N_1):[],\n",
    "                              str(N_2):[],\n",
    "                              str(N_3):[],\n",
    "                              str(N_4):[]})\n",
    "    for i in np.arange(simulations):\n",
    "        x_1=0\n",
    "        r_1=0\n",
    "        for j_1 in np.arange(N_1):\n",
    "            v=random.uniform(0,1)\n",
    "            if v<1/2:\n",
    "                x_1+=1\n",
    "            else:\n",
    "                x_1-=1\n",
    "            r_1=max([r_1,abs(x_1)])\n",
    "        x_2=0\n",
    "        r_2=0\n",
    "        for j_2 in np.arange(N_2):\n",
    "            v=random.uniform(0,1)\n",
    "            if v<1/2:\n",
    "                x_2+=1\n",
    "            else:\n",
    "                x_2-=1\n",
    "            r_2=max([r_2,abs(x_2)])\n",
    "        x_3=0\n",
    "        r_3=0\n",
    "        for j_3 in np.arange(N_3):\n",
    "            v=random.uniform(0,1)\n",
    "            if v<1/2:\n",
    "                x_3+=1\n",
    "            else:\n",
    "                x_3-=1\n",
    "            r_3=max([r_3,abs(x_3)])\n",
    "        x_4=0\n",
    "        r_4=0\n",
    "        for j_4 in np.arange(N_4):\n",
    "            v=random.uniform(0,1)\n",
    "            if v<1/2:\n",
    "                x_4+=1\n",
    "            else:\n",
    "                x_4-=1\n",
    "            r_4=max([r_4,abs(x_4)])\n",
    "        max_radii=max_radii.append(\n",
    "                            {str(N_1):r_1,\n",
    "                              str(N_2):r_2,\n",
    "                              str(N_3):r_3,\n",
    "                              str(N_4):r_4},ignore_index=True)\n",
    "    sns.histplot(data=max_radii,discrete=True)\n",
    "    plt.savefig(\"10-200 polymers\")\n",
    "    return np.array([np.mean(max_radii[str(N_1)]),np.mean(max_radii[str(N_2)]),np.mean(max_radii[str(N_3)]),np.mean(max_radii[str(N_4)])])"
   ]
  },
  {
   "cell_type": "code",
   "execution_count": 5,
   "id": "8743c73b",
   "metadata": {},
   "outputs": [
    {
     "data": {
      "text/plain": [
       "array([ 12.96    ,  55.6516  , 151.5361  , 278.723025])"
      ]
     },
     "execution_count": 5,
     "metadata": {},
     "output_type": "execute_result"
    },
    {
     "data": {
      "image/png": "[encoded data removed]",
      "text/plain": [
       "<Figure size 432x288 with 1 Axes>"
      ]
     },
     "metadata": {
      "needs_background": "light"
     },
     "output_type": "display_data"
    }
   ],
   "source": [
    "poly=polymers_2(200,10,40,100,200)\n",
    "poly**2"
   ]
  },
  {
   "cell_type": "code",
   "execution_count": null,
   "id": "2b29ddd7",
   "metadata": {},
   "outputs": [],
   "source": []
  }
 ],
 "metadata": {
  "kernelspec": {
   "display_name": "Python 3",
   "language": "python",
   "name": "python3"
  },
  "language_info": {
   "codemirror_mode": {
    "name": "ipython",
    "version": 3
   },
   "file_extension": ".py",
   "mimetype": "text/x-python",
   "name": "python",
   "nbconvert_exporter": "python",
   "pygments_lexer": "ipython3",
   "version": "3.8.8"
  }
 },
 "nbformat": 4,
 "nbformat_minor": 5
}
