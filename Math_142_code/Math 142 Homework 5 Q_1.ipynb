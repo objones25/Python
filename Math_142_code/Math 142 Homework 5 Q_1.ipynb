{
 "cells": [
  {
   "cell_type": "code",
   "execution_count": 1,
   "id": "0a202827",
   "metadata": {},
   "outputs": [],
   "source": [
    "import numpy as np\n",
    "import pandas as pd\n",
    "import seaborn as sns\n",
    "import matplotlib.pyplot as plt\n",
    "import random\n",
    "import math"
   ]
  },
  {
   "cell_type": "code",
   "execution_count": 2,
   "id": "faa0c684",
   "metadata": {},
   "outputs": [],
   "source": [
    "def all_equal(arr):\n",
    "    if np.sum(arr==arr[0])==len(arr):\n",
    "        return True\n",
    "    else:\n",
    "        return False"
   ]
  },
  {
   "cell_type": "code",
   "execution_count": 3,
   "id": "90210e86",
   "metadata": {},
   "outputs": [],
   "source": [
    "def diversity_sim(N,sim_number,steps):\n",
    "    descendants=np.arange(1,N+1)\n",
    "    simulations=np.array([descendants]*sim_number)\n",
    "    for step in np.arange(steps+1):\n",
    "        for sim in simulations:\n",
    "            x_b=min(math.floor(random.uniform(0,1)*N),N-1)\n",
    "            x_m=min(math.floor(random.uniform(0,1)*N),N-1)\n",
    "            sim[x_m]=sim[x_b]\n",
    "    return all_equal(np.array([all_equal(sim) for sim in simulations]))"
   ]
  },
  {
   "cell_type": "code",
   "execution_count": 4,
   "id": "711cbf37",
   "metadata": {},
   "outputs": [
    {
     "data": {
      "text/plain": [
       "True"
      ]
     },
     "execution_count": 4,
     "metadata": {},
     "output_type": "execute_result"
    }
   ],
   "source": [
    "diversity_sim(6,1,1000)"
   ]
  },
  {
   "cell_type": "code",
   "execution_count": 5,
   "id": "759390e6",
   "metadata": {},
   "outputs": [
    {
     "data": {
      "text/plain": [
       "True"
      ]
     },
     "execution_count": 5,
     "metadata": {},
     "output_type": "execute_result"
    }
   ],
   "source": [
    "diversity_sim(6,100,1000)"
   ]
  },
  {
   "cell_type": "code",
   "execution_count": 6,
   "id": "2e4ce0dd",
   "metadata": {},
   "outputs": [],
   "source": [
    "def diversity_sim_descendant_count(N,sim_number,steps,num_count):\n",
    "    descendants=np.arange(1,N+1)\n",
    "    simulations=np.array([descendants]*sim_number)\n",
    "    counter=np.zeros(sim_number)\n",
    "    for step in np.arange(steps+1):\n",
    "        for index,sim in enumerate(simulations):\n",
    "            x_b=min(math.floor(random.uniform(0,1)*N),N-1)\n",
    "            x_m=min(math.floor(random.uniform(0,1)*N),N-1)\n",
    "            sim[x_m]=sim[x_b]\n",
    "            if sim[x_b] == num_count:\n",
    "                counter[index]+=1\n",
    "    sns.histplot(counter)\n",
    "    return np.percentile(counter,[0,25,50,75,100]),np.mean(counter)\n",
    "               "
   ]
  },
  {
   "cell_type": "code",
   "execution_count": 14,
   "id": "c8a28896",
   "metadata": {},
   "outputs": [
    {
     "data": {
      "image/png": "[encoded data removed]",
      "text/plain": [
       "<Figure size 432x288 with 1 Axes>"
      ]
     },
     "metadata": {
      "needs_background": "light"
     },
     "output_type": "display_data"
    }
   ],
   "source": [
    "n_1=diversity_sim_descendant_count(6,100,1000,1)\n",
    "plt.savefig(\"div_sim_descendant_count\")"
   ]
  },
  {
   "cell_type": "code",
   "execution_count": 15,
   "id": "a78c325f",
   "metadata": {},
   "outputs": [
    {
     "data": {
      "text/plain": [
       "(array([  0.  ,   0.  ,   1.  ,   9.25, 999.  ]), 199.43)"
      ]
     },
     "execution_count": 15,
     "metadata": {},
     "output_type": "execute_result"
    }
   ],
   "source": [
    "n_1"
   ]
  },
  {
   "cell_type": "code",
   "execution_count": 8,
   "id": "7b7e417a",
   "metadata": {},
   "outputs": [],
   "source": [
    "def diversity_sim_homogenization_rate(N,sim_number,steps,graph=True):\n",
    "    descendants=np.arange(1,N+1)\n",
    "    completed = np.array([np.empty(2)]*sim_number)\n",
    "    simulations=np.array([descendants]*sim_number)\n",
    "    for step in np.arange(steps+1):\n",
    "        if np.equal(completed.transpose()[0],np.arange(sim_number)).all()==True:\n",
    "            break\n",
    "        for index,sim in enumerate(simulations):\n",
    "            if np.isin(index,completed.transpose()[0])==True:\n",
    "                continue\n",
    "            else:\n",
    "                x_b=min(math.floor(random.uniform(0,1)*N),N-1)\n",
    "                x_m=min(math.floor(random.uniform(0,1)*N),N-1)\n",
    "                sim[x_m]=sim[x_b]\n",
    "                if all_equal(sim)==True:\n",
    "                    completed[index][0]=index\n",
    "                    completed[index][1]=step\n",
    "    if graph==True:\n",
    "        sns.histplot(completed.transpose()[1])\n",
    "    return np.percentile(completed.transpose()[1],[0,25,50,75,100]),np.mean(completed.transpose()[1])\n",
    "    "
   ]
  },
  {
   "cell_type": "code",
   "execution_count": 16,
   "id": "bee70222",
   "metadata": {},
   "outputs": [
    {
     "data": {
      "image/png": "[encoded data removed]",
      "text/plain": [
       "<Figure size 432x288 with 1 Axes>"
      ]
     },
     "metadata": {
      "needs_background": "light"
     },
     "output_type": "display_data"
    }
   ],
   "source": [
    "n_2=diversity_sim_homogenization_rate(3,100,1000)\n",
    "plt.savefig(\"div_sim_hom_3\")"
   ]
  },
  {
   "cell_type": "code",
   "execution_count": 17,
   "id": "b3a27bca",
   "metadata": {},
   "outputs": [
    {
     "data": {
      "text/plain": [
       "(array([ 1.,  2.,  4.,  7., 20.]), 5.02)"
      ]
     },
     "execution_count": 17,
     "metadata": {},
     "output_type": "execute_result"
    }
   ],
   "source": [
    "n_2"
   ]
  },
  {
   "cell_type": "code",
   "execution_count": 18,
   "id": "48c44af9",
   "metadata": {},
   "outputs": [
    {
     "data": {
      "image/png": "[encoded data removed]",
      "text/plain": [
       "<Figure size 432x288 with 1 Axes>"
      ]
     },
     "metadata": {
      "needs_background": "light"
     },
     "output_type": "display_data"
    }
   ],
   "source": [
    "n_3=diversity_sim_homogenization_rate(10,100,1000)\n",
    "plt.savefig(\"div_sim_hom_10\")"
   ]
  },
  {
   "cell_type": "code",
   "execution_count": 19,
   "id": "3322542e",
   "metadata": {},
   "outputs": [
    {
     "data": {
      "text/plain": [
       "(array([ 20.,  54.,  74., 106., 365.]), 88.1)"
      ]
     },
     "execution_count": 19,
     "metadata": {},
     "output_type": "execute_result"
    }
   ],
   "source": [
    "n_3"
   ]
  },
  {
   "cell_type": "code",
   "execution_count": 20,
   "id": "07fd0c16",
   "metadata": {},
   "outputs": [
    {
     "data": {
      "image/png": "[encoded data removed]",
      "text/plain": [
       "<Figure size 432x288 with 1 Axes>"
      ]
     },
     "metadata": {
      "needs_background": "light"
     },
     "output_type": "display_data"
    }
   ],
   "source": [
    "n_4=diversity_sim_homogenization_rate(15,100,1000)\n",
    "plt.savefig(\"div_sim_hom_15\")"
   ]
  },
  {
   "cell_type": "code",
   "execution_count": 21,
   "id": "117aae55",
   "metadata": {},
   "outputs": [
    {
     "data": {
      "text/plain": [
       "(array([ 38.  , 124.75, 184.5 , 261.75, 489.  ]), 205.58)"
      ]
     },
     "execution_count": 21,
     "metadata": {},
     "output_type": "execute_result"
    }
   ],
   "source": [
    "n_4"
   ]
  },
  {
   "cell_type": "code",
   "execution_count": 12,
   "id": "5b16a175",
   "metadata": {},
   "outputs": [
    {
     "data": {
      "image/png": "[encoded data removed]",
      "text/plain": [
       "<Figure size 432x288 with 1 Axes>"
      ]
     },
     "metadata": {
      "needs_background": "light"
     },
     "output_type": "display_data"
    }
   ],
   "source": [
    "data=np.array([diversity_sim_homogenization_rate(N,100,1000,False)[1] for N in np.arange(1,23,2)])\n",
    "sns.scatterplot(x=np.arange(1,23,2),y=data)\n",
    "plt.savefig(\"div_sim_hom_rates\")"
   ]
  },
  {
   "cell_type": "code",
   "execution_count": 13,
   "id": "dac82283",
   "metadata": {},
   "outputs": [
    {
     "data": {
      "image/png": "[encoded data removed]",
      "text/plain": [
       "<Figure size 432x288 with 1 Axes>"
      ]
     },
     "metadata": {
      "needs_background": "light"
     },
     "output_type": "display_data"
    }
   ],
   "source": [
    "sns.lineplot(x=np.arange(1,23,2),y=[math.sqrt(d) for d in data])\n",
    "plt.savefig(\"div_sim_hom_regression\")"
   ]
  },
  {
   "cell_type": "code",
   "execution_count": null,
   "id": "5fafadfa",
   "metadata": {},
   "outputs": [],
   "source": []
  }
 ],
 "metadata": {
  "kernelspec": {
   "display_name": "Python 3",
   "language": "python",
   "name": "python3"
  },
  "language_info": {
   "codemirror_mode": {
    "name": "ipython",
    "version": 3
   },
   "file_extension": ".py",
   "mimetype": "text/x-python",
   "name": "python",
   "nbconvert_exporter": "python",
   "pygments_lexer": "ipython3",
   "version": "3.8.8"
  }
 },
 "nbformat": 4,
 "nbformat_minor": 5
}
