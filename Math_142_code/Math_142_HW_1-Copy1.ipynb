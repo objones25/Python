{
 "cells": [
  {
   "cell_type": "code",
   "execution_count": 1,
   "id": "d8ff351d",
   "metadata": {},
   "outputs": [],
   "source": [
    "import pandas as pd\n",
    "import numpy as np\n",
    "import seaborn as sns\n",
    "import matplotlib.pyplot as plt"
   ]
  },
  {
   "cell_type": "code",
   "execution_count": 2,
   "id": "6a00688e",
   "metadata": {},
   "outputs": [
    {
     "data": {
      "text/html": [
       "<div>\n",
       "<style scoped>\n",
       "    .dataframe tbody tr th:only-of-type {\n",
       "        vertical-align: middle;\n",
       "    }\n",
       "\n",
       "    .dataframe tbody tr th {\n",
       "        vertical-align: top;\n",
       "    }\n",
       "\n",
       "    .dataframe thead th {\n",
       "        text-align: right;\n",
       "    }\n",
       "</style>\n",
       "<table border=\"1\" class=\"dataframe\">\n",
       "  <thead>\n",
       "    <tr style=\"text-align: right;\">\n",
       "      <th></th>\n",
       "      <th>Time (hours)</th>\n",
       "      <th>Yeast Cell Count</th>\n",
       "    </tr>\n",
       "  </thead>\n",
       "  <tbody>\n",
       "    <tr>\n",
       "      <th>0</th>\n",
       "      <td>0</td>\n",
       "      <td>9.6</td>\n",
       "    </tr>\n",
       "    <tr>\n",
       "      <th>1</th>\n",
       "      <td>1</td>\n",
       "      <td>18.3</td>\n",
       "    </tr>\n",
       "    <tr>\n",
       "      <th>2</th>\n",
       "      <td>2</td>\n",
       "      <td>29.0</td>\n",
       "    </tr>\n",
       "    <tr>\n",
       "      <th>3</th>\n",
       "      <td>3</td>\n",
       "      <td>47.2</td>\n",
       "    </tr>\n",
       "    <tr>\n",
       "      <th>4</th>\n",
       "      <td>4</td>\n",
       "      <td>71.1</td>\n",
       "    </tr>\n",
       "    <tr>\n",
       "      <th>5</th>\n",
       "      <td>5</td>\n",
       "      <td>119.1</td>\n",
       "    </tr>\n",
       "    <tr>\n",
       "      <th>6</th>\n",
       "      <td>6</td>\n",
       "      <td>174.6</td>\n",
       "    </tr>\n",
       "    <tr>\n",
       "      <th>7</th>\n",
       "      <td>7</td>\n",
       "      <td>257.3</td>\n",
       "    </tr>\n",
       "    <tr>\n",
       "      <th>8</th>\n",
       "      <td>8</td>\n",
       "      <td>350.7</td>\n",
       "    </tr>\n",
       "    <tr>\n",
       "      <th>9</th>\n",
       "      <td>9</td>\n",
       "      <td>441.0</td>\n",
       "    </tr>\n",
       "    <tr>\n",
       "      <th>10</th>\n",
       "      <td>10</td>\n",
       "      <td>513.3</td>\n",
       "    </tr>\n",
       "    <tr>\n",
       "      <th>11</th>\n",
       "      <td>11</td>\n",
       "      <td>559.7</td>\n",
       "    </tr>\n",
       "    <tr>\n",
       "      <th>12</th>\n",
       "      <td>12</td>\n",
       "      <td>594.8</td>\n",
       "    </tr>\n",
       "    <tr>\n",
       "      <th>13</th>\n",
       "      <td>13</td>\n",
       "      <td>629.4</td>\n",
       "    </tr>\n",
       "    <tr>\n",
       "      <th>14</th>\n",
       "      <td>14</td>\n",
       "      <td>640.8</td>\n",
       "    </tr>\n",
       "    <tr>\n",
       "      <th>15</th>\n",
       "      <td>15</td>\n",
       "      <td>651.1</td>\n",
       "    </tr>\n",
       "    <tr>\n",
       "      <th>16</th>\n",
       "      <td>16</td>\n",
       "      <td>655.9</td>\n",
       "    </tr>\n",
       "    <tr>\n",
       "      <th>17</th>\n",
       "      <td>17</td>\n",
       "      <td>659.6</td>\n",
       "    </tr>\n",
       "    <tr>\n",
       "      <th>18</th>\n",
       "      <td>18</td>\n",
       "      <td>661.8</td>\n",
       "    </tr>\n",
       "  </tbody>\n",
       "</table>\n",
       "</div>"
      ],
      "text/plain": [
       "    Time (hours)  Yeast Cell Count\n",
       "0              0               9.6\n",
       "1              1              18.3\n",
       "2              2              29.0\n",
       "3              3              47.2\n",
       "4              4              71.1\n",
       "5              5             119.1\n",
       "6              6             174.6\n",
       "7              7             257.3\n",
       "8              8             350.7\n",
       "9              9             441.0\n",
       "10            10             513.3\n",
       "11            11             559.7\n",
       "12            12             594.8\n",
       "13            13             629.4\n",
       "14            14             640.8\n",
       "15            15             651.1\n",
       "16            16             655.9\n",
       "17            17             659.6\n",
       "18            18             661.8"
      ]
     },
     "execution_count": 2,
     "metadata": {},
     "output_type": "execute_result"
    }
   ],
   "source": [
    "bacteria_data=pd.read_csv(\"data/M142_Homework1_Data.csv\")\n",
    "bacteria_data"
   ]
  },
  {
   "cell_type": "code",
   "execution_count": 48,
   "id": "7985f3c4",
   "metadata": {},
   "outputs": [
    {
     "data": {
      "image/png": "[encoded data removed]",
      "text/plain": [
       "<Figure size 432x288 with 1 Axes>"
      ]
     },
     "metadata": {
      "needs_background": "light"
     },
     "output_type": "display_data"
    }
   ],
   "source": [
    "sns.scatterplot(data=bacteria_data,x=\"Time (hours)\",y=\"Yeast Cell Count\")\n",
    "plt.title(\"Yeast Cell Count vs. Time (hours)\")\n",
    "plt.savefig(\"Q_4_Hw_1_142_a.png\")"
   ]
  },
  {
   "cell_type": "code",
   "execution_count": 10,
   "id": "7f5b1e17",
   "metadata": {},
   "outputs": [],
   "source": [
    "bacteria_exp=bacteria_data[bacteria_data[\"Time (hours)\"]<10]"
   ]
  },
  {
   "cell_type": "code",
   "execution_count": 50,
   "id": "5b63bc57",
   "metadata": {},
   "outputs": [
    {
     "data": {
      "image/png": "[encoded data removed]",
      "text/plain": [
       "<Figure size 432x288 with 1 Axes>"
      ]
     },
     "metadata": {
      "needs_background": "light"
     },
     "output_type": "display_data"
    }
   ],
   "source": [
    "sns.regplot(data=bacteria_exp,x=bacteria_exp[\"Time (hours)\"],y=np.log(bacteria_exp[\"Yeast Cell Count\"]))\n",
    "plt.ylabel(\"Log Yeast Cell Count\")\n",
    "plt.title(\"Log Yeast Cell Count vs. Time (hours)\")\n",
    "plt.savefig(\"Q_4_Hw_1_142_b.png\")"
   ]
  },
  {
   "cell_type": "code",
   "execution_count": 21,
   "id": "d455a53e",
   "metadata": {},
   "outputs": [
    {
     "data": {
      "text/plain": [
       "array([ 1.5328075 , 12.03305581])"
      ]
     },
     "execution_count": 21,
     "metadata": {},
     "output_type": "execute_result"
    }
   ],
   "source": [
    "fit=np.exp(np.polyfit(bacteria_exp[\"Time (hours)\"],np.log(bacteria_exp[\"Yeast Cell Count\"]),1))\n",
    "fit"
   ]
  },
  {
   "cell_type": "code",
   "execution_count": 40,
   "id": "8ee58ca9",
   "metadata": {},
   "outputs": [
    {
     "data": {
      "text/plain": [
       "0.9944986908084287"
      ]
     },
     "execution_count": 40,
     "metadata": {},
     "output_type": "execute_result"
    }
   ],
   "source": [
    "corr=np.corrcoef(bacteria_exp[\"Time (hours)\"], np.log(bacteria_exp[\"Yeast Cell Count\"]))\n",
    "corr[1][0]"
   ]
  },
  {
   "cell_type": "code",
   "execution_count": 49,
   "id": "de128a4a",
   "metadata": {},
   "outputs": [
    {
     "data": {
      "image/png": "[encoded data removed]",
      "text/plain": [
       "<Figure size 432x288 with 1 Axes>"
      ]
     },
     "metadata": {
      "needs_background": "light"
     },
     "output_type": "display_data"
    }
   ],
   "source": [
    "x_0=np.arange(0,10,0.1)\n",
    "y_0=fit[1]*np.power(x_0,fit[0])\n",
    "sns.lineplot(x=x_0,y=y_0)\n",
    "sns.scatterplot(data=bacteria_exp,x=bacteria_exp[\"Time (hours)\"],y=bacteria_exp[\"Yeast Cell Count\"])\n",
    "plt.title(\"Yeast Cell Count vs. Time (hours)\")\n",
    "plt.savefig(\"Q_4_Hw_1_142_c.png\")"
   ]
  },
  {
   "cell_type": "code",
   "execution_count": 25,
   "id": "ae12d287",
   "metadata": {},
   "outputs": [],
   "source": [
    "r_0=np.array([])\n",
    "for x in np.arange(len(bacteria_data)):\n",
    "    if x==18:\n",
    "        r_0=np.append(r_0,0)\n",
    "    else:\n",
    "        r_0=np.append(r_0,(bacteria_data[\"Yeast Cell Count\"][x+1]-bacteria_data[\"Yeast Cell Count\"][x])/bacteria_data[\"Yeast Cell Count\"][x])\n",
    "     "
   ]
  },
  {
   "cell_type": "code",
   "execution_count": 26,
   "id": "81d133bd",
   "metadata": {},
   "outputs": [],
   "source": [
    "bacteria_data[\"R_0(N_k)\"]=r_0"
   ]
  },
  {
   "cell_type": "code",
   "execution_count": 51,
   "id": "b3dfdce5",
   "metadata": {},
   "outputs": [
    {
     "data": {
      "image/png": "[encoded data removed]",
      "text/plain": [
       "<Figure size 432x288 with 1 Axes>"
      ]
     },
     "metadata": {
      "needs_background": "light"
     },
     "output_type": "display_data"
    }
   ],
   "source": [
    "sns.scatterplot(data=bacteria_data,x=\"Yeast Cell Count\",y=\"R_0(N_k)\")\n",
    "sns.regplot(data=bacteria_data,x=\"Yeast Cell Count\",y=\"R_0(N_k)\")\n",
    "plt.title(\"R_0(N_k) vs. Yeast Cell Count\")\n",
    "plt.savefig(\"Q_4_Hw_1_142_d.png\")"
   ]
  },
  {
   "cell_type": "code",
   "execution_count": 41,
   "id": "d9f65460",
   "metadata": {},
   "outputs": [
    {
     "data": {
      "text/plain": [
       "-0.9652771067429227"
      ]
     },
     "execution_count": 41,
     "metadata": {},
     "output_type": "execute_result"
    }
   ],
   "source": [
    "corr_2=np.corrcoef(bacteria_data[\"Yeast Cell Count\"], bacteria_data[\"R_0(N_k)\"])\n",
    "corr_2[1][0]"
   ]
  },
  {
   "cell_type": "code",
   "execution_count": 38,
   "id": "0e983bbc",
   "metadata": {},
   "outputs": [
    {
     "data": {
      "text/plain": [
       "array([-0.00104662,  0.66844655])"
      ]
     },
     "execution_count": 38,
     "metadata": {},
     "output_type": "execute_result"
    }
   ],
   "source": [
    "fit_2=np.polyfit(bacteria_data[\"Yeast Cell Count\"],bacteria_data[\"R_0(N_k)\"],1)\n",
    "fit_2"
   ]
  },
  {
   "cell_type": "code",
   "execution_count": 43,
   "id": "391ce504",
   "metadata": {},
   "outputs": [
    {
     "data": {
      "text/plain": [
       "955.4535128353328"
      ]
     },
     "execution_count": 43,
     "metadata": {},
     "output_type": "execute_result"
    }
   ],
   "source": [
    "k=-1*1/fit_2[0]\n",
    "k"
   ]
  }
 ],
 "metadata": {
  "kernelspec": {
   "display_name": "Python 3",
   "language": "python",
   "name": "python3"
  },
  "language_info": {
   "codemirror_mode": {
    "name": "ipython",
    "version": 3
   },
   "file_extension": ".py",
   "mimetype": "text/x-python",
   "name": "python",
   "nbconvert_exporter": "python",
   "pygments_lexer": "ipython3",
   "version": "3.8.8"
  }
 },
 "nbformat": 4,
 "nbformat_minor": 5
}
