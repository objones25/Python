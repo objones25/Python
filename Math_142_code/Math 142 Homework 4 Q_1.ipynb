{
 "cells": [
  {
   "cell_type": "code",
   "execution_count": 1,
   "id": "cc0ffc0e",
   "metadata": {},
   "outputs": [],
   "source": [
    "import numpy as np\n",
    "import pandas as pd\n",
    "import seaborn as sns\n",
    "import math\n",
    "import random\n",
    "import matplotlib.pyplot as plt"
   ]
  },
  {
   "cell_type": "code",
   "execution_count": 2,
   "id": "1433b2b1",
   "metadata": {},
   "outputs": [
    {
     "data": {
      "image/png": "[encoded data removed]",
      "text/plain": [
       "<Figure size 432x288 with 1 Axes>"
      ]
     },
     "metadata": {
      "needs_background": "light"
     },
     "output_type": "display_data"
    }
   ],
   "source": [
    "d_1=np.zeros(100)\n",
    "randints_1=np.zeros([100,2])\n",
    "for i in np.arange(100):\n",
    "    r_1=random.uniform(0,1)\n",
    "    r_2=random.uniform(0,1)\n",
    "    d_1[i]=min([math.floor(6*r_1+1),6])+min([math.floor(6*r_2+1),6])\n",
    "    randints_1[i]=[r_1,r_2]\n",
    "sns.histplot(data=d_1,discrete=True)\n",
    "plt.savefig(\"die_unweighted\")"
   ]
  },
  {
   "cell_type": "code",
   "execution_count": 3,
   "id": "1797357c",
   "metadata": {},
   "outputs": [
    {
     "data": {
      "image/png": "[encoded data removed]",
      "text/plain": [
       "<Figure size 432x288 with 1 Axes>"
      ]
     },
     "metadata": {
      "needs_background": "light"
     },
     "output_type": "display_data"
    }
   ],
   "source": [
    "d_2=np.zeros(100)\n",
    "randints_2=np.zeros([100,2])\n",
    "for i in np.arange(100):\n",
    "    r_1=random.uniform(0,1)\n",
    "    r_2=random.uniform(0,1)\n",
    "    randints_2[i]=[r_1,r_2]\n",
    "    d_2[i]=min([math.floor(63/10*r_1+1),6])+min([math.floor(63/10*r_2+1),6])\n",
    "sns.histplot(data=d_2,discrete=True)\n",
    "plt.savefig(\"die_weighted\")"
   ]
  },
  {
   "cell_type": "code",
   "execution_count": null,
   "id": "466081c8",
   "metadata": {},
   "outputs": [],
   "source": []
  }
 ],
 "metadata": {
  "kernelspec": {
   "display_name": "Python 3",
   "language": "python",
   "name": "python3"
  },
  "language_info": {
   "codemirror_mode": {
    "name": "ipython",
    "version": 3
   },
   "file_extension": ".py",
   "mimetype": "text/x-python",
   "name": "python",
   "nbconvert_exporter": "python",
   "pygments_lexer": "ipython3",
   "version": "3.8.8"
  }
 },
 "nbformat": 4,
 "nbformat_minor": 5
}
