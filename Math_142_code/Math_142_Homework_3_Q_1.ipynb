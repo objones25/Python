{
 "cells": [
  {
   "cell_type": "code",
   "execution_count": 1,
   "id": "caeccc00",
   "metadata": {},
   "outputs": [],
   "source": [
    "import numpy as np\n",
    "import pandas as pd\n",
    "import seaborn as sns\n",
    "import matplotlib.pyplot as plt\n",
    "\n",
    "from numpy.linalg import eig"
   ]
  },
  {
   "cell_type": "code",
   "execution_count": 17,
   "id": "4ea4bca5",
   "metadata": {},
   "outputs": [],
   "source": [
    "L=np.array([[0,3,1.5],\n",
    "            [1,0,0],\n",
    "            [0,1,0.5]])\n"
   ]
  },
  {
   "cell_type": "code",
   "execution_count": 18,
   "id": "0d2cb46c",
   "metadata": {},
   "outputs": [
    {
     "name": "stdout",
     "output_type": "stream",
     "text": [
      "E-value [ 2.00000000e+00 -1.50000000e+00  3.65215817e-17]\n",
      "E-vector [[-8.57142857e-01  8.01783726e-01 -6.60989847e-16]\n",
      " [-4.28571429e-01 -5.34522484e-01 -4.47213595e-01]\n",
      " [-2.85714286e-01  2.67261242e-01  8.94427191e-01]]\n"
     ]
    }
   ],
   "source": [
    "w,v=eig(L)\n",
    "print('E-value',w)\n",
    "print('E-vector',v)"
   ]
  },
  {
   "cell_type": "code",
   "execution_count": 40,
   "id": "aea1580a",
   "metadata": {},
   "outputs": [],
   "source": [
    "def N_k(N_0,L,k):\n",
    "    for i in np.arange(k):\n",
    "        N_0=np.matmul(L,N_0)\n",
    "    return N_0"
   ]
  },
  {
   "cell_type": "code",
   "execution_count": 45,
   "id": "62b8d24a",
   "metadata": {},
   "outputs": [],
   "source": [
    "def N_k_2(N_0,L,k):\n",
    "    e_val,e_vec=eig(L)\n",
    "    a=np.linalg.solve(e_vec,N_0)\n",
    "    return a[0]*(e_val[0]**k)*e_vec[0]+a[1]*(e_val[1]**k)*e_vec[1]+a[2]*(e_val[2]**k)*e_vec[2]\n",
    "    "
   ]
  },
  {
   "cell_type": "code",
   "execution_count": 43,
   "id": "0176c5de",
   "metadata": {},
   "outputs": [
    {
     "data": {
      "text/plain": [
       "array([30, 10, 10])"
      ]
     },
     "execution_count": 43,
     "metadata": {},
     "output_type": "execute_result"
    }
   ],
   "source": [
    "N_0=np.array([30,10,10])\n",
    "N_0"
   ]
  },
  {
   "cell_type": "code",
   "execution_count": 44,
   "id": "1fef98e9",
   "metadata": {},
   "outputs": [
    {
     "data": {
      "text/plain": [
       "array([-3.00000000e+01,  5.34522484e+00, -4.63553981e-15])"
      ]
     },
     "execution_count": 44,
     "metadata": {},
     "output_type": "execute_result"
    }
   ],
   "source": [
    "np.linalg.solve(v,N_0)"
   ]
  },
  {
   "cell_type": "code",
   "execution_count": 41,
   "id": "9bb3414e",
   "metadata": {},
   "outputs": [],
   "source": [
    "n_k=N_k(N_0,L,10)"
   ]
  },
  {
   "cell_type": "code",
   "execution_count": 47,
   "id": "a31bfad6",
   "metadata": {},
   "outputs": [
    {
     "data": {
      "text/plain": [
       "array([ 26199.3288861 , -24795.55330911,   -137.84580889])"
      ]
     },
     "execution_count": 47,
     "metadata": {},
     "output_type": "execute_result"
    }
   ],
   "source": [
    "n_k_2=N_k_2(N_0,L,10)\n",
    "n_k_2"
   ]
  },
  {
   "cell_type": "code",
   "execution_count": 42,
   "id": "d1a415c4",
   "metadata": {},
   "outputs": [
    {
     "data": {
      "text/plain": [
       "array([[26578.56445312],\n",
       "       [13000.95703125],\n",
       "       [ 8859.52148438]])"
      ]
     },
     "execution_count": 42,
     "metadata": {},
     "output_type": "execute_result"
    }
   ],
   "source": [
    "n_k"
   ]
  },
  {
   "cell_type": "code",
   "execution_count": 32,
   "id": "594b90aa",
   "metadata": {},
   "outputs": [
    {
     "data": {
      "text/plain": [
       "0.30388509326645446"
      ]
     },
     "execution_count": 32,
     "metadata": {},
     "output_type": "execute_result"
    }
   ],
   "source": [
    "n_0_prop=n_k[3][1][0]/(np.sum(n_k[3][1]))\n",
    "n_0_prop"
   ]
  },
  {
   "cell_type": "code",
   "execution_count": null,
   "id": "8d70a118",
   "metadata": {},
   "outputs": [],
   "source": []
  },
  {
   "cell_type": "code",
   "execution_count": null,
   "id": "430e406b",
   "metadata": {},
   "outputs": [],
   "source": []
  }
 ],
 "metadata": {
  "kernelspec": {
   "display_name": "Python 3",
   "language": "python",
   "name": "python3"
  },
  "language_info": {
   "codemirror_mode": {
    "name": "ipython",
    "version": 3
   },
   "file_extension": ".py",
   "mimetype": "text/x-python",
   "name": "python",
   "nbconvert_exporter": "python",
   "pygments_lexer": "ipython3",
   "version": "3.8.8"
  }
 },
 "nbformat": 4,
 "nbformat_minor": 5
}
