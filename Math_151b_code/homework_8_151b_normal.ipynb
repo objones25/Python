{
 "cells": [
  {
   "cell_type": "code",
   "execution_count": 2,
   "id": "d9b5a145",
   "metadata": {},
   "outputs": [],
   "source": [
    "import numpy as np\n",
    "from numpy import linalg\n",
    "from matplotlib import pyplot as plt"
   ]
  },
  {
   "cell_type": "code",
   "execution_count": 3,
   "id": "5b0e5882",
   "metadata": {},
   "outputs": [],
   "source": [
    "xdata=np.arange(1960,2020,10)"
   ]
  },
  {
   "cell_type": "code",
   "execution_count": 4,
   "id": "1faf3dcd",
   "metadata": {},
   "outputs": [],
   "source": [
    "ydata=np.array([179323, 203302, 226542, 249633, 281422, 308746])"
   ]
  },
  {
   "cell_type": "code",
   "execution_count": 5,
   "id": "9f579b86",
   "metadata": {},
   "outputs": [],
   "source": [
    "Amat=np.array([np.ones(6),xdata]).transpose()"
   ]
  },
  {
   "cell_type": "code",
   "execution_count": 6,
   "id": "42201bde",
   "metadata": {},
   "outputs": [],
   "source": [
    "bvec=ydata"
   ]
  },
  {
   "cell_type": "code",
   "execution_count": 7,
   "id": "65b4c692",
   "metadata": {},
   "outputs": [],
   "source": [
    "Anormal=np.matmul(Amat.transpose(),Amat)"
   ]
  },
  {
   "cell_type": "code",
   "execution_count": 8,
   "id": "0dd42e45",
   "metadata": {},
   "outputs": [],
   "source": [
    "bnormal=Amat.transpose().dot(bvec)"
   ]
  },
  {
   "cell_type": "code",
   "execution_count": 9,
   "id": "b4ccd016",
   "metadata": {},
   "outputs": [],
   "source": [
    "xvec=linalg.solve(Anormal,bnormal)"
   ]
  },
  {
   "cell_type": "code",
   "execution_count": 10,
   "id": "8f17f2a6",
   "metadata": {},
   "outputs": [
    {
     "data": {
      "text/plain": [
       "array([-4.88868679e+06,  2.58447429e+03])"
      ]
     },
     "execution_count": 10,
     "metadata": {},
     "output_type": "execute_result"
    }
   ],
   "source": [
    "xvec"
   ]
  },
  {
   "cell_type": "code",
   "execution_count": 24,
   "id": "55a21ac9",
   "metadata": {},
   "outputs": [
    {
     "data": {
      "image/png": "[encoded data removed]",
      "text/plain": [
       "<Figure size 432x288 with 1 Axes>"
      ]
     },
     "metadata": {
      "needs_background": "light"
     },
     "output_type": "display_data"
    }
   ],
   "source": [
    "c_0_A,c_1_A=xvec\n",
    "plt.scatter(xdata,ydata)\n",
    "plt.plot(xdata,xdata*c_1_A+c_0_A)\n",
    "plt.xlabel('Year')\n",
    "plt.ylabel('US pop.')\n",
    "plt.title('US pop. vs. time normal')\n",
    "plt.savefig('US pop vs time normal')"
   ]
  },
  {
   "cell_type": "code",
   "execution_count": 26,
   "id": "27847a79",
   "metadata": {},
   "outputs": [
    {
     "data": {
      "text/plain": [
       "230733.08869696865"
      ]
     },
     "execution_count": 26,
     "metadata": {},
     "output_type": "execute_result"
    }
   ],
   "source": [
    "linalg.cond(Amat)"
   ]
  },
  {
   "cell_type": "code",
   "execution_count": 19,
   "id": "5fab5524",
   "metadata": {},
   "outputs": [
    {
     "data": {
      "text/plain": [
       "53237758117.525375"
      ]
     },
     "execution_count": 19,
     "metadata": {},
     "output_type": "execute_result"
    }
   ],
   "source": [
    "linalg.cond(Anormal)"
   ]
  },
  {
   "cell_type": "code",
   "execution_count": 27,
   "id": "3edea686",
   "metadata": {},
   "outputs": [],
   "source": [
    "Amat_2=np.array([np.ones(6),xdata,xdata**2]).transpose()"
   ]
  },
  {
   "cell_type": "code",
   "execution_count": 31,
   "id": "563b5083",
   "metadata": {},
   "outputs": [],
   "source": [
    "Anormal_2=np.matmul(Amat_2.transpose(),Amat_2)"
   ]
  },
  {
   "cell_type": "code",
   "execution_count": 32,
   "id": "4cdfc3c0",
   "metadata": {},
   "outputs": [],
   "source": [
    "bnormal_2=Amat_2.transpose().dot(bvec)"
   ]
  },
  {
   "cell_type": "code",
   "execution_count": 33,
   "id": "bdeef51a",
   "metadata": {},
   "outputs": [],
   "source": [
    "xvec_2=linalg.solve(Anormal_2,bnormal_2)"
   ]
  },
  {
   "cell_type": "code",
   "execution_count": 34,
   "id": "c1910e45",
   "metadata": {},
   "outputs": [
    {
     "data": {
      "text/plain": [
       "array([ 3.09372630e+07, -3.35148727e+04,  9.09303451e+00])"
      ]
     },
     "execution_count": 34,
     "metadata": {},
     "output_type": "execute_result"
    }
   ],
   "source": [
    "xvec_2"
   ]
  },
  {
   "cell_type": "code",
   "execution_count": 35,
   "id": "25f59edd",
   "metadata": {},
   "outputs": [
    {
     "data": {
      "text/plain": [
       "62250894343.79537"
      ]
     },
     "execution_count": 35,
     "metadata": {},
     "output_type": "execute_result"
    }
   ],
   "source": [
    "linalg.cond(Amat_2)"
   ]
  },
  {
   "cell_type": "code",
   "execution_count": 36,
   "id": "58fb7ddb",
   "metadata": {},
   "outputs": [
    {
     "data": {
      "text/plain": [
       "8.00160109303428e+21"
      ]
     },
     "execution_count": 36,
     "metadata": {},
     "output_type": "execute_result"
    }
   ],
   "source": [
    "linalg.cond(Anormal_2)"
   ]
  },
  {
   "cell_type": "code",
   "execution_count": null,
   "id": "e79c7a5b",
   "metadata": {},
   "outputs": [],
   "source": []
  }
 ],
 "metadata": {
  "kernelspec": {
   "display_name": "Python 3",
   "language": "python",
   "name": "python3"
  },
  "language_info": {
   "codemirror_mode": {
    "name": "ipython",
    "version": 3
   },
   "file_extension": ".py",
   "mimetype": "text/x-python",
   "name": "python",
   "nbconvert_exporter": "python",
   "pygments_lexer": "ipython3",
   "version": "3.8.8"
  }
 },
 "nbformat": 4,
 "nbformat_minor": 5
}
