{
 "cells": [
  {
   "cell_type": "code",
   "execution_count": 2,
   "id": "d9b5a145",
   "metadata": {},
   "outputs": [],
   "source": [
    "import numpy as np\n",
    "from numpy import linalg\n",
    "from matplotlib import pyplot as plt"
   ]
  },
  {
   "cell_type": "code",
   "execution_count": 3,
   "id": "5b0e5882",
   "metadata": {},
   "outputs": [],
   "source": [
    "xdata=np.arange(1960,2020,10)"
   ]
  },
  {
   "cell_type": "code",
   "execution_count": 4,
   "id": "1faf3dcd",
   "metadata": {},
   "outputs": [],
   "source": [
    "ydata=np.array([179323, 203302, 226542, 249633, 281422, 308746])"
   ]
  },
  {
   "cell_type": "code",
   "execution_count": 18,
   "id": "9f579b86",
   "metadata": {},
   "outputs": [],
   "source": [
    "Amat=np.array([np.ones(6),xdata]).transpose()"
   ]
  },
  {
   "cell_type": "code",
   "execution_count": 6,
   "id": "42201bde",
   "metadata": {},
   "outputs": [],
   "source": [
    "bvec=ydata"
   ]
  },
  {
   "cell_type": "code",
   "execution_count": 7,
   "id": "1b2e2344",
   "metadata": {},
   "outputs": [],
   "source": [
    "Q,R=linalg.qr(Amat)"
   ]
  },
  {
   "cell_type": "code",
   "execution_count": 8,
   "id": "63993637",
   "metadata": {},
   "outputs": [],
   "source": [
    "bqr=Q.transpose().dot(bvec)"
   ]
  },
  {
   "cell_type": "code",
   "execution_count": 9,
   "id": "bc5af1fd",
   "metadata": {},
   "outputs": [],
   "source": [
    "xvec=linalg.solve(R,bqr)"
   ]
  },
  {
   "cell_type": "code",
   "execution_count": 10,
   "id": "64e2065e",
   "metadata": {},
   "outputs": [
    {
     "data": {
      "text/plain": [
       "array([-4.88868679e+06,  2.58447429e+03])"
      ]
     },
     "execution_count": 10,
     "metadata": {},
     "output_type": "execute_result"
    }
   ],
   "source": [
    "xvec"
   ]
  },
  {
   "cell_type": "code",
   "execution_count": 17,
   "id": "79eff648",
   "metadata": {},
   "outputs": [
    {
     "data": {
      "image/png": "[encoded data removed]",
      "text/plain": [
       "<Figure size 432x288 with 1 Axes>"
      ]
     },
     "metadata": {
      "needs_background": "light"
     },
     "output_type": "display_data"
    }
   ],
   "source": [
    "c_0,c_1=xvec\n",
    "plt.scatter(xdata,ydata)\n",
    "plt.plot(xdata,xdata*c_1+c_0)\n",
    "plt.xlabel('Year')\n",
    "plt.ylabel('US pop.')\n",
    "plt.title('US pop. vs. time QR')\n",
    "plt.savefig('US pop vs time QR')"
   ]
  },
  {
   "cell_type": "code",
   "execution_count": 12,
   "id": "c96948f4",
   "metadata": {},
   "outputs": [
    {
     "data": {
      "text/plain": [
       "230733.08869696865"
      ]
     },
     "execution_count": 12,
     "metadata": {},
     "output_type": "execute_result"
    }
   ],
   "source": [
    "linalg.cond(Amat)"
   ]
  },
  {
   "cell_type": "code",
   "execution_count": 13,
   "id": "6eb94ca5",
   "metadata": {},
   "outputs": [
    {
     "data": {
      "text/plain": [
       "230733.08869696865"
      ]
     },
     "execution_count": 13,
     "metadata": {},
     "output_type": "execute_result"
    }
   ],
   "source": [
    "linalg.cond(R)"
   ]
  },
  {
   "cell_type": "code",
   "execution_count": 20,
   "id": "3d4e868a",
   "metadata": {},
   "outputs": [],
   "source": [
    "Amat_2=np.array([np.ones(6),xdata,xdata**2]).transpose()"
   ]
  },
  {
   "cell_type": "code",
   "execution_count": 21,
   "id": "7c0fb4c2",
   "metadata": {},
   "outputs": [],
   "source": [
    "Q_2,R_2=linalg.qr(Amat_2)"
   ]
  },
  {
   "cell_type": "code",
   "execution_count": 22,
   "id": "2f124abf",
   "metadata": {},
   "outputs": [
    {
     "data": {
      "text/plain": [
       "62250894343.79537"
      ]
     },
     "execution_count": 22,
     "metadata": {},
     "output_type": "execute_result"
    }
   ],
   "source": [
    "linalg.cond(R_2)"
   ]
  },
  {
   "cell_type": "code",
   "execution_count": 23,
   "id": "d9f3daad",
   "metadata": {},
   "outputs": [
    {
     "data": {
      "text/plain": [
       "62250894343.79537"
      ]
     },
     "execution_count": 23,
     "metadata": {},
     "output_type": "execute_result"
    }
   ],
   "source": [
    "linalg.cond(Amat_2)"
   ]
  },
  {
   "cell_type": "code",
   "execution_count": 24,
   "id": "ec9e3ba1",
   "metadata": {},
   "outputs": [],
   "source": [
    "Amat_3=np.array([np.ones(6),np.arange(0,60,10),np.arange(0,60,10)**2]).transpose()"
   ]
  },
  {
   "cell_type": "code",
   "execution_count": 25,
   "id": "587295b5",
   "metadata": {},
   "outputs": [],
   "source": [
    "Q_3,R_3=linalg.qr(Amat_3)"
   ]
  },
  {
   "cell_type": "code",
   "execution_count": 26,
   "id": "264f7fc6",
   "metadata": {},
   "outputs": [
    {
     "data": {
      "text/plain": [
       "2843.8719526832056"
      ]
     },
     "execution_count": 26,
     "metadata": {},
     "output_type": "execute_result"
    }
   ],
   "source": [
    "linalg.cond(R_3)"
   ]
  },
  {
   "cell_type": "code",
   "execution_count": null,
   "id": "255e15e2",
   "metadata": {},
   "outputs": [],
   "source": []
  }
 ],
 "metadata": {
  "kernelspec": {
   "display_name": "Python 3",
   "language": "python",
   "name": "python3"
  },
  "language_info": {
   "codemirror_mode": {
    "name": "ipython",
    "version": 3
   },
   "file_extension": ".py",
   "mimetype": "text/x-python",
   "name": "python",
   "nbconvert_exporter": "python",
   "pygments_lexer": "ipython3",
   "version": "3.8.8"
  }
 },
 "nbformat": 4,
 "nbformat_minor": 5
}
