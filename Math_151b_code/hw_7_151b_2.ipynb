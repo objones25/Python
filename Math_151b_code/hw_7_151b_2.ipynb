{
 "cells": [
  {
   "cell_type": "code",
   "execution_count": 1,
   "id": "d59b6e88",
   "metadata": {},
   "outputs": [],
   "source": [
    "import numpy as np\n",
    "from numpy import linalg\n",
    "from matplotlib import pyplot as plt\n",
    "from math import sqrt"
   ]
  },
  {
   "cell_type": "code",
   "execution_count": 2,
   "id": "9bafdc0a",
   "metadata": {},
   "outputs": [],
   "source": [
    "def LDU(A):\n",
    "    D=np.diag(np.diagonal(A))\n",
    "    L=-1*(np.tril(A)-D)\n",
    "    U=-1*(np.triu(A)-D)\n",
    "    return D,L,U"
   ]
  },
  {
   "cell_type": "code",
   "execution_count": 3,
   "id": "ff37e7c5",
   "metadata": {},
   "outputs": [],
   "source": [
    "def Jacobi(A,b,x_0,tol=1e-6,n_max=10000):\n",
    "    D,L,U=LDU(A)\n",
    "    n=0\n",
    "    D_inv=linalg.inv(D)\n",
    "    G_j=np.matmul(D_inv,L+U)\n",
    "    c_j=D_inv.dot(b)\n",
    "    while linalg.norm(A.dot(x_0)-b,np.inf)>=tol and n<n_max:\n",
    "        \n",
    "        x_0=G_j.dot(x_0)+c_j\n",
    "        n+=1\n",
    "    return x_0,linalg.norm(A.dot(x_0)-b,np.inf),n"
   ]
  },
  {
   "cell_type": "code",
   "execution_count": 4,
   "id": "1c0381ab",
   "metadata": {},
   "outputs": [],
   "source": [
    "def GS(A,b,x_0,tol=1e-6,n_max=10000):\n",
    "    D,L,U=LDU(A)\n",
    "    n=0\n",
    "    D_L_inv=linalg.inv(D-L)\n",
    "    G_g=np.matmul(D_L_inv,U)\n",
    "    c_g=D_L_inv.dot(b)\n",
    "    while linalg.norm(A.dot(x_0)-b,np.inf)>=tol and n<n_max:\n",
    "        x_0=G_g.dot(x_0)+c_g\n",
    "        n+=1\n",
    "    return x_0,linalg.norm(A.dot(x_0)-b,np.inf),n"
   ]
  },
  {
   "cell_type": "code",
   "execution_count": 5,
   "id": "a8f0d266",
   "metadata": {},
   "outputs": [],
   "source": [
    "def BVP(f,a,b,c,alpha,beta,numpts):\n",
    "    xvec=np.linspace(a,b,numpts+1)\n",
    "    h=xvec[1]-xvec[0]\n",
    "    bvec=f(xvec[1:-1])\n",
    "    bvec[0]=bvec[0]-alpha/h**2\n",
    "    bvec[-1]=bvec[-1]-beta/h**2\n",
    "    A=-1*(2/h**2+c)*np.identity(numpts-1)+np.diag((1/h**2)*np.ones(numpts-2),k=1)+np.diag((1/h**2)*np.ones(numpts-2),k=-1)\n",
    "    return A,bvec"
   ]
  },
  {
   "cell_type": "code",
   "execution_count": 6,
   "id": "524b1d31",
   "metadata": {},
   "outputs": [],
   "source": [
    "f= lambda x:x*0"
   ]
  },
  {
   "cell_type": "code",
   "execution_count": 14,
   "id": "556c5fbf",
   "metadata": {},
   "outputs": [],
   "source": [
    "A,b=BVP(f,0,1,10,0,1,50)"
   ]
  },
  {
   "cell_type": "code",
   "execution_count": 15,
   "id": "2eaa19a0",
   "metadata": {},
   "outputs": [],
   "source": [
    "u_j,res_j,n_j=Jacobi(A,b,np.zeros(np.shape(A)[0]))"
   ]
  },
  {
   "cell_type": "code",
   "execution_count": 16,
   "id": "07af7241",
   "metadata": {},
   "outputs": [],
   "source": [
    "u_g,res_g,n_g=GS(A,b,np.zeros(np.shape(A)[0]))"
   ]
  },
  {
   "cell_type": "code",
   "execution_count": 17,
   "id": "1fa8a801",
   "metadata": {},
   "outputs": [
    {
     "data": {
      "text/plain": [
       "[<matplotlib.lines.Line2D at 0x7fdbe83d2c40>]"
      ]
     },
     "execution_count": 17,
     "metadata": {},
     "output_type": "execute_result"
    },
    {
     "data": {
      "image/png": "[encoded data removed]",
      "text/plain": [
       "<Figure size 432x288 with 1 Axes>"
      ]
     },
     "metadata": {
      "needs_background": "light"
     },
     "output_type": "display_data"
    }
   ],
   "source": [
    "plt.plot(np.linspace(0,1,len(u_j)+2)[1:-1],u_j)"
   ]
  },
  {
   "cell_type": "code",
   "execution_count": 18,
   "id": "06b7ac9c",
   "metadata": {},
   "outputs": [
    {
     "data": {
      "text/plain": [
       "[<matplotlib.lines.Line2D at 0x7fdc487adeb0>]"
      ]
     },
     "execution_count": 18,
     "metadata": {},
     "output_type": "execute_result"
    },
    {
     "data": {
      "image/png": "[encoded data removed]",
      "text/plain": [
       "<Figure size 432x288 with 1 Axes>"
      ]
     },
     "metadata": {
      "needs_background": "light"
     },
     "output_type": "display_data"
    }
   ],
   "source": [
    "plt.plot(np.linspace(0,1,len(u_g)+2)[1:-1],u_g)"
   ]
  },
  {
   "cell_type": "code",
   "execution_count": 19,
   "id": "4f97a6dc",
   "metadata": {},
   "outputs": [
    {
     "data": {
      "text/plain": [
       "[<matplotlib.lines.Line2D at 0x7fdc4888e310>]"
      ]
     },
     "execution_count": 19,
     "metadata": {},
     "output_type": "execute_result"
    },
    {
     "data": {
      "image/png": "[encoded data removed]",
      "text/plain": [
       "<Figure size 432x288 with 1 Axes>"
      ]
     },
     "metadata": {
      "needs_background": "light"
     },
     "output_type": "display_data"
    }
   ],
   "source": [
    "plt.plot(np.linspace(0,1,np.shape(A)[0]+2)[1:-1],linalg.inv(A).dot(b))"
   ]
  },
  {
   "cell_type": "code",
   "execution_count": 20,
   "id": "f4dea9bb",
   "metadata": {},
   "outputs": [
    {
     "data": {
      "text/plain": [
       "4115"
      ]
     },
     "execution_count": 20,
     "metadata": {},
     "output_type": "execute_result"
    }
   ],
   "source": [
    "n_j"
   ]
  },
  {
   "cell_type": "code",
   "execution_count": 21,
   "id": "14c2e705",
   "metadata": {},
   "outputs": [
    {
     "data": {
      "text/plain": [
       "1983"
      ]
     },
     "execution_count": 21,
     "metadata": {},
     "output_type": "execute_result"
    }
   ],
   "source": [
    "n_g"
   ]
  },
  {
   "cell_type": "code",
   "execution_count": null,
   "id": "90715609",
   "metadata": {},
   "outputs": [],
   "source": []
  }
 ],
 "metadata": {
  "kernelspec": {
   "display_name": "Python 3",
   "language": "python",
   "name": "python3"
  },
  "language_info": {
   "codemirror_mode": {
    "name": "ipython",
    "version": 3
   },
   "file_extension": ".py",
   "mimetype": "text/x-python",
   "name": "python",
   "nbconvert_exporter": "python",
   "pygments_lexer": "ipython3",
   "version": "3.8.8"
  }
 },
 "nbformat": 4,
 "nbformat_minor": 5
}
