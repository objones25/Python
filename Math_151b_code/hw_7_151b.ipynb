{
 "cells": [
  {
   "cell_type": "code",
   "execution_count": 1,
   "id": "dc17a427",
   "metadata": {},
   "outputs": [],
   "source": [
    "import numpy as np\n",
    "from numpy import linalg"
   ]
  },
  {
   "cell_type": "code",
   "execution_count": 2,
   "id": "b318920b",
   "metadata": {},
   "outputs": [],
   "source": [
    "D=np.diag([10,10,8,5])"
   ]
  },
  {
   "cell_type": "code",
   "execution_count": 5,
   "id": "4fdbca87",
   "metadata": {},
   "outputs": [],
   "source": [
    "L=np.diag([-5,4,1],k=-1)"
   ]
  },
  {
   "cell_type": "code",
   "execution_count": 6,
   "id": "342a223c",
   "metadata": {},
   "outputs": [],
   "source": [
    "U=np.diag([-5,4,1],k=1)"
   ]
  },
  {
   "cell_type": "code",
   "execution_count": 10,
   "id": "eda9a7f3",
   "metadata": {},
   "outputs": [],
   "source": [
    "b=np.array([6,25,-11,-11])"
   ]
  },
  {
   "cell_type": "code",
   "execution_count": null,
   "id": "22a8553c",
   "metadata": {},
   "outputs": [],
   "source": [
    "x_0=np.array([[0,0,0,0]]).transpose()"
   ]
  },
  {
   "cell_type": "code",
   "execution_count": 17,
   "id": "d15d069e",
   "metadata": {},
   "outputs": [],
   "source": [
    "GS_2 = lambda x,D,L,U,b: linalg.inv(D-L)*(U)+linalg.inv(D-L)*b"
   ]
  },
  {
   "cell_type": "code",
   "execution_count": 169,
   "id": "d7225039",
   "metadata": {},
   "outputs": [],
   "source": [
    "def Jacobi(x_0,D,L,U,b,n=100,tol=1e-6):\n",
    "    A=D-L-U\n",
    "    G_j=np.matmul(linalg.inv(D),L+U)\n",
    "    c_j=np.matmul(linalg.inv(D),b)\n",
    "    x=x_0\n",
    "    for i in np.arange(n):\n",
    "        x_0=np.matmul(G_j,x_0)+c_j\n",
    "        x=np.append(x,x_0,axis=1)\n",
    "        if linalg.norm(np.matmul(A,x_0)-b,np.inf)<tol:\n",
    "            return x_0,linalg.norm(np.matmul(A,x_0)-b,np.inf),i\n",
    "    return x,x_0"
   ]
  },
  {
   "cell_type": "code",
   "execution_count": 170,
   "id": "6cc40ee1",
   "metadata": {},
   "outputs": [],
   "source": [
    "def GS(x_0,D,L,U,b,n=100,tol=1e-6):\n",
    "    A=D-L-U\n",
    "    G_g=np.matmul(linalg.inv(D-L),U)\n",
    "    c_g=np.matmul(linalg.inv(D-L),b)\n",
    "    x=x_0\n",
    "    for i in np.arange(n):\n",
    "        x_0=np.matmul(G_g,x_0)+c_g\n",
    "        x=np.append(x,x_0,axis=1)\n",
    "        if linalg.norm(np.matmul(A,x_0)-b)<tol:\n",
    "            return x_0,linalg.norm(np.matmul(A,x_0)-b,np.inf),i\n",
    "    return x"
   ]
  },
  {
   "cell_type": "code",
   "execution_count": 171,
   "id": "b4c7dc78",
   "metadata": {},
   "outputs": [
    {
     "data": {
      "text/plain": [
       "(array([[-0.79764695],\n",
       "        [ 2.79529409],\n",
       "        [-0.25882365],\n",
       "        [-2.25176471]]),\n",
       " 9.688194344548151e-07,\n",
       " 42)"
      ]
     },
     "execution_count": 171,
     "metadata": {},
     "output_type": "execute_result"
    }
   ],
   "source": [
    "Jacobi(x_0,D,L,U,b)"
   ]
  },
  {
   "cell_type": "code",
   "execution_count": 172,
   "id": "84518e3c",
   "metadata": {},
   "outputs": [
    {
     "data": {
      "text/plain": [
       "(array([[-0.79764691],\n",
       "        [ 2.79529398],\n",
       "        [-0.2588236 ],\n",
       "        [-2.25176472]]),\n",
       " 7.967884450010843e-07,\n",
       " 19)"
      ]
     },
     "execution_count": 172,
     "metadata": {},
     "output_type": "execute_result"
    }
   ],
   "source": [
    "GS(x_0,D,L,U,b)"
   ]
  },
  {
   "cell_type": "code",
   "execution_count": 175,
   "id": "4b735fd4",
   "metadata": {},
   "outputs": [],
   "source": [
    "B=np.array([[1,1,2,3],\n",
    "            [4,4,5,7],\n",
    "            [6,3,2,1],\n",
    "            [9,8,7,6]])"
   ]
  },
  {
   "cell_type": "code",
   "execution_count": 182,
   "id": "74783d4d",
   "metadata": {},
   "outputs": [],
   "source": [
    "ind=np.diag_indices_from(B)"
   ]
  },
  {
   "cell_type": "code",
   "execution_count": 193,
   "id": "2f908123",
   "metadata": {},
   "outputs": [],
   "source": [
    "def LDU(A):\n",
    "    D=np.diag(np.diagonal(A))\n",
    "    L=-1*(np.tril(A)-D)\n",
    "    U=-1*(np.triu(A)-D)\n",
    "    print(D,L,U)"
   ]
  },
  {
   "cell_type": "code",
   "execution_count": 7,
   "id": "23c7e39a",
   "metadata": {},
   "outputs": [
    {
     "data": {
      "text/plain": [
       "array([[ 0.   , -0.5  ,  0.   ,  0.   ],\n",
       "       [-0.5  ,  0.   ,  0.4  ,  0.   ],\n",
       "       [ 0.   ,  0.5  ,  0.   ,  0.125],\n",
       "       [ 0.   ,  0.   ,  0.2  ,  0.   ]])"
      ]
     },
     "execution_count": 7,
     "metadata": {},
     "output_type": "execute_result"
    }
   ],
   "source": [
    "np.matmul(linalg.inv(D),U+L)"
   ]
  },
  {
   "cell_type": "code",
   "execution_count": 11,
   "id": "8af1f36c",
   "metadata": {},
   "outputs": [
    {
     "data": {
      "text/plain": [
       "array([ 0.6  ,  2.5  , -1.375, -2.2  ])"
      ]
     },
     "execution_count": 11,
     "metadata": {},
     "output_type": "execute_result"
    }
   ],
   "source": [
    "linalg.inv(D).dot(b)"
   ]
  },
  {
   "cell_type": "code",
   "execution_count": 14,
   "id": "d79c4bbb",
   "metadata": {},
   "outputs": [
    {
     "data": {
      "text/plain": [
       "-0.65"
      ]
     },
     "execution_count": 14,
     "metadata": {},
     "output_type": "execute_result"
    }
   ],
   "source": [
    "0.6-5/4"
   ]
  },
  {
   "cell_type": "code",
   "execution_count": 13,
   "id": "de69d774",
   "metadata": {},
   "outputs": [
    {
     "data": {
      "text/plain": [
       "1.25"
      ]
     },
     "execution_count": 13,
     "metadata": {},
     "output_type": "execute_result"
    }
   ],
   "source": [
    "5/4"
   ]
  },
  {
   "cell_type": "code",
   "execution_count": 16,
   "id": "5cfc020c",
   "metadata": {},
   "outputs": [
    {
     "data": {
      "text/plain": [
       "1.6500000000000001"
      ]
     },
     "execution_count": 16,
     "metadata": {},
     "output_type": "execute_result"
    }
   ],
   "source": [
    "2.5-0.3-11/8*2/5"
   ]
  },
  {
   "cell_type": "code",
   "execution_count": 17,
   "id": "cfdf325e",
   "metadata": {},
   "outputs": [
    {
     "data": {
      "text/plain": [
       "-2.475"
      ]
     },
     "execution_count": 17,
     "metadata": {},
     "output_type": "execute_result"
    }
   ],
   "source": [
    "-99/40"
   ]
  },
  {
   "cell_type": "code",
   "execution_count": 20,
   "id": "c07403e9",
   "metadata": {},
   "outputs": [
    {
     "data": {
      "text/plain": [
       "array([[ 0.   , -0.5  ,  0.   ,  0.   ],\n",
       "       [ 0.   ,  0.25 ,  0.4  ,  0.   ],\n",
       "       [ 0.   ,  0.125,  0.2  ,  0.125],\n",
       "       [ 0.   ,  0.025,  0.04 ,  0.025]])"
      ]
     },
     "execution_count": 20,
     "metadata": {},
     "output_type": "execute_result"
    }
   ],
   "source": [
    "np.matmul(linalg.inv(D-L),U)"
   ]
  },
  {
   "cell_type": "code",
   "execution_count": 23,
   "id": "ae0be5be",
   "metadata": {},
   "outputs": [
    {
     "data": {
      "text/plain": [
       "array([ 0.6  ,  2.2  , -0.275, -2.255])"
      ]
     },
     "execution_count": 23,
     "metadata": {},
     "output_type": "execute_result"
    }
   ],
   "source": [
    "linalg.inv(D-L).dot(b)"
   ]
  },
  {
   "cell_type": "code",
   "execution_count": 33,
   "id": "90881b07",
   "metadata": {},
   "outputs": [
    {
     "data": {
      "text/plain": [
       "-451.0"
      ]
     },
     "execution_count": 33,
     "metadata": {},
     "output_type": "execute_result"
    }
   ],
   "source": [
    "-2.255*200"
   ]
  },
  {
   "cell_type": "code",
   "execution_count": 34,
   "id": "34b48e17",
   "metadata": {},
   "outputs": [
    {
     "data": {
      "text/plain": [
       "-2.255"
      ]
     },
     "execution_count": 34,
     "metadata": {},
     "output_type": "execute_result"
    }
   ],
   "source": [
    "-451/200"
   ]
  },
  {
   "cell_type": "code",
   "execution_count": 35,
   "id": "87b769f0",
   "metadata": {},
   "outputs": [
    {
     "data": {
      "text/plain": [
       "2.64"
      ]
     },
     "execution_count": 35,
     "metadata": {},
     "output_type": "execute_result"
    }
   ],
   "source": [
    "11/4-11/100"
   ]
  },
  {
   "cell_type": "code",
   "execution_count": 41,
   "id": "abf9ed37",
   "metadata": {},
   "outputs": [
    {
     "data": {
      "text/plain": [
       "8000"
      ]
     },
     "execution_count": 41,
     "metadata": {},
     "output_type": "execute_result"
    }
   ],
   "source": [
    "40*200"
   ]
  },
  {
   "cell_type": "code",
   "execution_count": 42,
   "id": "32c88f35",
   "metadata": {},
   "outputs": [
    {
     "data": {
      "text/plain": [
       "18491"
      ]
     },
     "execution_count": 42,
     "metadata": {},
     "output_type": "execute_result"
    }
   ],
   "source": [
    "41*451"
   ]
  },
  {
   "cell_type": "code",
   "execution_count": 38,
   "id": "4a81dde8",
   "metadata": {},
   "outputs": [
    {
     "data": {
      "text/plain": [
       "-539"
      ]
     },
     "execution_count": 38,
     "metadata": {},
     "output_type": "execute_result"
    }
   ],
   "source": [
    "11*40-16*33-451"
   ]
  },
  {
   "cell_type": "code",
   "execution_count": 39,
   "id": "8bb42df0",
   "metadata": {},
   "outputs": [
    {
     "data": {
      "text/plain": [
       "-0.336875"
      ]
     },
     "execution_count": 39,
     "metadata": {},
     "output_type": "execute_result"
    }
   ],
   "source": [
    "-539/1600"
   ]
  },
  {
   "cell_type": "code",
   "execution_count": 43,
   "id": "1941a612",
   "metadata": {},
   "outputs": [
    {
     "data": {
      "text/plain": [
       "-2.267375"
      ]
     },
     "execution_count": 43,
     "metadata": {},
     "output_type": "execute_result"
    }
   ],
   "source": [
    "11/200-11/1000-18491/8000"
   ]
  },
  {
   "cell_type": "code",
   "execution_count": 44,
   "id": "9bc0ba82",
   "metadata": {},
   "outputs": [
    {
     "data": {
      "text/plain": [
       "-18139"
      ]
     },
     "execution_count": 44,
     "metadata": {},
     "output_type": "execute_result"
    }
   ],
   "source": [
    "11*40-11*8-18491"
   ]
  },
  {
   "cell_type": "code",
   "execution_count": null,
   "id": "e3946bd0",
   "metadata": {},
   "outputs": [],
   "source": []
  }
 ],
 "metadata": {
  "kernelspec": {
   "display_name": "Python 3",
   "language": "python",
   "name": "python3"
  },
  "language_info": {
   "codemirror_mode": {
    "name": "ipython",
    "version": 3
   },
   "file_extension": ".py",
   "mimetype": "text/x-python",
   "name": "python",
   "nbconvert_exporter": "python",
   "pygments_lexer": "ipython3",
   "version": "3.8.8"
  }
 },
 "nbformat": 4,
 "nbformat_minor": 5
}
